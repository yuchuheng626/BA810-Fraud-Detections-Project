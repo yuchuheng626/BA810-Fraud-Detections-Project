{
  "cells": [
    {
      "cell_type": "markdown",
      "source": [
        "#**BA810 Team 9 Fraud Detection**\n",
        "Contributers: Chuheng Yu, Linting Wang, Yuhan Wang, Tyler Christoforo"
      ],
      "metadata": {
        "id": "LTEwqXJYaEUO"
      }
    },
    {
      "cell_type": "markdown",
      "metadata": {
        "id": "PBtfBQSximiI"
      },
      "source": [
        "##Data Preparation\n",
        "\n"
      ]
    },
    {
      "cell_type": "markdown",
      "metadata": {
        "id": "QxiBCNS6jfK0"
      },
      "source": [
        "##Import all packages we need"
      ]
    },
    {
      "cell_type": "code",
      "execution_count": null,
      "metadata": {
        "id": "COhphZO0TACB"
      },
      "outputs": [],
      "source": [
        "import pandas as pd\n",
        "from google.cloud import storage\n",
        "from google.colab import auth\n",
        "import seaborn as sns\n",
        "import numpy as np\n",
        "import matplotlib.pyplot as plt\n",
        "import plotly.express as px\n",
        "from imblearn.under_sampling import RandomUnderSampler\n",
        "from collections import Counter\n",
        "from imblearn.over_sampling import RandomOverSampler\n",
        "from sklearn.pipeline import Pipeline, make_pipeline\n",
        "from imblearn.pipeline import Pipeline as pip\n",
        "from sklearn import set_config\n",
        "from sklearn.ensemble import RandomForestClassifier\n",
        "from sklearn.model_selection import cross_val_score\n",
        "from sklearn.preprocessing import FunctionTransformer,StandardScaler,OneHotEncoder\n",
        "from sklearn.compose import ColumnTransformer\n",
        "from sklearn.impute import SimpleImputer\n",
        "from sklearn.experimental import enable_iterative_imputer\n",
        "from sklearn.impute import IterativeImputer\n",
        "from sklearn.linear_model import LogisticRegression\n",
        "from sklearn.tree import DecisionTreeClassifier\n",
        "from sklearn.ensemble import RandomForestClassifier\n",
        "from sklearn.svm import SVC\n",
        "from sklearn.metrics import accuracy_score\n",
        "from sklearn.metrics import roc_auc_score\n",
        "from sklearn.metrics import balanced_accuracy_score\n",
        "from sklearn.metrics import recall_score\n",
        "from sklearn.metrics import precision_score\n",
        "from sklearn.metrics import confusion_matrix\n",
        "from scipy.stats import loguniform,randint\n",
        "from sklearn.model_selection import GridSearchCV\n",
        "from sklearn.model_selection import RandomizedSearchCV\n",
        "from sklearn.experimental import enable_halving_search_cv\n",
        "from sklearn.model_selection import HalvingGridSearchCV\n",
        "from sklearn.metrics import ConfusionMatrixDisplay\n",
        "from sklearn.metrics import classification_report\n",
        "from sklearn.metrics import r2_score, mean_squared_error"
      ]
    },
    {
      "cell_type": "markdown",
      "metadata": {
        "id": "ITqO-CYzitT-"
      },
      "source": [
        "##Mount the drive and import the dataset"
      ]
    },
    {
      "cell_type": "code",
      "execution_count": null,
      "metadata": {
        "colab": {
          "base_uri": "https://localhost:8080/"
        },
        "id": "r-E9hBT0WE-T",
        "outputId": "f325c896-5aa1-438d-d279-91f53d31458e"
      },
      "outputs": [
        {
          "output_type": "stream",
          "name": "stdout",
          "text": [
            "Mounted at /content/drive\n"
          ]
        }
      ],
      "source": [
        "from google.colab import drive\n",
        "drive.mount('/content/drive')"
      ]
    },
    {
      "cell_type": "code",
      "execution_count": null,
      "metadata": {
        "colab": {
          "base_uri": "https://localhost:8080/",
          "height": 206
        },
        "id": "Y_rwWNMxXNZ2",
        "outputId": "5e9a2b78-0e70-4084-b812-9700a8d2277f"
      },
      "outputs": [
        {
          "output_type": "execute_result",
          "data": {
            "text/plain": [
              "   step      type    amount     nameOrig  oldbalanceOrg  newbalanceOrig  \\\n",
              "0     1   PAYMENT   9839.64  C1231006815       170136.0       160296.36   \n",
              "1     1   PAYMENT   1864.28  C1666544295        21249.0        19384.72   \n",
              "2     1  TRANSFER    181.00  C1305486145          181.0            0.00   \n",
              "3     1  CASH_OUT    181.00   C840083671          181.0            0.00   \n",
              "4     1   PAYMENT  11668.14  C2048537720        41554.0        29885.86   \n",
              "\n",
              "      nameDest  oldbalanceDest  newbalanceDest  isFraud  isFlaggedFraud  \n",
              "0  M1979787155             0.0             0.0        0               0  \n",
              "1  M2044282225             0.0             0.0        0               0  \n",
              "2   C553264065             0.0             0.0        1               0  \n",
              "3    C38997010         21182.0             0.0        1               0  \n",
              "4  M1230701703             0.0             0.0        0               0  "
            ],
            "text/html": [
              "\n",
              "  <div id=\"df-46341bad-95ef-4497-a76d-afaf92ffcc12\">\n",
              "    <div class=\"colab-df-container\">\n",
              "      <div>\n",
              "<style scoped>\n",
              "    .dataframe tbody tr th:only-of-type {\n",
              "        vertical-align: middle;\n",
              "    }\n",
              "\n",
              "    .dataframe tbody tr th {\n",
              "        vertical-align: top;\n",
              "    }\n",
              "\n",
              "    .dataframe thead th {\n",
              "        text-align: right;\n",
              "    }\n",
              "</style>\n",
              "<table border=\"1\" class=\"dataframe\">\n",
              "  <thead>\n",
              "    <tr style=\"text-align: right;\">\n",
              "      <th></th>\n",
              "      <th>step</th>\n",
              "      <th>type</th>\n",
              "      <th>amount</th>\n",
              "      <th>nameOrig</th>\n",
              "      <th>oldbalanceOrg</th>\n",
              "      <th>newbalanceOrig</th>\n",
              "      <th>nameDest</th>\n",
              "      <th>oldbalanceDest</th>\n",
              "      <th>newbalanceDest</th>\n",
              "      <th>isFraud</th>\n",
              "      <th>isFlaggedFraud</th>\n",
              "    </tr>\n",
              "  </thead>\n",
              "  <tbody>\n",
              "    <tr>\n",
              "      <th>0</th>\n",
              "      <td>1</td>\n",
              "      <td>PAYMENT</td>\n",
              "      <td>9839.64</td>\n",
              "      <td>C1231006815</td>\n",
              "      <td>170136.0</td>\n",
              "      <td>160296.36</td>\n",
              "      <td>M1979787155</td>\n",
              "      <td>0.0</td>\n",
              "      <td>0.0</td>\n",
              "      <td>0</td>\n",
              "      <td>0</td>\n",
              "    </tr>\n",
              "    <tr>\n",
              "      <th>1</th>\n",
              "      <td>1</td>\n",
              "      <td>PAYMENT</td>\n",
              "      <td>1864.28</td>\n",
              "      <td>C1666544295</td>\n",
              "      <td>21249.0</td>\n",
              "      <td>19384.72</td>\n",
              "      <td>M2044282225</td>\n",
              "      <td>0.0</td>\n",
              "      <td>0.0</td>\n",
              "      <td>0</td>\n",
              "      <td>0</td>\n",
              "    </tr>\n",
              "    <tr>\n",
              "      <th>2</th>\n",
              "      <td>1</td>\n",
              "      <td>TRANSFER</td>\n",
              "      <td>181.00</td>\n",
              "      <td>C1305486145</td>\n",
              "      <td>181.0</td>\n",
              "      <td>0.00</td>\n",
              "      <td>C553264065</td>\n",
              "      <td>0.0</td>\n",
              "      <td>0.0</td>\n",
              "      <td>1</td>\n",
              "      <td>0</td>\n",
              "    </tr>\n",
              "    <tr>\n",
              "      <th>3</th>\n",
              "      <td>1</td>\n",
              "      <td>CASH_OUT</td>\n",
              "      <td>181.00</td>\n",
              "      <td>C840083671</td>\n",
              "      <td>181.0</td>\n",
              "      <td>0.00</td>\n",
              "      <td>C38997010</td>\n",
              "      <td>21182.0</td>\n",
              "      <td>0.0</td>\n",
              "      <td>1</td>\n",
              "      <td>0</td>\n",
              "    </tr>\n",
              "    <tr>\n",
              "      <th>4</th>\n",
              "      <td>1</td>\n",
              "      <td>PAYMENT</td>\n",
              "      <td>11668.14</td>\n",
              "      <td>C2048537720</td>\n",
              "      <td>41554.0</td>\n",
              "      <td>29885.86</td>\n",
              "      <td>M1230701703</td>\n",
              "      <td>0.0</td>\n",
              "      <td>0.0</td>\n",
              "      <td>0</td>\n",
              "      <td>0</td>\n",
              "    </tr>\n",
              "  </tbody>\n",
              "</table>\n",
              "</div>\n",
              "      <button class=\"colab-df-convert\" onclick=\"convertToInteractive('df-46341bad-95ef-4497-a76d-afaf92ffcc12')\"\n",
              "              title=\"Convert this dataframe to an interactive table.\"\n",
              "              style=\"display:none;\">\n",
              "        \n",
              "  <svg xmlns=\"http://www.w3.org/2000/svg\" height=\"24px\"viewBox=\"0 0 24 24\"\n",
              "       width=\"24px\">\n",
              "    <path d=\"M0 0h24v24H0V0z\" fill=\"none\"/>\n",
              "    <path d=\"M18.56 5.44l.94 2.06.94-2.06 2.06-.94-2.06-.94-.94-2.06-.94 2.06-2.06.94zm-11 1L8.5 8.5l.94-2.06 2.06-.94-2.06-.94L8.5 2.5l-.94 2.06-2.06.94zm10 10l.94 2.06.94-2.06 2.06-.94-2.06-.94-.94-2.06-.94 2.06-2.06.94z\"/><path d=\"M17.41 7.96l-1.37-1.37c-.4-.4-.92-.59-1.43-.59-.52 0-1.04.2-1.43.59L10.3 9.45l-7.72 7.72c-.78.78-.78 2.05 0 2.83L4 21.41c.39.39.9.59 1.41.59.51 0 1.02-.2 1.41-.59l7.78-7.78 2.81-2.81c.8-.78.8-2.07 0-2.86zM5.41 20L4 18.59l7.72-7.72 1.47 1.35L5.41 20z\"/>\n",
              "  </svg>\n",
              "      </button>\n",
              "      \n",
              "  <style>\n",
              "    .colab-df-container {\n",
              "      display:flex;\n",
              "      flex-wrap:wrap;\n",
              "      gap: 12px;\n",
              "    }\n",
              "\n",
              "    .colab-df-convert {\n",
              "      background-color: #E8F0FE;\n",
              "      border: none;\n",
              "      border-radius: 50%;\n",
              "      cursor: pointer;\n",
              "      display: none;\n",
              "      fill: #1967D2;\n",
              "      height: 32px;\n",
              "      padding: 0 0 0 0;\n",
              "      width: 32px;\n",
              "    }\n",
              "\n",
              "    .colab-df-convert:hover {\n",
              "      background-color: #E2EBFA;\n",
              "      box-shadow: 0px 1px 2px rgba(60, 64, 67, 0.3), 0px 1px 3px 1px rgba(60, 64, 67, 0.15);\n",
              "      fill: #174EA6;\n",
              "    }\n",
              "\n",
              "    [theme=dark] .colab-df-convert {\n",
              "      background-color: #3B4455;\n",
              "      fill: #D2E3FC;\n",
              "    }\n",
              "\n",
              "    [theme=dark] .colab-df-convert:hover {\n",
              "      background-color: #434B5C;\n",
              "      box-shadow: 0px 1px 3px 1px rgba(0, 0, 0, 0.15);\n",
              "      filter: drop-shadow(0px 1px 2px rgba(0, 0, 0, 0.3));\n",
              "      fill: #FFFFFF;\n",
              "    }\n",
              "  </style>\n",
              "\n",
              "      <script>\n",
              "        const buttonEl =\n",
              "          document.querySelector('#df-46341bad-95ef-4497-a76d-afaf92ffcc12 button.colab-df-convert');\n",
              "        buttonEl.style.display =\n",
              "          google.colab.kernel.accessAllowed ? 'block' : 'none';\n",
              "\n",
              "        async function convertToInteractive(key) {\n",
              "          const element = document.querySelector('#df-46341bad-95ef-4497-a76d-afaf92ffcc12');\n",
              "          const dataTable =\n",
              "            await google.colab.kernel.invokeFunction('convertToInteractive',\n",
              "                                                     [key], {});\n",
              "          if (!dataTable) return;\n",
              "\n",
              "          const docLinkHtml = 'Like what you see? Visit the ' +\n",
              "            '<a target=\"_blank\" href=https://colab.research.google.com/notebooks/data_table.ipynb>data table notebook</a>'\n",
              "            + ' to learn more about interactive tables.';\n",
              "          element.innerHTML = '';\n",
              "          dataTable['output_type'] = 'display_data';\n",
              "          await google.colab.output.renderOutput(dataTable, element);\n",
              "          const docLink = document.createElement('div');\n",
              "          docLink.innerHTML = docLinkHtml;\n",
              "          element.appendChild(docLink);\n",
              "        }\n",
              "      </script>\n",
              "    </div>\n",
              "  </div>\n",
              "  "
            ]
          },
          "metadata": {},
          "execution_count": 4
        }
      ],
      "source": [
        "data_folder = '/content/drive/Shareddrives/BA810/'\n",
        "data = pd.read_csv(data_folder + 'onlinefraud.csv')\n",
        "data.head()"
      ]
    },
    {
      "cell_type": "markdown",
      "metadata": {
        "id": "SGguz4n02u4U"
      },
      "source": [
        "## Data Description\n",
        "\n",
        "### Colomn Description\n",
        "step:   represents a unit of time where 1 step equals 1 hour.\n",
        "\n",
        "type:   type of online transaction. \n",
        "\n",
        "amount: the amount of the transaction\n",
        "\n",
        "nameOrig: customer starting the transaction\n",
        "\n",
        "oldbalanceOrg: balance before the transaction\n",
        "\n",
        "newbalanceOrig: balance after the transaction\n",
        "\n",
        "nameDest: recipient of the transaction\n",
        "\n",
        "oldbalanceDest: initial balance of recipient before the transaction\n",
        "\n",
        "newbalanceDest: the new balance of recipient after the transaction\n",
        "\n",
        "isFraud: fraud transaction"
      ]
    },
    {
      "cell_type": "markdown",
      "metadata": {
        "id": "eebZUSjEnyao"
      },
      "source": [
        "### Data description"
      ]
    },
    {
      "cell_type": "code",
      "execution_count": null,
      "metadata": {
        "colab": {
          "base_uri": "https://localhost:8080/"
        },
        "id": "RckPDYt8ZpNZ",
        "outputId": "66fdf5c4-b038-481a-f427-cfd73e85541f"
      },
      "outputs": [
        {
          "output_type": "stream",
          "name": "stdout",
          "text": [
            "<class 'pandas.core.frame.DataFrame'>\n",
            "RangeIndex: 6362620 entries, 0 to 6362619\n",
            "Data columns (total 10 columns):\n",
            " #   Column          Dtype  \n",
            "---  ------          -----  \n",
            " 0   step            int64  \n",
            " 1   type            object \n",
            " 2   amount          float64\n",
            " 3   nameOrig        object \n",
            " 4   oldbalanceOrg   float64\n",
            " 5   newbalanceOrig  float64\n",
            " 6   nameDest        object \n",
            " 7   oldbalanceDest  float64\n",
            " 8   newbalanceDest  float64\n",
            " 9   isFraud         int64  \n",
            "dtypes: float64(5), int64(2), object(3)\n",
            "memory usage: 485.4+ MB\n"
          ]
        }
      ],
      "source": [
        "#drop the 'isFlaggedFraud' colomn\n",
        "#data['isFraud'] = data['isFraud'].astype('category') ## need comment?\n",
        "data = data.drop(['isFlaggedFraud'], axis=1)\n",
        "data.info()"
      ]
    },
    {
      "cell_type": "code",
      "execution_count": null,
      "metadata": {
        "colab": {
          "base_uri": "https://localhost:8080/"
        },
        "id": "wo7esABH15RV",
        "outputId": "4b192a82-ba7d-40f4-85c2-85e87bf3c17c"
      },
      "outputs": [
        {
          "output_type": "stream",
          "name": "stdout",
          "text": [
            "<class 'pandas.core.frame.DataFrame'>\n",
            "Int64Index: 8213 entries, 2 to 6362619\n",
            "Data columns (total 10 columns):\n",
            " #   Column          Non-Null Count  Dtype  \n",
            "---  ------          --------------  -----  \n",
            " 0   step            8213 non-null   int64  \n",
            " 1   type            8213 non-null   object \n",
            " 2   amount          8213 non-null   float64\n",
            " 3   nameOrig        8213 non-null   object \n",
            " 4   oldbalanceOrg   8213 non-null   float64\n",
            " 5   newbalanceOrig  8213 non-null   float64\n",
            " 6   nameDest        8213 non-null   object \n",
            " 7   oldbalanceDest  8213 non-null   float64\n",
            " 8   newbalanceDest  8213 non-null   float64\n",
            " 9   isFraud         8213 non-null   int64  \n",
            "dtypes: float64(5), int64(2), object(3)\n",
            "memory usage: 705.8+ KB\n"
          ]
        },
        {
          "output_type": "execute_result",
          "data": {
            "text/plain": [
              "count         8213\n",
              "unique           2\n",
              "top       CASH_OUT\n",
              "freq          4116\n",
              "Name: type, dtype: object"
            ]
          },
          "metadata": {},
          "execution_count": 6
        }
      ],
      "source": [
        "#Check the fraud data\n",
        "Fraud = data[data['isFraud']== 1]\n",
        "Fraud.info()\n",
        "Fraud['type'].describe()"
      ]
    },
    {
      "cell_type": "code",
      "execution_count": null,
      "metadata": {
        "colab": {
          "base_uri": "https://localhost:8080/"
        },
        "id": "7CJClQc1smVY",
        "outputId": "2d578906-6762-47e1-9a98-1cdb81e0822a"
      },
      "outputs": [
        {
          "output_type": "execute_result",
          "data": {
            "text/plain": [
              "0    6354407\n",
              "1       8213\n",
              "Name: isFraud, dtype: int64"
            ]
          },
          "metadata": {},
          "execution_count": 7
        }
      ],
      "source": [
        "data['isFraud'].value_counts()"
      ]
    },
    {
      "cell_type": "markdown",
      "metadata": {
        "id": "uiRVJUekmC93"
      },
      "source": [
        "## Visualization"
      ]
    },
    {
      "cell_type": "code",
      "execution_count": null,
      "metadata": {
        "colab": {
          "base_uri": "https://localhost:8080/",
          "height": 417
        },
        "id": "HaiLgfv4D-s9",
        "outputId": "aecacc94-1aa7-4f63-810f-3dd2d52f710b"
      },
      "outputs": [
        {
          "output_type": "display_data",
          "data": {
            "text/html": [
              "<html>\n",
              "<head><meta charset=\"utf-8\" /></head>\n",
              "<body>\n",
              "    <div>            <script src=\"https://cdnjs.cloudflare.com/ajax/libs/mathjax/2.7.5/MathJax.js?config=TeX-AMS-MML_SVG\"></script><script type=\"text/javascript\">if (window.MathJax) {MathJax.Hub.Config({SVG: {font: \"STIX-Web\"}});}</script>                <script type=\"text/javascript\">window.PlotlyConfig = {MathJaxConfig: 'local'};</script>\n",
              "        <script src=\"https://cdn.plot.ly/plotly-2.8.3.min.js\"></script>                <div id=\"228ff209-ba8b-4903-883f-0497887e6bda\" class=\"plotly-graph-div\" style=\"height:400px; width:700px;\"></div>            <script type=\"text/javascript\">                                    window.PLOTLYENV=window.PLOTLYENV || {};                                    if (document.getElementById(\"228ff209-ba8b-4903-883f-0497887e6bda\")) {                    Plotly.newPlot(                        \"228ff209-ba8b-4903-883f-0497887e6bda\",                        [{\"domain\":{\"x\":[0.0,1.0],\"y\":[0.0,1.0]},\"hole\":0.5,\"hovertemplate\":\"label=%{label}<br>value=%{value}<extra></extra>\",\"labels\":[\"CASH_OUT\",\"PAYMENT\",\"CASH_IN\",\"TRANSFER\",\"DEBIT\"],\"legendgroup\":\"\",\"name\":\"\",\"showlegend\":true,\"values\":[2237500,2151495,1399284,532909,41432],\"type\":\"pie\"}],                        {\"template\":{\"data\":{\"bar\":[{\"error_x\":{\"color\":\"#2a3f5f\"},\"error_y\":{\"color\":\"#2a3f5f\"},\"marker\":{\"line\":{\"color\":\"#E5ECF6\",\"width\":0.5},\"pattern\":{\"fillmode\":\"overlay\",\"size\":10,\"solidity\":0.2}},\"type\":\"bar\"}],\"barpolar\":[{\"marker\":{\"line\":{\"color\":\"#E5ECF6\",\"width\":0.5},\"pattern\":{\"fillmode\":\"overlay\",\"size\":10,\"solidity\":0.2}},\"type\":\"barpolar\"}],\"carpet\":[{\"aaxis\":{\"endlinecolor\":\"#2a3f5f\",\"gridcolor\":\"white\",\"linecolor\":\"white\",\"minorgridcolor\":\"white\",\"startlinecolor\":\"#2a3f5f\"},\"baxis\":{\"endlinecolor\":\"#2a3f5f\",\"gridcolor\":\"white\",\"linecolor\":\"white\",\"minorgridcolor\":\"white\",\"startlinecolor\":\"#2a3f5f\"},\"type\":\"carpet\"}],\"choropleth\":[{\"colorbar\":{\"outlinewidth\":0,\"ticks\":\"\"},\"type\":\"choropleth\"}],\"contour\":[{\"colorbar\":{\"outlinewidth\":0,\"ticks\":\"\"},\"colorscale\":[[0.0,\"#0d0887\"],[0.1111111111111111,\"#46039f\"],[0.2222222222222222,\"#7201a8\"],[0.3333333333333333,\"#9c179e\"],[0.4444444444444444,\"#bd3786\"],[0.5555555555555556,\"#d8576b\"],[0.6666666666666666,\"#ed7953\"],[0.7777777777777778,\"#fb9f3a\"],[0.8888888888888888,\"#fdca26\"],[1.0,\"#f0f921\"]],\"type\":\"contour\"}],\"contourcarpet\":[{\"colorbar\":{\"outlinewidth\":0,\"ticks\":\"\"},\"type\":\"contourcarpet\"}],\"heatmap\":[{\"colorbar\":{\"outlinewidth\":0,\"ticks\":\"\"},\"colorscale\":[[0.0,\"#0d0887\"],[0.1111111111111111,\"#46039f\"],[0.2222222222222222,\"#7201a8\"],[0.3333333333333333,\"#9c179e\"],[0.4444444444444444,\"#bd3786\"],[0.5555555555555556,\"#d8576b\"],[0.6666666666666666,\"#ed7953\"],[0.7777777777777778,\"#fb9f3a\"],[0.8888888888888888,\"#fdca26\"],[1.0,\"#f0f921\"]],\"type\":\"heatmap\"}],\"heatmapgl\":[{\"colorbar\":{\"outlinewidth\":0,\"ticks\":\"\"},\"colorscale\":[[0.0,\"#0d0887\"],[0.1111111111111111,\"#46039f\"],[0.2222222222222222,\"#7201a8\"],[0.3333333333333333,\"#9c179e\"],[0.4444444444444444,\"#bd3786\"],[0.5555555555555556,\"#d8576b\"],[0.6666666666666666,\"#ed7953\"],[0.7777777777777778,\"#fb9f3a\"],[0.8888888888888888,\"#fdca26\"],[1.0,\"#f0f921\"]],\"type\":\"heatmapgl\"}],\"histogram\":[{\"marker\":{\"pattern\":{\"fillmode\":\"overlay\",\"size\":10,\"solidity\":0.2}},\"type\":\"histogram\"}],\"histogram2d\":[{\"colorbar\":{\"outlinewidth\":0,\"ticks\":\"\"},\"colorscale\":[[0.0,\"#0d0887\"],[0.1111111111111111,\"#46039f\"],[0.2222222222222222,\"#7201a8\"],[0.3333333333333333,\"#9c179e\"],[0.4444444444444444,\"#bd3786\"],[0.5555555555555556,\"#d8576b\"],[0.6666666666666666,\"#ed7953\"],[0.7777777777777778,\"#fb9f3a\"],[0.8888888888888888,\"#fdca26\"],[1.0,\"#f0f921\"]],\"type\":\"histogram2d\"}],\"histogram2dcontour\":[{\"colorbar\":{\"outlinewidth\":0,\"ticks\":\"\"},\"colorscale\":[[0.0,\"#0d0887\"],[0.1111111111111111,\"#46039f\"],[0.2222222222222222,\"#7201a8\"],[0.3333333333333333,\"#9c179e\"],[0.4444444444444444,\"#bd3786\"],[0.5555555555555556,\"#d8576b\"],[0.6666666666666666,\"#ed7953\"],[0.7777777777777778,\"#fb9f3a\"],[0.8888888888888888,\"#fdca26\"],[1.0,\"#f0f921\"]],\"type\":\"histogram2dcontour\"}],\"mesh3d\":[{\"colorbar\":{\"outlinewidth\":0,\"ticks\":\"\"},\"type\":\"mesh3d\"}],\"parcoords\":[{\"line\":{\"colorbar\":{\"outlinewidth\":0,\"ticks\":\"\"}},\"type\":\"parcoords\"}],\"pie\":[{\"automargin\":true,\"type\":\"pie\"}],\"scatter\":[{\"marker\":{\"colorbar\":{\"outlinewidth\":0,\"ticks\":\"\"}},\"type\":\"scatter\"}],\"scatter3d\":[{\"line\":{\"colorbar\":{\"outlinewidth\":0,\"ticks\":\"\"}},\"marker\":{\"colorbar\":{\"outlinewidth\":0,\"ticks\":\"\"}},\"type\":\"scatter3d\"}],\"scattercarpet\":[{\"marker\":{\"colorbar\":{\"outlinewidth\":0,\"ticks\":\"\"}},\"type\":\"scattercarpet\"}],\"scattergeo\":[{\"marker\":{\"colorbar\":{\"outlinewidth\":0,\"ticks\":\"\"}},\"type\":\"scattergeo\"}],\"scattergl\":[{\"marker\":{\"colorbar\":{\"outlinewidth\":0,\"ticks\":\"\"}},\"type\":\"scattergl\"}],\"scattermapbox\":[{\"marker\":{\"colorbar\":{\"outlinewidth\":0,\"ticks\":\"\"}},\"type\":\"scattermapbox\"}],\"scatterpolar\":[{\"marker\":{\"colorbar\":{\"outlinewidth\":0,\"ticks\":\"\"}},\"type\":\"scatterpolar\"}],\"scatterpolargl\":[{\"marker\":{\"colorbar\":{\"outlinewidth\":0,\"ticks\":\"\"}},\"type\":\"scatterpolargl\"}],\"scatterternary\":[{\"marker\":{\"colorbar\":{\"outlinewidth\":0,\"ticks\":\"\"}},\"type\":\"scatterternary\"}],\"surface\":[{\"colorbar\":{\"outlinewidth\":0,\"ticks\":\"\"},\"colorscale\":[[0.0,\"#0d0887\"],[0.1111111111111111,\"#46039f\"],[0.2222222222222222,\"#7201a8\"],[0.3333333333333333,\"#9c179e\"],[0.4444444444444444,\"#bd3786\"],[0.5555555555555556,\"#d8576b\"],[0.6666666666666666,\"#ed7953\"],[0.7777777777777778,\"#fb9f3a\"],[0.8888888888888888,\"#fdca26\"],[1.0,\"#f0f921\"]],\"type\":\"surface\"}],\"table\":[{\"cells\":{\"fill\":{\"color\":\"#EBF0F8\"},\"line\":{\"color\":\"white\"}},\"header\":{\"fill\":{\"color\":\"#C8D4E3\"},\"line\":{\"color\":\"white\"}},\"type\":\"table\"}]},\"layout\":{\"annotationdefaults\":{\"arrowcolor\":\"#2a3f5f\",\"arrowhead\":0,\"arrowwidth\":1},\"autotypenumbers\":\"strict\",\"coloraxis\":{\"colorbar\":{\"outlinewidth\":0,\"ticks\":\"\"}},\"colorscale\":{\"diverging\":[[0,\"#8e0152\"],[0.1,\"#c51b7d\"],[0.2,\"#de77ae\"],[0.3,\"#f1b6da\"],[0.4,\"#fde0ef\"],[0.5,\"#f7f7f7\"],[0.6,\"#e6f5d0\"],[0.7,\"#b8e186\"],[0.8,\"#7fbc41\"],[0.9,\"#4d9221\"],[1,\"#276419\"]],\"sequential\":[[0.0,\"#0d0887\"],[0.1111111111111111,\"#46039f\"],[0.2222222222222222,\"#7201a8\"],[0.3333333333333333,\"#9c179e\"],[0.4444444444444444,\"#bd3786\"],[0.5555555555555556,\"#d8576b\"],[0.6666666666666666,\"#ed7953\"],[0.7777777777777778,\"#fb9f3a\"],[0.8888888888888888,\"#fdca26\"],[1.0,\"#f0f921\"]],\"sequentialminus\":[[0.0,\"#0d0887\"],[0.1111111111111111,\"#46039f\"],[0.2222222222222222,\"#7201a8\"],[0.3333333333333333,\"#9c179e\"],[0.4444444444444444,\"#bd3786\"],[0.5555555555555556,\"#d8576b\"],[0.6666666666666666,\"#ed7953\"],[0.7777777777777778,\"#fb9f3a\"],[0.8888888888888888,\"#fdca26\"],[1.0,\"#f0f921\"]]},\"colorway\":[\"#636efa\",\"#EF553B\",\"#00cc96\",\"#ab63fa\",\"#FFA15A\",\"#19d3f3\",\"#FF6692\",\"#B6E880\",\"#FF97FF\",\"#FECB52\"],\"font\":{\"color\":\"#2a3f5f\"},\"geo\":{\"bgcolor\":\"white\",\"lakecolor\":\"white\",\"landcolor\":\"#E5ECF6\",\"showlakes\":true,\"showland\":true,\"subunitcolor\":\"white\"},\"hoverlabel\":{\"align\":\"left\"},\"hovermode\":\"closest\",\"mapbox\":{\"style\":\"light\"},\"paper_bgcolor\":\"white\",\"plot_bgcolor\":\"#E5ECF6\",\"polar\":{\"angularaxis\":{\"gridcolor\":\"white\",\"linecolor\":\"white\",\"ticks\":\"\"},\"bgcolor\":\"#E5ECF6\",\"radialaxis\":{\"gridcolor\":\"white\",\"linecolor\":\"white\",\"ticks\":\"\"}},\"scene\":{\"xaxis\":{\"backgroundcolor\":\"#E5ECF6\",\"gridcolor\":\"white\",\"gridwidth\":2,\"linecolor\":\"white\",\"showbackground\":true,\"ticks\":\"\",\"zerolinecolor\":\"white\"},\"yaxis\":{\"backgroundcolor\":\"#E5ECF6\",\"gridcolor\":\"white\",\"gridwidth\":2,\"linecolor\":\"white\",\"showbackground\":true,\"ticks\":\"\",\"zerolinecolor\":\"white\"},\"zaxis\":{\"backgroundcolor\":\"#E5ECF6\",\"gridcolor\":\"white\",\"gridwidth\":2,\"linecolor\":\"white\",\"showbackground\":true,\"ticks\":\"\",\"zerolinecolor\":\"white\"}},\"shapedefaults\":{\"line\":{\"color\":\"#2a3f5f\"}},\"ternary\":{\"aaxis\":{\"gridcolor\":\"white\",\"linecolor\":\"white\",\"ticks\":\"\"},\"baxis\":{\"gridcolor\":\"white\",\"linecolor\":\"white\",\"ticks\":\"\"},\"bgcolor\":\"#E5ECF6\",\"caxis\":{\"gridcolor\":\"white\",\"linecolor\":\"white\",\"ticks\":\"\"}},\"title\":{\"x\":0.05},\"xaxis\":{\"automargin\":true,\"gridcolor\":\"white\",\"linecolor\":\"white\",\"ticks\":\"\",\"title\":{\"standoff\":15},\"zerolinecolor\":\"white\",\"zerolinewidth\":2},\"yaxis\":{\"automargin\":true,\"gridcolor\":\"white\",\"linecolor\":\"white\",\"ticks\":\"\",\"title\":{\"standoff\":15},\"zerolinecolor\":\"white\",\"zerolinewidth\":2}}},\"legend\":{\"tracegroupgap\":0},\"title\":{\"text\":\"Percentage of Transaction Type\"},\"height\":400,\"width\":700},                        {\"responsive\": true}                    ).then(function(){\n",
              "                            \n",
              "var gd = document.getElementById('228ff209-ba8b-4903-883f-0497887e6bda');\n",
              "var x = new MutationObserver(function (mutations, observer) {{\n",
              "        var display = window.getComputedStyle(gd).display;\n",
              "        if (!display || display === 'none') {{\n",
              "            console.log([gd, 'removed!']);\n",
              "            Plotly.purge(gd);\n",
              "            observer.disconnect();\n",
              "        }}\n",
              "}});\n",
              "\n",
              "// Listen for the removal of the full notebook cells\n",
              "var notebookContainer = gd.closest('#notebook-container');\n",
              "if (notebookContainer) {{\n",
              "    x.observe(notebookContainer, {childList: true});\n",
              "}}\n",
              "\n",
              "// Listen for the clearing of the current output cell\n",
              "var outputEl = gd.closest('.output');\n",
              "if (outputEl) {{\n",
              "    x.observe(outputEl, {childList: true});\n",
              "}}\n",
              "\n",
              "                        })                };                            </script>        </div>\n",
              "</body>\n",
              "</html>"
            ]
          },
          "metadata": {}
        }
      ],
      "source": [
        "#draw a graph to show the percentage of each transaciton type\n",
        "\n",
        "type = data[\"type\"].value_counts()\n",
        "transactions = type.index\n",
        "number = type.values\n",
        "\n",
        "figure = px.pie(data, \n",
        "             values=number, \n",
        "             names=transactions,hole = 0.5, \n",
        "             title=\"Percentage of Transaction Type\", width=700, height=400)\n",
        "figure.show()"
      ]
    },
    {
      "cell_type": "code",
      "execution_count": null,
      "metadata": {
        "colab": {
          "base_uri": "https://localhost:8080/",
          "height": 405
        },
        "id": "rzXTRGA8c-Po",
        "outputId": "69d7a6e3-1fbb-41cb-bab8-c97a14769b7d"
      },
      "outputs": [
        {
          "output_type": "display_data",
          "data": {
            "text/plain": [
              "<Figure size 720x432 with 1 Axes>"
            ],
            "image/png": "[encoded data removed]"
          },
          "metadata": {
            "needs_background": "light"
          }
        }
      ],
      "source": [
        "#number of transactions per type\n",
        "\n",
        "graph2 = data['type'].value_counts().plot(kind = 'bar', rot = 0, width = 0.8, figsize = (10,6), grid=True)\n",
        "plt.ticklabel_format(style='plain', axis='y')\n",
        "for rect in graph2.patches:\n",
        "    y_value = rect.get_height()\n",
        "    x_value = rect.get_x() + rect.get_width() / 2\n",
        "    space = 1\n",
        "    label = \"{:.0f}\".format(y_value)\n",
        "    graph2.annotate(label, (x_value, y_value), xytext=(0, space), textcoords=\"offset points\", ha='center', va='bottom')\n",
        "\n",
        "graph2.set_ylabel('Number of Transactions')\n",
        "graph2.set_xlabel('Transactions Types')\n",
        "graph2.set_title('Number of Transactions by Transactions Types')\n",
        "    \n",
        "plt.show()\n"
      ]
    },
    {
      "cell_type": "code",
      "execution_count": null,
      "metadata": {
        "colab": {
          "base_uri": "https://localhost:8080/",
          "height": 404
        },
        "id": "jmm4BpuNh3o6",
        "outputId": "d4b3d7bf-d425-491a-a3b0-00aec4b5846c"
      },
      "outputs": [
        {
          "output_type": "display_data",
          "data": {
            "text/plain": [
              "<Figure size 720x432 with 1 Axes>"
            ],
            "image/png": "[encoded data removed]"
          },
          "metadata": {
            "needs_background": "light"
          }
        }
      ],
      "source": [
        "#draw a hist graph group by 'isFraud'\n",
        "\n",
        "graph1 = data['isFraud'].value_counts().plot(kind = 'bar', rot = 0, width = 0.3, figsize = (10,6), grid=True)\n",
        "plt.ticklabel_format(style='plain', axis='y')\n",
        "for rect in graph1.patches:\n",
        "    y_value = rect.get_height()\n",
        "    x_value = rect.get_x() + rect.get_width() / 2\n",
        "    space = 1\n",
        "    label = \"{:.0f}\".format(y_value)\n",
        "    graph1.annotate(label, (x_value, y_value), xytext=(0, space), textcoords=\"offset points\", ha='center', va='bottom')\n",
        "graph1.set_ylabel('Number of Transactions')\n",
        "graph1.set_xlabel('Fraud Classifications')\n",
        "graph1.set_title('Number of Transactions by Fraud Classifications')\n",
        "plt.show()"
      ]
    },
    {
      "cell_type": "markdown",
      "metadata": {
        "id": "K3VelZp2XK8G"
      },
      "source": [
        "Grouping by 'isFraud' and type, and aggerate them by mean and count. By visualizing them, we find that Fraud only happened in cash_out and transfer. This make sense since cash_in, debit and payment is very unlikely to have a fraud situation."
      ]
    },
    {
      "cell_type": "code",
      "execution_count": null,
      "metadata": {
        "colab": {
          "base_uri": "https://localhost:8080/",
          "height": 300
        },
        "id": "oRrsGTURsEl6",
        "outputId": "c8669188-5114-49fe-f01b-d6b82c0b814c"
      },
      "outputs": [
        {
          "output_type": "execute_result",
          "data": {
            "text/plain": [
              "                        step        amount  nameOrig  oldbalanceOrg  \\\n",
              "type     isFraud                                                      \n",
              "CASH_IN  0        244.490093  1.689202e+05   1399284   3.590464e+06   \n",
              "CASH_OUT 0        240.667014  1.739172e+05   2233384   4.342923e+04   \n",
              "         1        367.720360  1.455103e+06      4116   1.453869e+06   \n",
              "DEBIT    0        248.440481  5.483665e+03     41432   6.864734e+04   \n",
              "PAYMENT  0        244.378179  1.305760e+04   2151495   6.821683e+04   \n",
              "TRANSFER 0        245.708590  9.062290e+05    528812   4.055876e+04   \n",
              "         1        369.110569  1.480892e+06      4097   1.846374e+06   \n",
              "\n",
              "                  newbalanceOrig  oldbalanceDest  newbalanceDest  \n",
              "type     isFraud                                                  \n",
              "CASH_IN  0          3.759379e+06    1.587919e+06    1.467105e+06  \n",
              "CASH_OUT 0          1.750626e+04    1.498519e+06    1.689744e+06  \n",
              "         1          7.258688e+01    1.084918e+06    2.549545e+06  \n",
              "DEBIT    0          6.516165e+04    1.493136e+06    1.513003e+06  \n",
              "PAYMENT  0          6.183789e+04    0.000000e+00    0.000000e+00  \n",
              "TRANSFER 0          7.380372e+03    2.587490e+06    3.582075e+06  \n",
              "         1          3.856046e+05    1.073383e+03    3.981411e+03  "
            ],
            "text/html": [
              "\n",
              "  <div id=\"df-2d9df3c6-414d-4cac-a23a-c00438d7dab6\">\n",
              "    <div class=\"colab-df-container\">\n",
              "      <div>\n",
              "<style scoped>\n",
              "    .dataframe tbody tr th:only-of-type {\n",
              "        vertical-align: middle;\n",
              "    }\n",
              "\n",
              "    .dataframe tbody tr th {\n",
              "        vertical-align: top;\n",
              "    }\n",
              "\n",
              "    .dataframe thead th {\n",
              "        text-align: right;\n",
              "    }\n",
              "</style>\n",
              "<table border=\"1\" class=\"dataframe\">\n",
              "  <thead>\n",
              "    <tr style=\"text-align: right;\">\n",
              "      <th></th>\n",
              "      <th></th>\n",
              "      <th>step</th>\n",
              "      <th>amount</th>\n",
              "      <th>nameOrig</th>\n",
              "      <th>oldbalanceOrg</th>\n",
              "      <th>newbalanceOrig</th>\n",
              "      <th>oldbalanceDest</th>\n",
              "      <th>newbalanceDest</th>\n",
              "    </tr>\n",
              "    <tr>\n",
              "      <th>type</th>\n",
              "      <th>isFraud</th>\n",
              "      <th></th>\n",
              "      <th></th>\n",
              "      <th></th>\n",
              "      <th></th>\n",
              "      <th></th>\n",
              "      <th></th>\n",
              "      <th></th>\n",
              "    </tr>\n",
              "  </thead>\n",
              "  <tbody>\n",
              "    <tr>\n",
              "      <th>CASH_IN</th>\n",
              "      <th>0</th>\n",
              "      <td>244.490093</td>\n",
              "      <td>1.689202e+05</td>\n",
              "      <td>1399284</td>\n",
              "      <td>3.590464e+06</td>\n",
              "      <td>3.759379e+06</td>\n",
              "      <td>1.587919e+06</td>\n",
              "      <td>1.467105e+06</td>\n",
              "    </tr>\n",
              "    <tr>\n",
              "      <th rowspan=\"2\" valign=\"top\">CASH_OUT</th>\n",
              "      <th>0</th>\n",
              "      <td>240.667014</td>\n",
              "      <td>1.739172e+05</td>\n",
              "      <td>2233384</td>\n",
              "      <td>4.342923e+04</td>\n",
              "      <td>1.750626e+04</td>\n",
              "      <td>1.498519e+06</td>\n",
              "      <td>1.689744e+06</td>\n",
              "    </tr>\n",
              "    <tr>\n",
              "      <th>1</th>\n",
              "      <td>367.720360</td>\n",
              "      <td>1.455103e+06</td>\n",
              "      <td>4116</td>\n",
              "      <td>1.453869e+06</td>\n",
              "      <td>7.258688e+01</td>\n",
              "      <td>1.084918e+06</td>\n",
              "      <td>2.549545e+06</td>\n",
              "    </tr>\n",
              "    <tr>\n",
              "      <th>DEBIT</th>\n",
              "      <th>0</th>\n",
              "      <td>248.440481</td>\n",
              "      <td>5.483665e+03</td>\n",
              "      <td>41432</td>\n",
              "      <td>6.864734e+04</td>\n",
              "      <td>6.516165e+04</td>\n",
              "      <td>1.493136e+06</td>\n",
              "      <td>1.513003e+06</td>\n",
              "    </tr>\n",
              "    <tr>\n",
              "      <th>PAYMENT</th>\n",
              "      <th>0</th>\n",
              "      <td>244.378179</td>\n",
              "      <td>1.305760e+04</td>\n",
              "      <td>2151495</td>\n",
              "      <td>6.821683e+04</td>\n",
              "      <td>6.183789e+04</td>\n",
              "      <td>0.000000e+00</td>\n",
              "      <td>0.000000e+00</td>\n",
              "    </tr>\n",
              "    <tr>\n",
              "      <th rowspan=\"2\" valign=\"top\">TRANSFER</th>\n",
              "      <th>0</th>\n",
              "      <td>245.708590</td>\n",
              "      <td>9.062290e+05</td>\n",
              "      <td>528812</td>\n",
              "      <td>4.055876e+04</td>\n",
              "      <td>7.380372e+03</td>\n",
              "      <td>2.587490e+06</td>\n",
              "      <td>3.582075e+06</td>\n",
              "    </tr>\n",
              "    <tr>\n",
              "      <th>1</th>\n",
              "      <td>369.110569</td>\n",
              "      <td>1.480892e+06</td>\n",
              "      <td>4097</td>\n",
              "      <td>1.846374e+06</td>\n",
              "      <td>3.856046e+05</td>\n",
              "      <td>1.073383e+03</td>\n",
              "      <td>3.981411e+03</td>\n",
              "    </tr>\n",
              "  </tbody>\n",
              "</table>\n",
              "</div>\n",
              "      <button class=\"colab-df-convert\" onclick=\"convertToInteractive('df-2d9df3c6-414d-4cac-a23a-c00438d7dab6')\"\n",
              "              title=\"Convert this dataframe to an interactive table.\"\n",
              "              style=\"display:none;\">\n",
              "        \n",
              "  <svg xmlns=\"http://www.w3.org/2000/svg\" height=\"24px\"viewBox=\"0 0 24 24\"\n",
              "       width=\"24px\">\n",
              "    <path d=\"M0 0h24v24H0V0z\" fill=\"none\"/>\n",
              "    <path d=\"M18.56 5.44l.94 2.06.94-2.06 2.06-.94-2.06-.94-.94-2.06-.94 2.06-2.06.94zm-11 1L8.5 8.5l.94-2.06 2.06-.94-2.06-.94L8.5 2.5l-.94 2.06-2.06.94zm10 10l.94 2.06.94-2.06 2.06-.94-2.06-.94-.94-2.06-.94 2.06-2.06.94z\"/><path d=\"M17.41 7.96l-1.37-1.37c-.4-.4-.92-.59-1.43-.59-.52 0-1.04.2-1.43.59L10.3 9.45l-7.72 7.72c-.78.78-.78 2.05 0 2.83L4 21.41c.39.39.9.59 1.41.59.51 0 1.02-.2 1.41-.59l7.78-7.78 2.81-2.81c.8-.78.8-2.07 0-2.86zM5.41 20L4 18.59l7.72-7.72 1.47 1.35L5.41 20z\"/>\n",
              "  </svg>\n",
              "      </button>\n",
              "      \n",
              "  <style>\n",
              "    .colab-df-container {\n",
              "      display:flex;\n",
              "      flex-wrap:wrap;\n",
              "      gap: 12px;\n",
              "    }\n",
              "\n",
              "    .colab-df-convert {\n",
              "      background-color: #E8F0FE;\n",
              "      border: none;\n",
              "      border-radius: 50%;\n",
              "      cursor: pointer;\n",
              "      display: none;\n",
              "      fill: #1967D2;\n",
              "      height: 32px;\n",
              "      padding: 0 0 0 0;\n",
              "      width: 32px;\n",
              "    }\n",
              "\n",
              "    .colab-df-convert:hover {\n",
              "      background-color: #E2EBFA;\n",
              "      box-shadow: 0px 1px 2px rgba(60, 64, 67, 0.3), 0px 1px 3px 1px rgba(60, 64, 67, 0.15);\n",
              "      fill: #174EA6;\n",
              "    }\n",
              "\n",
              "    [theme=dark] .colab-df-convert {\n",
              "      background-color: #3B4455;\n",
              "      fill: #D2E3FC;\n",
              "    }\n",
              "\n",
              "    [theme=dark] .colab-df-convert:hover {\n",
              "      background-color: #434B5C;\n",
              "      box-shadow: 0px 1px 3px 1px rgba(0, 0, 0, 0.15);\n",
              "      filter: drop-shadow(0px 1px 2px rgba(0, 0, 0, 0.3));\n",
              "      fill: #FFFFFF;\n",
              "    }\n",
              "  </style>\n",
              "\n",
              "      <script>\n",
              "        const buttonEl =\n",
              "          document.querySelector('#df-2d9df3c6-414d-4cac-a23a-c00438d7dab6 button.colab-df-convert');\n",
              "        buttonEl.style.display =\n",
              "          google.colab.kernel.accessAllowed ? 'block' : 'none';\n",
              "\n",
              "        async function convertToInteractive(key) {\n",
              "          const element = document.querySelector('#df-2d9df3c6-414d-4cac-a23a-c00438d7dab6');\n",
              "          const dataTable =\n",
              "            await google.colab.kernel.invokeFunction('convertToInteractive',\n",
              "                                                     [key], {});\n",
              "          if (!dataTable) return;\n",
              "\n",
              "          const docLinkHtml = 'Like what you see? Visit the ' +\n",
              "            '<a target=\"_blank\" href=https://colab.research.google.com/notebooks/data_table.ipynb>data table notebook</a>'\n",
              "            + ' to learn more about interactive tables.';\n",
              "          element.innerHTML = '';\n",
              "          dataTable['output_type'] = 'display_data';\n",
              "          await google.colab.output.renderOutput(dataTable, element);\n",
              "          const docLink = document.createElement('div');\n",
              "          docLink.innerHTML = docLinkHtml;\n",
              "          element.appendChild(docLink);\n",
              "        }\n",
              "      </script>\n",
              "    </div>\n",
              "  </div>\n",
              "  "
            ]
          },
          "metadata": {},
          "execution_count": 11
        }
      ],
      "source": [
        "# data['isFlaggedFraud'].value_counts()\n",
        "column_names = ['type','isFraud']\n",
        "summaries = {'step':'mean','amount': 'mean', 'nameOrig': 'count','oldbalanceOrg': 'mean','newbalanceOrig': 'mean','oldbalanceDest': 'mean','newbalanceDest': 'mean'}\n",
        "flag = data.groupby(by = column_names).agg(summaries)\n",
        "flag.head(20)"
      ]
    },
    {
      "cell_type": "code",
      "execution_count": null,
      "metadata": {
        "colab": {
          "base_uri": "https://localhost:8080/",
          "height": 499
        },
        "id": "SL_dC7KF_FZ4",
        "outputId": "2446c537-b3cf-41c4-f923-d03cba174313"
      },
      "outputs": [
        {
          "output_type": "display_data",
          "data": {
            "text/plain": [
              "<Figure size 864x576 with 9 Axes>"
            ],
            "image/png": "[encoded data removed]"
          },
          "metadata": {
            "needs_background": "light"
          }
        }
      ],
      "source": [
        "#data distribution\n",
        "data.hist(bins=50, figsize=(12, 8))\n",
        "plt.show()"
      ]
    },
    {
      "cell_type": "code",
      "source": [
        "plt.figure(figsize=(16, 6))\n",
        "# Store heatmap object in a variable to easily access it when you want to include more features (such as title).\n",
        "# Set the range of values to be displayed on the colormap from -1 to 1, and set the annotation to True to display the correlation values on the heatmap.\n",
        "heatmap = sns.heatmap(data.corr(), vmin=-1, vmax=1, annot=True)\n",
        "# Give a title to the heatmap. Pad defines the distance of the title from the top of the heatmap.\n",
        "heatmap.set_title('Correlation Heatmap', fontdict={'fontsize':12}, pad=12);"
      ],
      "metadata": {
        "colab": {
          "base_uri": "https://localhost:8080/",
          "height": 396
        },
        "id": "kQeA7KRyFLG0",
        "outputId": "b209c453-7153-46c4-faae-4b4f25200e07"
      },
      "execution_count": null,
      "outputs": [
        {
          "output_type": "display_data",
          "data": {
            "text/plain": [
              "<Figure size 1152x432 with 2 Axes>"
            ],
            "image/png": "[encoded data removed]"
          },
          "metadata": {
            "needs_background": "light"
          }
        }
      ]
    },
    {
      "cell_type": "markdown",
      "metadata": {
        "id": "XztRE6tHpqqU"
      },
      "source": [
        "#Feature Engineering"
      ]
    },
    {
      "cell_type": "markdown",
      "metadata": {
        "id": "RJcV1GPFrH0U"
      },
      "source": [
        "This section includes the creation new columns named as transferPercentage, errorDest and errorOrig.\n",
        "\n",
        "* transferPercentage represents the fraction of amount out of the \n",
        "original balance before the tranaction.\n",
        "\n",
        "* errorDest and errorOrig are columns used to check if the original balance and destination balance are correct. \n",
        "\n",
        "\n",
        "Then, we revise the 'newbalanceDest' column, specifically when newbalanceDest and oldbalanceDest are all zero, we fill the value with the amount of that transaction. The reason for this is that there are transactions with an amount, but destination balance has no change, evidently these transactions are very likely to be fradulent. Further, these tranactions take up a much larger percentage in fraud counts.\n"
      ]
    },
    {
      "cell_type": "code",
      "execution_count": null,
      "metadata": {
        "id": "xpIStR4NNLWv"
      },
      "outputs": [],
      "source": [
        "data['transferPercentage'] = round(data['amount']/data['oldbalanceOrg'],2)\n",
        "data.replace([np.inf, -np.inf], 0, inplace=True)\n",
        "data['errorDest'] = data['newbalanceOrig'] + data['amount'] - data['oldbalanceOrg']\n",
        "data['errorOrig'] = data['oldbalanceDest'] + data['amount'] - data['newbalanceDest']\n",
        "data['newbalanceDest'] = np.where((data['newbalanceDest']==0)&(data['oldbalanceDest']==0), data['amount'], data['newbalanceDest'])"
      ]
    },
    {
      "cell_type": "markdown",
      "metadata": {
        "id": "0hDNtzsb0UgK"
      },
      "source": [
        "We dropped the rows where amount equals to zero, which likely means there was no real trasaction happened or the transaction did not go through.Additionally, we dropped the 'nameOrig' and 'nameDest' column, since it is hard to extract useful information from them. Lastly, we change the data type of the 'type' column to category."
      ]
    },
    {
      "cell_type": "code",
      "execution_count": null,
      "metadata": {
        "colab": {
          "base_uri": "https://localhost:8080/"
        },
        "id": "OaFPc6246FtR",
        "outputId": "3336365a-1972-412b-d082-409f5d840588"
      },
      "outputs": [
        {
          "output_type": "stream",
          "name": "stdout",
          "text": [
            "<class 'pandas.core.frame.DataFrame'>\n",
            "Int64Index: 6362604 entries, 0 to 6362619\n",
            "Data columns (total 7 columns):\n",
            " #   Column              Dtype   \n",
            "---  ------              -----   \n",
            " 0   step                int64   \n",
            " 1   type                category\n",
            " 2   amount              float64 \n",
            " 3   isFraud             int64   \n",
            " 4   transferPercentage  float64 \n",
            " 5   errorDest           float64 \n",
            " 6   errorOrig           float64 \n",
            "dtypes: category(1), float64(4), int64(2)\n",
            "memory usage: 345.9 MB\n"
          ]
        }
      ],
      "source": [
        "data = data[data['amount'] != 0]\n",
        "data = data.drop(['oldbalanceOrg', 'newbalanceOrig', 'oldbalanceDest', 'newbalanceDest'], axis=1)\n",
        "data['type'] = data['type'].astype('category')\n",
        "data = data.drop(['nameOrig', 'nameDest'], axis=1)\n",
        "data.info()"
      ]
    },
    {
      "cell_type": "markdown",
      "metadata": {
        "id": "L2KoKa-U1trS"
      },
      "source": [
        "Display the correlation between isFraud and other variables."
      ]
    },
    {
      "cell_type": "markdown",
      "metadata": {
        "id": "v2uCjK6_1mtW"
      },
      "source": [
        "# Modeling\n",
        "\n"
      ]
    },
    {
      "cell_type": "markdown",
      "metadata": {
        "id": "RLmivHlE1BJk"
      },
      "source": [
        "## split the training set and test set"
      ]
    },
    {
      "cell_type": "code",
      "execution_count": null,
      "metadata": {
        "id": "cyxGo5L-1li7"
      },
      "outputs": [],
      "source": [
        "from sklearn.model_selection import train_test_split\n",
        "X = data.drop(\"isFraud\", axis=1)\n",
        "y = data[\"isFraud\"]\n",
        "X_train, X_test, y_train, y_test = train_test_split(X, y,\n",
        "                                                    stratify=y, \n",
        "                                                    test_size=0.2, \n",
        "                                                    random_state=42)"
      ]
    },
    {
      "cell_type": "code",
      "execution_count": null,
      "metadata": {
        "colab": {
          "base_uri": "https://localhost:8080/"
        },
        "id": "woINNEVpwVgI",
        "outputId": "f1ed98ad-8ab3-45ca-c303-39352f075e16"
      },
      "outputs": [
        {
          "output_type": "execute_result",
          "data": {
            "text/plain": [
              "((5090083, 6), (1272521, 6))"
            ]
          },
          "metadata": {},
          "execution_count": 38
        }
      ],
      "source": [
        "X_train.shape, X_test.shape"
      ]
    },
    {
      "cell_type": "code",
      "execution_count": null,
      "metadata": {
        "colab": {
          "base_uri": "https://localhost:8080/",
          "height": 396
        },
        "id": "DGL6P8Ti5RX-",
        "outputId": "70f0fd88-5d9c-4095-e4b9-570b23a87e45"
      },
      "outputs": [
        {
          "output_type": "display_data",
          "data": {
            "text/plain": [
              "<Figure size 1152x432 with 2 Axes>"
            ],
            "image/png": "[encoded data removed]"
          },
          "metadata": {
            "needs_background": "light"
          }
        }
      ],
      "source": [
        "plt.figure(figsize=(16, 6))\n",
        "# Store heatmap object in a variable to easily access it when you want to include more features (such as title).\n",
        "# Set the range of values to be displayed on the colormap from -1 to 1, and set the annotation to True to display the correlation values on the heatmap.\n",
        "heatmap = sns.heatmap(X_train.corr(), vmin=-1, vmax=1, annot=True)\n",
        "# Give a title to the heatmap. Pad defines the distance of the title from the top of the heatmap.\n",
        "heatmap.set_title('Correlation Heatmap', fontdict={'fontsize':12}, pad=12);"
      ]
    },
    {
      "cell_type": "markdown",
      "metadata": {
        "id": "SJPQuXvUIgiJ"
      },
      "source": [
        "## Build the Pipeline"
      ]
    },
    {
      "cell_type": "markdown",
      "metadata": {
        "id": "PbzA6QRd28_I"
      },
      "source": [
        "We create two different pipeline for numerical and categorical variables. \n",
        "\n",
        "Numerical variables include 'step', 'amount', 'oldbalanceOrg', 'newbalanceOrig', 'oldbalanceDest', 'newbalanceDest', 'transferPercentage', 'errorDest' and 'errorOrig'; \n",
        "\n",
        "Categorical variables include 'type'.\n",
        "\n",
        "For numerical variables, we standardized them and impute the null values with the median. For categorical variables, we impute the null values with the most frequent type, and process them with oneHotEncoder."
      ]
    },
    {
      "cell_type": "code",
      "execution_count": null,
      "metadata": {
        "id": "2as7mDiwIi6Q"
      },
      "outputs": [],
      "source": [
        "num_column = X_train.select_dtypes(exclude=\"category\").columns\n",
        "num_pipeline = Pipeline([\n",
        "        ('standard', StandardScaler()),\n",
        "        ('imputer', SimpleImputer(strategy='median'))\n",
        "    ])\n",
        "\n",
        "cat_column = X_train.select_dtypes(include=\"category\").columns\n",
        "cat_pipeline = Pipeline([\n",
        "        ('imputer', SimpleImputer(strategy='most_frequent')),\n",
        "        ('encoder', OneHotEncoder())\n",
        "    ])\n",
        "\n",
        "# dest_check = X_train[(X_train['oldbalanceDest']==0)&(X_train['newbalanceDest']==0)]\n",
        "\n",
        "preprocess = ColumnTransformer([\n",
        "    ('num', num_pipeline, num_column),\n",
        "    ('cat', cat_pipeline, cat_column)\n",
        "])"
      ]
    },
    {
      "cell_type": "code",
      "execution_count": null,
      "metadata": {
        "colab": {
          "base_uri": "https://localhost:8080/",
          "height": 152
        },
        "id": "wZDYtFnIIxWy",
        "outputId": "3d4702f1-bbc7-426f-ae4d-baade53202e8"
      },
      "outputs": [
        {
          "output_type": "execute_result",
          "data": {
            "text/plain": [
              "ColumnTransformer(transformers=[('num',\n",
              "                                 Pipeline(steps=[('standard', StandardScaler()),\n",
              "                                                 ('imputer',\n",
              "                                                  SimpleImputer(strategy='median'))]),\n",
              "                                 Index(['step', 'amount', 'transferPercentage', 'errorDest', 'errorOrig'], dtype='object')),\n",
              "                                ('cat',\n",
              "                                 Pipeline(steps=[('imputer',\n",
              "                                                  SimpleImputer(strategy='most_frequent')),\n",
              "                                                 ('encoder', OneHotEncoder())]),\n",
              "                                 Index(['type'], dtype='object'))])"
            ],
            "text/html": [
              "<style>#sk-07fd334f-d4ef-4927-a49d-b67132f1f892 {color: black;background-color: white;}#sk-07fd334f-d4ef-4927-a49d-b67132f1f892 pre{padding: 0;}#sk-07fd334f-d4ef-4927-a49d-b67132f1f892 div.sk-toggleable {background-color: white;}#sk-07fd334f-d4ef-4927-a49d-b67132f1f892 label.sk-toggleable__label {cursor: pointer;display: block;width: 100%;margin-bottom: 0;padding: 0.3em;box-sizing: border-box;text-align: center;}#sk-07fd334f-d4ef-4927-a49d-b67132f1f892 label.sk-toggleable__label-arrow:before {content: \"▸\";float: left;margin-right: 0.25em;color: #696969;}#sk-07fd334f-d4ef-4927-a49d-b67132f1f892 label.sk-toggleable__label-arrow:hover:before {color: black;}#sk-07fd334f-d4ef-4927-a49d-b67132f1f892 div.sk-estimator:hover label.sk-toggleable__label-arrow:before {color: black;}#sk-07fd334f-d4ef-4927-a49d-b67132f1f892 div.sk-toggleable__content {max-height: 0;max-width: 0;overflow: hidden;text-align: left;background-color: #f0f8ff;}#sk-07fd334f-d4ef-4927-a49d-b67132f1f892 div.sk-toggleable__content pre {margin: 0.2em;color: black;border-radius: 0.25em;background-color: #f0f8ff;}#sk-07fd334f-d4ef-4927-a49d-b67132f1f892 input.sk-toggleable__control:checked~div.sk-toggleable__content {max-height: 200px;max-width: 100%;overflow: auto;}#sk-07fd334f-d4ef-4927-a49d-b67132f1f892 input.sk-toggleable__control:checked~label.sk-toggleable__label-arrow:before {content: \"▾\";}#sk-07fd334f-d4ef-4927-a49d-b67132f1f892 div.sk-estimator input.sk-toggleable__control:checked~label.sk-toggleable__label {background-color: #d4ebff;}#sk-07fd334f-d4ef-4927-a49d-b67132f1f892 div.sk-label input.sk-toggleable__control:checked~label.sk-toggleable__label {background-color: #d4ebff;}#sk-07fd334f-d4ef-4927-a49d-b67132f1f892 input.sk-hidden--visually {border: 0;clip: rect(1px 1px 1px 1px);clip: rect(1px, 1px, 1px, 1px);height: 1px;margin: -1px;overflow: hidden;padding: 0;position: absolute;width: 1px;}#sk-07fd334f-d4ef-4927-a49d-b67132f1f892 div.sk-estimator {font-family: monospace;background-color: #f0f8ff;border: 1px dotted black;border-radius: 0.25em;box-sizing: border-box;margin-bottom: 0.5em;}#sk-07fd334f-d4ef-4927-a49d-b67132f1f892 div.sk-estimator:hover {background-color: #d4ebff;}#sk-07fd334f-d4ef-4927-a49d-b67132f1f892 div.sk-parallel-item::after {content: \"\";width: 100%;border-bottom: 1px solid gray;flex-grow: 1;}#sk-07fd334f-d4ef-4927-a49d-b67132f1f892 div.sk-label:hover label.sk-toggleable__label {background-color: #d4ebff;}#sk-07fd334f-d4ef-4927-a49d-b67132f1f892 div.sk-serial::before {content: \"\";position: absolute;border-left: 1px solid gray;box-sizing: border-box;top: 2em;bottom: 0;left: 50%;}#sk-07fd334f-d4ef-4927-a49d-b67132f1f892 div.sk-serial {display: flex;flex-direction: column;align-items: center;background-color: white;padding-right: 0.2em;padding-left: 0.2em;}#sk-07fd334f-d4ef-4927-a49d-b67132f1f892 div.sk-item {z-index: 1;}#sk-07fd334f-d4ef-4927-a49d-b67132f1f892 div.sk-parallel {display: flex;align-items: stretch;justify-content: center;background-color: white;}#sk-07fd334f-d4ef-4927-a49d-b67132f1f892 div.sk-parallel::before {content: \"\";position: absolute;border-left: 1px solid gray;box-sizing: border-box;top: 2em;bottom: 0;left: 50%;}#sk-07fd334f-d4ef-4927-a49d-b67132f1f892 div.sk-parallel-item {display: flex;flex-direction: column;position: relative;background-color: white;}#sk-07fd334f-d4ef-4927-a49d-b67132f1f892 div.sk-parallel-item:first-child::after {align-self: flex-end;width: 50%;}#sk-07fd334f-d4ef-4927-a49d-b67132f1f892 div.sk-parallel-item:last-child::after {align-self: flex-start;width: 50%;}#sk-07fd334f-d4ef-4927-a49d-b67132f1f892 div.sk-parallel-item:only-child::after {width: 0;}#sk-07fd334f-d4ef-4927-a49d-b67132f1f892 div.sk-dashed-wrapped {border: 1px dashed gray;margin: 0 0.4em 0.5em 0.4em;box-sizing: border-box;padding-bottom: 0.4em;background-color: white;position: relative;}#sk-07fd334f-d4ef-4927-a49d-b67132f1f892 div.sk-label label {font-family: monospace;font-weight: bold;background-color: white;display: inline-block;line-height: 1.2em;}#sk-07fd334f-d4ef-4927-a49d-b67132f1f892 div.sk-label-container {position: relative;z-index: 2;text-align: center;}#sk-07fd334f-d4ef-4927-a49d-b67132f1f892 div.sk-container {/* jupyter's `normalize.less` sets `[hidden] { display: none; }` but bootstrap.min.css set `[hidden] { display: none !important; }` so we also need the `!important` here to be able to override the default hidden behavior on the sphinx rendered scikit-learn.org. See: https://github.com/scikit-learn/scikit-learn/issues/21755 */display: inline-block !important;position: relative;}#sk-07fd334f-d4ef-4927-a49d-b67132f1f892 div.sk-text-repr-fallback {display: none;}</style><div id=\"sk-07fd334f-d4ef-4927-a49d-b67132f1f892\" class=\"sk-top-container\"><div class=\"sk-text-repr-fallback\"><pre>ColumnTransformer(transformers=[(&#x27;num&#x27;,\n",
              "                                 Pipeline(steps=[(&#x27;standard&#x27;, StandardScaler()),\n",
              "                                                 (&#x27;imputer&#x27;,\n",
              "                                                  SimpleImputer(strategy=&#x27;median&#x27;))]),\n",
              "                                 Index([&#x27;step&#x27;, &#x27;amount&#x27;, &#x27;transferPercentage&#x27;, &#x27;errorDest&#x27;, &#x27;errorOrig&#x27;], dtype=&#x27;object&#x27;)),\n",
              "                                (&#x27;cat&#x27;,\n",
              "                                 Pipeline(steps=[(&#x27;imputer&#x27;,\n",
              "                                                  SimpleImputer(strategy=&#x27;most_frequent&#x27;)),\n",
              "                                                 (&#x27;encoder&#x27;, OneHotEncoder())]),\n",
              "                                 Index([&#x27;type&#x27;], dtype=&#x27;object&#x27;))])</pre><b>Please rerun this cell to show the HTML repr or trust the notebook.</b></div><div class=\"sk-container\" hidden><div class=\"sk-item sk-dashed-wrapped\"><div class=\"sk-label-container\"><div class=\"sk-label sk-toggleable\"><input class=\"sk-toggleable__control sk-hidden--visually\" id=\"6f781516-d6d8-450f-9c56-c01a1994cec1\" type=\"checkbox\" ><label for=\"6f781516-d6d8-450f-9c56-c01a1994cec1\" class=\"sk-toggleable__label sk-toggleable__label-arrow\">ColumnTransformer</label><div class=\"sk-toggleable__content\"><pre>ColumnTransformer(transformers=[(&#x27;num&#x27;,\n",
              "                                 Pipeline(steps=[(&#x27;standard&#x27;, StandardScaler()),\n",
              "                                                 (&#x27;imputer&#x27;,\n",
              "                                                  SimpleImputer(strategy=&#x27;median&#x27;))]),\n",
              "                                 Index([&#x27;step&#x27;, &#x27;amount&#x27;, &#x27;transferPercentage&#x27;, &#x27;errorDest&#x27;, &#x27;errorOrig&#x27;], dtype=&#x27;object&#x27;)),\n",
              "                                (&#x27;cat&#x27;,\n",
              "                                 Pipeline(steps=[(&#x27;imputer&#x27;,\n",
              "                                                  SimpleImputer(strategy=&#x27;most_frequent&#x27;)),\n",
              "                                                 (&#x27;encoder&#x27;, OneHotEncoder())]),\n",
              "                                 Index([&#x27;type&#x27;], dtype=&#x27;object&#x27;))])</pre></div></div></div><div class=\"sk-parallel\"><div class=\"sk-parallel-item\"><div class=\"sk-item\"><div class=\"sk-label-container\"><div class=\"sk-label sk-toggleable\"><input class=\"sk-toggleable__control sk-hidden--visually\" id=\"4d30b061-450f-4b1f-a534-f910c9165f5d\" type=\"checkbox\" ><label for=\"4d30b061-450f-4b1f-a534-f910c9165f5d\" class=\"sk-toggleable__label sk-toggleable__label-arrow\">num</label><div class=\"sk-toggleable__content\"><pre>Index([&#x27;step&#x27;, &#x27;amount&#x27;, &#x27;transferPercentage&#x27;, &#x27;errorDest&#x27;, &#x27;errorOrig&#x27;], dtype=&#x27;object&#x27;)</pre></div></div></div><div class=\"sk-serial\"><div class=\"sk-item\"><div class=\"sk-serial\"><div class=\"sk-item\"><div class=\"sk-estimator sk-toggleable\"><input class=\"sk-toggleable__control sk-hidden--visually\" id=\"021a4b03-244e-40fa-8c98-affaf7153c4e\" type=\"checkbox\" ><label for=\"021a4b03-244e-40fa-8c98-affaf7153c4e\" class=\"sk-toggleable__label sk-toggleable__label-arrow\">StandardScaler</label><div class=\"sk-toggleable__content\"><pre>StandardScaler()</pre></div></div></div><div class=\"sk-item\"><div class=\"sk-estimator sk-toggleable\"><input class=\"sk-toggleable__control sk-hidden--visually\" id=\"e77abc17-6ac6-4d02-8ef1-b3ca961d93ec\" type=\"checkbox\" ><label for=\"e77abc17-6ac6-4d02-8ef1-b3ca961d93ec\" class=\"sk-toggleable__label sk-toggleable__label-arrow\">SimpleImputer</label><div class=\"sk-toggleable__content\"><pre>SimpleImputer(strategy=&#x27;median&#x27;)</pre></div></div></div></div></div></div></div></div><div class=\"sk-parallel-item\"><div class=\"sk-item\"><div class=\"sk-label-container\"><div class=\"sk-label sk-toggleable\"><input class=\"sk-toggleable__control sk-hidden--visually\" id=\"1bed5910-a3f9-4a55-a9cc-fff72df40704\" type=\"checkbox\" ><label for=\"1bed5910-a3f9-4a55-a9cc-fff72df40704\" class=\"sk-toggleable__label sk-toggleable__label-arrow\">cat</label><div class=\"sk-toggleable__content\"><pre>Index([&#x27;type&#x27;], dtype=&#x27;object&#x27;)</pre></div></div></div><div class=\"sk-serial\"><div class=\"sk-item\"><div class=\"sk-serial\"><div class=\"sk-item\"><div class=\"sk-estimator sk-toggleable\"><input class=\"sk-toggleable__control sk-hidden--visually\" id=\"853887cf-a126-4178-8b8b-9cde2ad86636\" type=\"checkbox\" ><label for=\"853887cf-a126-4178-8b8b-9cde2ad86636\" class=\"sk-toggleable__label sk-toggleable__label-arrow\">SimpleImputer</label><div class=\"sk-toggleable__content\"><pre>SimpleImputer(strategy=&#x27;most_frequent&#x27;)</pre></div></div></div><div class=\"sk-item\"><div class=\"sk-estimator sk-toggleable\"><input class=\"sk-toggleable__control sk-hidden--visually\" id=\"1733141e-9951-4454-bf28-4f7b622567a7\" type=\"checkbox\" ><label for=\"1733141e-9951-4454-bf28-4f7b622567a7\" class=\"sk-toggleable__label sk-toggleable__label-arrow\">OneHotEncoder</label><div class=\"sk-toggleable__content\"><pre>OneHotEncoder()</pre></div></div></div></div></div></div></div></div></div></div></div></div>"
            ]
          },
          "metadata": {},
          "execution_count": 41
        }
      ],
      "source": [
        "set_config(display='diagram') # graphically shows the pipeline when printed\n",
        "\n",
        "preprocess"
      ]
    },
    {
      "cell_type": "code",
      "execution_count": null,
      "metadata": {
        "colab": {
          "base_uri": "https://localhost:8080/"
        },
        "id": "i9ImF0tvKAYi",
        "outputId": "4e393c56-8ed9-4d85-ca64-9c3f85d7e1a0"
      },
      "outputs": [
        {
          "output_type": "stream",
          "name": "stdout",
          "text": [
            "<class 'pandas.core.frame.DataFrame'>\n",
            "Int64Index: 5090083 entries, 1658888 to 3072567\n",
            "Data columns (total 6 columns):\n",
            " #   Column              Dtype   \n",
            "---  ------              -----   \n",
            " 0   step                int64   \n",
            " 1   type                category\n",
            " 2   amount              float64 \n",
            " 3   transferPercentage  float64 \n",
            " 4   errorDest           float64 \n",
            " 5   errorOrig           float64 \n",
            "dtypes: category(1), float64(4), int64(1)\n",
            "memory usage: 237.9 MB\n"
          ]
        }
      ],
      "source": [
        "X_train.info()"
      ]
    },
    {
      "cell_type": "markdown",
      "metadata": {
        "id": "klA5eypa4QEE"
      },
      "source": [
        "After we combine the categorical and numerical pipeline into a preprocess pipeline, we then pass them through RandomOverSampler and RandomUnderSampler. \n",
        "\n",
        "Having gone through both random sampling methods can result in overall improved performance. On the one hand, under sampler effectively reduces bias for the majority rows; On the other hand, over sampler helps balance the target outcome rows, since the records of non-fraud is much larger in this dataset."
      ]
    },
    {
      "cell_type": "code",
      "execution_count": null,
      "metadata": {
        "colab": {
          "base_uri": "https://localhost:8080/",
          "height": 262
        },
        "id": "yrRsy1yEVD1R",
        "outputId": "19b8c2e0-09c5-4510-fdcd-98285a8ea3c7"
      },
      "outputs": [
        {
          "output_type": "execute_result",
          "data": {
            "text/plain": [
              "Pipeline(steps=[('transform',\n",
              "                 ColumnTransformer(transformers=[('num',\n",
              "                                                  Pipeline(steps=[('standard',\n",
              "                                                                   StandardScaler()),\n",
              "                                                                  ('imputer',\n",
              "                                                                   SimpleImputer(strategy='median'))]),\n",
              "                                                  Index(['step', 'amount', 'transferPercentage', 'errorDest', 'errorOrig'], dtype='object')),\n",
              "                                                 ('cat',\n",
              "                                                  Pipeline(steps=[('imputer',\n",
              "                                                                   SimpleImputer(strategy='most_frequent')),\n",
              "                                                                  ('encoder',\n",
              "                                                                   OneHotEncoder())]),\n",
              "                                                  Index(['type'], dtype='object'))])),\n",
              "                ('oversample', RandomOverSampler(sampling_strategy=0.1)),\n",
              "                ('undersample',\n",
              "                 RandomUnderSampler(sampling_strategy='majority'))])"
            ],
            "text/html": [
              "<style>#sk-ff23ae7b-c45a-48e1-b1d2-7ff53019db16 {color: black;background-color: white;}#sk-ff23ae7b-c45a-48e1-b1d2-7ff53019db16 pre{padding: 0;}#sk-ff23ae7b-c45a-48e1-b1d2-7ff53019db16 div.sk-toggleable {background-color: white;}#sk-ff23ae7b-c45a-48e1-b1d2-7ff53019db16 label.sk-toggleable__label {cursor: pointer;display: block;width: 100%;margin-bottom: 0;padding: 0.3em;box-sizing: border-box;text-align: center;}#sk-ff23ae7b-c45a-48e1-b1d2-7ff53019db16 label.sk-toggleable__label-arrow:before {content: \"▸\";float: left;margin-right: 0.25em;color: #696969;}#sk-ff23ae7b-c45a-48e1-b1d2-7ff53019db16 label.sk-toggleable__label-arrow:hover:before {color: black;}#sk-ff23ae7b-c45a-48e1-b1d2-7ff53019db16 div.sk-estimator:hover label.sk-toggleable__label-arrow:before {color: black;}#sk-ff23ae7b-c45a-48e1-b1d2-7ff53019db16 div.sk-toggleable__content {max-height: 0;max-width: 0;overflow: hidden;text-align: left;background-color: #f0f8ff;}#sk-ff23ae7b-c45a-48e1-b1d2-7ff53019db16 div.sk-toggleable__content pre {margin: 0.2em;color: black;border-radius: 0.25em;background-color: #f0f8ff;}#sk-ff23ae7b-c45a-48e1-b1d2-7ff53019db16 input.sk-toggleable__control:checked~div.sk-toggleable__content {max-height: 200px;max-width: 100%;overflow: auto;}#sk-ff23ae7b-c45a-48e1-b1d2-7ff53019db16 input.sk-toggleable__control:checked~label.sk-toggleable__label-arrow:before {content: \"▾\";}#sk-ff23ae7b-c45a-48e1-b1d2-7ff53019db16 div.sk-estimator input.sk-toggleable__control:checked~label.sk-toggleable__label {background-color: #d4ebff;}#sk-ff23ae7b-c45a-48e1-b1d2-7ff53019db16 div.sk-label input.sk-toggleable__control:checked~label.sk-toggleable__label {background-color: #d4ebff;}#sk-ff23ae7b-c45a-48e1-b1d2-7ff53019db16 input.sk-hidden--visually {border: 0;clip: rect(1px 1px 1px 1px);clip: rect(1px, 1px, 1px, 1px);height: 1px;margin: -1px;overflow: hidden;padding: 0;position: absolute;width: 1px;}#sk-ff23ae7b-c45a-48e1-b1d2-7ff53019db16 div.sk-estimator {font-family: monospace;background-color: #f0f8ff;border: 1px dotted black;border-radius: 0.25em;box-sizing: border-box;margin-bottom: 0.5em;}#sk-ff23ae7b-c45a-48e1-b1d2-7ff53019db16 div.sk-estimator:hover {background-color: #d4ebff;}#sk-ff23ae7b-c45a-48e1-b1d2-7ff53019db16 div.sk-parallel-item::after {content: \"\";width: 100%;border-bottom: 1px solid gray;flex-grow: 1;}#sk-ff23ae7b-c45a-48e1-b1d2-7ff53019db16 div.sk-label:hover label.sk-toggleable__label {background-color: #d4ebff;}#sk-ff23ae7b-c45a-48e1-b1d2-7ff53019db16 div.sk-serial::before {content: \"\";position: absolute;border-left: 1px solid gray;box-sizing: border-box;top: 2em;bottom: 0;left: 50%;}#sk-ff23ae7b-c45a-48e1-b1d2-7ff53019db16 div.sk-serial {display: flex;flex-direction: column;align-items: center;background-color: white;padding-right: 0.2em;padding-left: 0.2em;}#sk-ff23ae7b-c45a-48e1-b1d2-7ff53019db16 div.sk-item {z-index: 1;}#sk-ff23ae7b-c45a-48e1-b1d2-7ff53019db16 div.sk-parallel {display: flex;align-items: stretch;justify-content: center;background-color: white;}#sk-ff23ae7b-c45a-48e1-b1d2-7ff53019db16 div.sk-parallel::before {content: \"\";position: absolute;border-left: 1px solid gray;box-sizing: border-box;top: 2em;bottom: 0;left: 50%;}#sk-ff23ae7b-c45a-48e1-b1d2-7ff53019db16 div.sk-parallel-item {display: flex;flex-direction: column;position: relative;background-color: white;}#sk-ff23ae7b-c45a-48e1-b1d2-7ff53019db16 div.sk-parallel-item:first-child::after {align-self: flex-end;width: 50%;}#sk-ff23ae7b-c45a-48e1-b1d2-7ff53019db16 div.sk-parallel-item:last-child::after {align-self: flex-start;width: 50%;}#sk-ff23ae7b-c45a-48e1-b1d2-7ff53019db16 div.sk-parallel-item:only-child::after {width: 0;}#sk-ff23ae7b-c45a-48e1-b1d2-7ff53019db16 div.sk-dashed-wrapped {border: 1px dashed gray;margin: 0 0.4em 0.5em 0.4em;box-sizing: border-box;padding-bottom: 0.4em;background-color: white;position: relative;}#sk-ff23ae7b-c45a-48e1-b1d2-7ff53019db16 div.sk-label label {font-family: monospace;font-weight: bold;background-color: white;display: inline-block;line-height: 1.2em;}#sk-ff23ae7b-c45a-48e1-b1d2-7ff53019db16 div.sk-label-container {position: relative;z-index: 2;text-align: center;}#sk-ff23ae7b-c45a-48e1-b1d2-7ff53019db16 div.sk-container {/* jupyter's `normalize.less` sets `[hidden] { display: none; }` but bootstrap.min.css set `[hidden] { display: none !important; }` so we also need the `!important` here to be able to override the default hidden behavior on the sphinx rendered scikit-learn.org. See: https://github.com/scikit-learn/scikit-learn/issues/21755 */display: inline-block !important;position: relative;}#sk-ff23ae7b-c45a-48e1-b1d2-7ff53019db16 div.sk-text-repr-fallback {display: none;}</style><div id=\"sk-ff23ae7b-c45a-48e1-b1d2-7ff53019db16\" class=\"sk-top-container\"><div class=\"sk-text-repr-fallback\"><pre>Pipeline(steps=[(&#x27;transform&#x27;,\n",
              "                 ColumnTransformer(transformers=[(&#x27;num&#x27;,\n",
              "                                                  Pipeline(steps=[(&#x27;standard&#x27;,\n",
              "                                                                   StandardScaler()),\n",
              "                                                                  (&#x27;imputer&#x27;,\n",
              "                                                                   SimpleImputer(strategy=&#x27;median&#x27;))]),\n",
              "                                                  Index([&#x27;step&#x27;, &#x27;amount&#x27;, &#x27;transferPercentage&#x27;, &#x27;errorDest&#x27;, &#x27;errorOrig&#x27;], dtype=&#x27;object&#x27;)),\n",
              "                                                 (&#x27;cat&#x27;,\n",
              "                                                  Pipeline(steps=[(&#x27;imputer&#x27;,\n",
              "                                                                   SimpleImputer(strategy=&#x27;most_frequent&#x27;)),\n",
              "                                                                  (&#x27;encoder&#x27;,\n",
              "                                                                   OneHotEncoder())]),\n",
              "                                                  Index([&#x27;type&#x27;], dtype=&#x27;object&#x27;))])),\n",
              "                (&#x27;oversample&#x27;, RandomOverSampler(sampling_strategy=0.1)),\n",
              "                (&#x27;undersample&#x27;,\n",
              "                 RandomUnderSampler(sampling_strategy=&#x27;majority&#x27;))])</pre><b>Please rerun this cell to show the HTML repr or trust the notebook.</b></div><div class=\"sk-container\" hidden><div class=\"sk-item sk-dashed-wrapped\"><div class=\"sk-label-container\"><div class=\"sk-label sk-toggleable\"><input class=\"sk-toggleable__control sk-hidden--visually\" id=\"10786127-05d9-4c67-8197-1b5fcbd35b53\" type=\"checkbox\" ><label for=\"10786127-05d9-4c67-8197-1b5fcbd35b53\" class=\"sk-toggleable__label sk-toggleable__label-arrow\">Pipeline</label><div class=\"sk-toggleable__content\"><pre>Pipeline(steps=[(&#x27;transform&#x27;,\n",
              "                 ColumnTransformer(transformers=[(&#x27;num&#x27;,\n",
              "                                                  Pipeline(steps=[(&#x27;standard&#x27;,\n",
              "                                                                   StandardScaler()),\n",
              "                                                                  (&#x27;imputer&#x27;,\n",
              "                                                                   SimpleImputer(strategy=&#x27;median&#x27;))]),\n",
              "                                                  Index([&#x27;step&#x27;, &#x27;amount&#x27;, &#x27;transferPercentage&#x27;, &#x27;errorDest&#x27;, &#x27;errorOrig&#x27;], dtype=&#x27;object&#x27;)),\n",
              "                                                 (&#x27;cat&#x27;,\n",
              "                                                  Pipeline(steps=[(&#x27;imputer&#x27;,\n",
              "                                                                   SimpleImputer(strategy=&#x27;most_frequent&#x27;)),\n",
              "                                                                  (&#x27;encoder&#x27;,\n",
              "                                                                   OneHotEncoder())]),\n",
              "                                                  Index([&#x27;type&#x27;], dtype=&#x27;object&#x27;))])),\n",
              "                (&#x27;oversample&#x27;, RandomOverSampler(sampling_strategy=0.1)),\n",
              "                (&#x27;undersample&#x27;,\n",
              "                 RandomUnderSampler(sampling_strategy=&#x27;majority&#x27;))])</pre></div></div></div><div class=\"sk-serial\"><div class=\"sk-item sk-dashed-wrapped\"><div class=\"sk-label-container\"><div class=\"sk-label sk-toggleable\"><input class=\"sk-toggleable__control sk-hidden--visually\" id=\"115b3d7f-26d9-4143-bd9d-dba6a0377653\" type=\"checkbox\" ><label for=\"115b3d7f-26d9-4143-bd9d-dba6a0377653\" class=\"sk-toggleable__label sk-toggleable__label-arrow\">transform: ColumnTransformer</label><div class=\"sk-toggleable__content\"><pre>ColumnTransformer(transformers=[(&#x27;num&#x27;,\n",
              "                                 Pipeline(steps=[(&#x27;standard&#x27;, StandardScaler()),\n",
              "                                                 (&#x27;imputer&#x27;,\n",
              "                                                  SimpleImputer(strategy=&#x27;median&#x27;))]),\n",
              "                                 Index([&#x27;step&#x27;, &#x27;amount&#x27;, &#x27;transferPercentage&#x27;, &#x27;errorDest&#x27;, &#x27;errorOrig&#x27;], dtype=&#x27;object&#x27;)),\n",
              "                                (&#x27;cat&#x27;,\n",
              "                                 Pipeline(steps=[(&#x27;imputer&#x27;,\n",
              "                                                  SimpleImputer(strategy=&#x27;most_frequent&#x27;)),\n",
              "                                                 (&#x27;encoder&#x27;, OneHotEncoder())]),\n",
              "                                 Index([&#x27;type&#x27;], dtype=&#x27;object&#x27;))])</pre></div></div></div><div class=\"sk-parallel\"><div class=\"sk-parallel-item\"><div class=\"sk-item\"><div class=\"sk-label-container\"><div class=\"sk-label sk-toggleable\"><input class=\"sk-toggleable__control sk-hidden--visually\" id=\"be17360d-d8ef-4064-8413-54e4d070ad67\" type=\"checkbox\" ><label for=\"be17360d-d8ef-4064-8413-54e4d070ad67\" class=\"sk-toggleable__label sk-toggleable__label-arrow\">num</label><div class=\"sk-toggleable__content\"><pre>Index([&#x27;step&#x27;, &#x27;amount&#x27;, &#x27;transferPercentage&#x27;, &#x27;errorDest&#x27;, &#x27;errorOrig&#x27;], dtype=&#x27;object&#x27;)</pre></div></div></div><div class=\"sk-serial\"><div class=\"sk-item\"><div class=\"sk-serial\"><div class=\"sk-item\"><div class=\"sk-estimator sk-toggleable\"><input class=\"sk-toggleable__control sk-hidden--visually\" id=\"ffe931e9-50b0-44cb-a74d-5c22a2a2c710\" type=\"checkbox\" ><label for=\"ffe931e9-50b0-44cb-a74d-5c22a2a2c710\" class=\"sk-toggleable__label sk-toggleable__label-arrow\">StandardScaler</label><div class=\"sk-toggleable__content\"><pre>StandardScaler()</pre></div></div></div><div class=\"sk-item\"><div class=\"sk-estimator sk-toggleable\"><input class=\"sk-toggleable__control sk-hidden--visually\" id=\"3a503691-af55-4d48-b9c5-684b6cfa30da\" type=\"checkbox\" ><label for=\"3a503691-af55-4d48-b9c5-684b6cfa30da\" class=\"sk-toggleable__label sk-toggleable__label-arrow\">SimpleImputer</label><div class=\"sk-toggleable__content\"><pre>SimpleImputer(strategy=&#x27;median&#x27;)</pre></div></div></div></div></div></div></div></div><div class=\"sk-parallel-item\"><div class=\"sk-item\"><div class=\"sk-label-container\"><div class=\"sk-label sk-toggleable\"><input class=\"sk-toggleable__control sk-hidden--visually\" id=\"7770cc38-00e6-4c54-90ee-01e3238fa3e4\" type=\"checkbox\" ><label for=\"7770cc38-00e6-4c54-90ee-01e3238fa3e4\" class=\"sk-toggleable__label sk-toggleable__label-arrow\">cat</label><div class=\"sk-toggleable__content\"><pre>Index([&#x27;type&#x27;], dtype=&#x27;object&#x27;)</pre></div></div></div><div class=\"sk-serial\"><div class=\"sk-item\"><div class=\"sk-serial\"><div class=\"sk-item\"><div class=\"sk-estimator sk-toggleable\"><input class=\"sk-toggleable__control sk-hidden--visually\" id=\"c94a5a6f-9267-4323-bd76-873ee15be8ef\" type=\"checkbox\" ><label for=\"c94a5a6f-9267-4323-bd76-873ee15be8ef\" class=\"sk-toggleable__label sk-toggleable__label-arrow\">SimpleImputer</label><div class=\"sk-toggleable__content\"><pre>SimpleImputer(strategy=&#x27;most_frequent&#x27;)</pre></div></div></div><div class=\"sk-item\"><div class=\"sk-estimator sk-toggleable\"><input class=\"sk-toggleable__control sk-hidden--visually\" id=\"3a2b7b71-3ccd-418d-a7fc-85c95a2b49da\" type=\"checkbox\" ><label for=\"3a2b7b71-3ccd-418d-a7fc-85c95a2b49da\" class=\"sk-toggleable__label sk-toggleable__label-arrow\">OneHotEncoder</label><div class=\"sk-toggleable__content\"><pre>OneHotEncoder()</pre></div></div></div></div></div></div></div></div></div></div><div class=\"sk-item\"><div class=\"sk-estimator sk-toggleable\"><input class=\"sk-toggleable__control sk-hidden--visually\" id=\"32cefd11-0c3d-4198-adc6-f04d94bc4fd8\" type=\"checkbox\" ><label for=\"32cefd11-0c3d-4198-adc6-f04d94bc4fd8\" class=\"sk-toggleable__label sk-toggleable__label-arrow\">RandomOverSampler</label><div class=\"sk-toggleable__content\"><pre>RandomOverSampler(sampling_strategy=0.1)</pre></div></div></div><div class=\"sk-item\"><div class=\"sk-estimator sk-toggleable\"><input class=\"sk-toggleable__control sk-hidden--visually\" id=\"5e17fdef-f1f9-4960-9b90-c9846c8411f1\" type=\"checkbox\" ><label for=\"5e17fdef-f1f9-4960-9b90-c9846c8411f1\" class=\"sk-toggleable__label sk-toggleable__label-arrow\">RandomUnderSampler</label><div class=\"sk-toggleable__content\"><pre>RandomUnderSampler(sampling_strategy=&#x27;majority&#x27;)</pre></div></div></div></div></div></div></div>"
            ]
          },
          "metadata": {},
          "execution_count": 43
        }
      ],
      "source": [
        "test_pip = pip([('transform', preprocess),\n",
        "               ('oversample', RandomOverSampler(sampling_strategy=0.1)),\n",
        "               ('undersample', RandomUnderSampler(sampling_strategy='majority'))\n",
        "])\n",
        "test_pip"
      ]
    },
    {
      "cell_type": "markdown",
      "metadata": {
        "id": "wa7gSknc4u7k"
      },
      "source": [
        "##Model Selection\n",
        "\n",
        "We implemented three classification models: logistic regression classificaiton model, decision tree classsification model, and random forest classification model. \n",
        "\n",
        "To begin, we use basic parameters of each model to roughly estimate the performance of each model. And evaluate them by four kinds of sccore: accuracy, auc, precision and recall.\n",
        "\n",
        "Based on the result of each model, we find out logistic regression is not suitable for this dataset. With random forest providing the best result. Decision tree's result is in the middle of the two models.\n",
        "\n",
        "As a result, we decide to continue with decision tree and random forest into our next steps."
      ]
    },
    {
      "cell_type": "markdown",
      "metadata": {
        "id": "cc01mVFc_rhu"
      },
      "source": [
        "###Logistic Regression\n",
        "\n",
        "Logistic Regression is the statistical fitting of an s-curve logistic or logit function to a dataset in order to calculate the probability of the occurrence of a specific categorical event based on the values of a set of independent variables. \n"
      ]
    },
    {
      "cell_type": "code",
      "execution_count": null,
      "metadata": {
        "colab": {
          "base_uri": "https://localhost:8080/",
          "height": 297
        },
        "id": "aD7hEVdyWjK-",
        "outputId": "7605be70-d3eb-4f1c-eb4a-864cdf844b7d"
      },
      "outputs": [
        {
          "output_type": "execute_result",
          "data": {
            "text/plain": [
              "Pipeline(steps=[('transform',\n",
              "                 ColumnTransformer(transformers=[('num',\n",
              "                                                  Pipeline(steps=[('standard',\n",
              "                                                                   StandardScaler()),\n",
              "                                                                  ('imputer',\n",
              "                                                                   SimpleImputer(strategy='median'))]),\n",
              "                                                  Index(['step', 'amount', 'transferPercentage', 'errorDest', 'errorOrig'], dtype='object')),\n",
              "                                                 ('cat',\n",
              "                                                  Pipeline(steps=[('imputer',\n",
              "                                                                   SimpleImputer(strategy='most_frequent')),\n",
              "                                                                  ('encoder',\n",
              "                                                                   OneHotEncoder())]),\n",
              "                                                  Index(['type'], dtype='object'))])),\n",
              "                ('oversample', RandomOverSampler(sampling_strategy=0.1)),\n",
              "                ('undersample',\n",
              "                 RandomUnderSampler(sampling_strategy='majority')),\n",
              "                ('logistic',\n",
              "                 LogisticRegression(random_state=42, solver='liblinear'))])"
            ],
            "text/html": [
              "<style>#sk-e8808b0f-aada-430a-8e32-143f9ac372a1 {color: black;background-color: white;}#sk-e8808b0f-aada-430a-8e32-143f9ac372a1 pre{padding: 0;}#sk-e8808b0f-aada-430a-8e32-143f9ac372a1 div.sk-toggleable {background-color: white;}#sk-e8808b0f-aada-430a-8e32-143f9ac372a1 label.sk-toggleable__label {cursor: pointer;display: block;width: 100%;margin-bottom: 0;padding: 0.3em;box-sizing: border-box;text-align: center;}#sk-e8808b0f-aada-430a-8e32-143f9ac372a1 label.sk-toggleable__label-arrow:before {content: \"▸\";float: left;margin-right: 0.25em;color: #696969;}#sk-e8808b0f-aada-430a-8e32-143f9ac372a1 label.sk-toggleable__label-arrow:hover:before {color: black;}#sk-e8808b0f-aada-430a-8e32-143f9ac372a1 div.sk-estimator:hover label.sk-toggleable__label-arrow:before {color: black;}#sk-e8808b0f-aada-430a-8e32-143f9ac372a1 div.sk-toggleable__content {max-height: 0;max-width: 0;overflow: hidden;text-align: left;background-color: #f0f8ff;}#sk-e8808b0f-aada-430a-8e32-143f9ac372a1 div.sk-toggleable__content pre {margin: 0.2em;color: black;border-radius: 0.25em;background-color: #f0f8ff;}#sk-e8808b0f-aada-430a-8e32-143f9ac372a1 input.sk-toggleable__control:checked~div.sk-toggleable__content {max-height: 200px;max-width: 100%;overflow: auto;}#sk-e8808b0f-aada-430a-8e32-143f9ac372a1 input.sk-toggleable__control:checked~label.sk-toggleable__label-arrow:before {content: \"▾\";}#sk-e8808b0f-aada-430a-8e32-143f9ac372a1 div.sk-estimator input.sk-toggleable__control:checked~label.sk-toggleable__label {background-color: #d4ebff;}#sk-e8808b0f-aada-430a-8e32-143f9ac372a1 div.sk-label input.sk-toggleable__control:checked~label.sk-toggleable__label {background-color: #d4ebff;}#sk-e8808b0f-aada-430a-8e32-143f9ac372a1 input.sk-hidden--visually {border: 0;clip: rect(1px 1px 1px 1px);clip: rect(1px, 1px, 1px, 1px);height: 1px;margin: -1px;overflow: hidden;padding: 0;position: absolute;width: 1px;}#sk-e8808b0f-aada-430a-8e32-143f9ac372a1 div.sk-estimator {font-family: monospace;background-color: #f0f8ff;border: 1px dotted black;border-radius: 0.25em;box-sizing: border-box;margin-bottom: 0.5em;}#sk-e8808b0f-aada-430a-8e32-143f9ac372a1 div.sk-estimator:hover {background-color: #d4ebff;}#sk-e8808b0f-aada-430a-8e32-143f9ac372a1 div.sk-parallel-item::after {content: \"\";width: 100%;border-bottom: 1px solid gray;flex-grow: 1;}#sk-e8808b0f-aada-430a-8e32-143f9ac372a1 div.sk-label:hover label.sk-toggleable__label {background-color: #d4ebff;}#sk-e8808b0f-aada-430a-8e32-143f9ac372a1 div.sk-serial::before {content: \"\";position: absolute;border-left: 1px solid gray;box-sizing: border-box;top: 2em;bottom: 0;left: 50%;}#sk-e8808b0f-aada-430a-8e32-143f9ac372a1 div.sk-serial {display: flex;flex-direction: column;align-items: center;background-color: white;padding-right: 0.2em;padding-left: 0.2em;}#sk-e8808b0f-aada-430a-8e32-143f9ac372a1 div.sk-item {z-index: 1;}#sk-e8808b0f-aada-430a-8e32-143f9ac372a1 div.sk-parallel {display: flex;align-items: stretch;justify-content: center;background-color: white;}#sk-e8808b0f-aada-430a-8e32-143f9ac372a1 div.sk-parallel::before {content: \"\";position: absolute;border-left: 1px solid gray;box-sizing: border-box;top: 2em;bottom: 0;left: 50%;}#sk-e8808b0f-aada-430a-8e32-143f9ac372a1 div.sk-parallel-item {display: flex;flex-direction: column;position: relative;background-color: white;}#sk-e8808b0f-aada-430a-8e32-143f9ac372a1 div.sk-parallel-item:first-child::after {align-self: flex-end;width: 50%;}#sk-e8808b0f-aada-430a-8e32-143f9ac372a1 div.sk-parallel-item:last-child::after {align-self: flex-start;width: 50%;}#sk-e8808b0f-aada-430a-8e32-143f9ac372a1 div.sk-parallel-item:only-child::after {width: 0;}#sk-e8808b0f-aada-430a-8e32-143f9ac372a1 div.sk-dashed-wrapped {border: 1px dashed gray;margin: 0 0.4em 0.5em 0.4em;box-sizing: border-box;padding-bottom: 0.4em;background-color: white;position: relative;}#sk-e8808b0f-aada-430a-8e32-143f9ac372a1 div.sk-label label {font-family: monospace;font-weight: bold;background-color: white;display: inline-block;line-height: 1.2em;}#sk-e8808b0f-aada-430a-8e32-143f9ac372a1 div.sk-label-container {position: relative;z-index: 2;text-align: center;}#sk-e8808b0f-aada-430a-8e32-143f9ac372a1 div.sk-container {/* jupyter's `normalize.less` sets `[hidden] { display: none; }` but bootstrap.min.css set `[hidden] { display: none !important; }` so we also need the `!important` here to be able to override the default hidden behavior on the sphinx rendered scikit-learn.org. See: https://github.com/scikit-learn/scikit-learn/issues/21755 */display: inline-block !important;position: relative;}#sk-e8808b0f-aada-430a-8e32-143f9ac372a1 div.sk-text-repr-fallback {display: none;}</style><div id=\"sk-e8808b0f-aada-430a-8e32-143f9ac372a1\" class=\"sk-top-container\"><div class=\"sk-text-repr-fallback\"><pre>Pipeline(steps=[(&#x27;transform&#x27;,\n",
              "                 ColumnTransformer(transformers=[(&#x27;num&#x27;,\n",
              "                                                  Pipeline(steps=[(&#x27;standard&#x27;,\n",
              "                                                                   StandardScaler()),\n",
              "                                                                  (&#x27;imputer&#x27;,\n",
              "                                                                   SimpleImputer(strategy=&#x27;median&#x27;))]),\n",
              "                                                  Index([&#x27;step&#x27;, &#x27;amount&#x27;, &#x27;transferPercentage&#x27;, &#x27;errorDest&#x27;, &#x27;errorOrig&#x27;], dtype=&#x27;object&#x27;)),\n",
              "                                                 (&#x27;cat&#x27;,\n",
              "                                                  Pipeline(steps=[(&#x27;imputer&#x27;,\n",
              "                                                                   SimpleImputer(strategy=&#x27;most_frequent&#x27;)),\n",
              "                                                                  (&#x27;encoder&#x27;,\n",
              "                                                                   OneHotEncoder())]),\n",
              "                                                  Index([&#x27;type&#x27;], dtype=&#x27;object&#x27;))])),\n",
              "                (&#x27;oversample&#x27;, RandomOverSampler(sampling_strategy=0.1)),\n",
              "                (&#x27;undersample&#x27;,\n",
              "                 RandomUnderSampler(sampling_strategy=&#x27;majority&#x27;)),\n",
              "                (&#x27;logistic&#x27;,\n",
              "                 LogisticRegression(random_state=42, solver=&#x27;liblinear&#x27;))])</pre><b>Please rerun this cell to show the HTML repr or trust the notebook.</b></div><div class=\"sk-container\" hidden><div class=\"sk-item sk-dashed-wrapped\"><div class=\"sk-label-container\"><div class=\"sk-label sk-toggleable\"><input class=\"sk-toggleable__control sk-hidden--visually\" id=\"acf972b5-7fcd-47df-9e7b-6bb5f0476ae7\" type=\"checkbox\" ><label for=\"acf972b5-7fcd-47df-9e7b-6bb5f0476ae7\" class=\"sk-toggleable__label sk-toggleable__label-arrow\">Pipeline</label><div class=\"sk-toggleable__content\"><pre>Pipeline(steps=[(&#x27;transform&#x27;,\n",
              "                 ColumnTransformer(transformers=[(&#x27;num&#x27;,\n",
              "                                                  Pipeline(steps=[(&#x27;standard&#x27;,\n",
              "                                                                   StandardScaler()),\n",
              "                                                                  (&#x27;imputer&#x27;,\n",
              "                                                                   SimpleImputer(strategy=&#x27;median&#x27;))]),\n",
              "                                                  Index([&#x27;step&#x27;, &#x27;amount&#x27;, &#x27;transferPercentage&#x27;, &#x27;errorDest&#x27;, &#x27;errorOrig&#x27;], dtype=&#x27;object&#x27;)),\n",
              "                                                 (&#x27;cat&#x27;,\n",
              "                                                  Pipeline(steps=[(&#x27;imputer&#x27;,\n",
              "                                                                   SimpleImputer(strategy=&#x27;most_frequent&#x27;)),\n",
              "                                                                  (&#x27;encoder&#x27;,\n",
              "                                                                   OneHotEncoder())]),\n",
              "                                                  Index([&#x27;type&#x27;], dtype=&#x27;object&#x27;))])),\n",
              "                (&#x27;oversample&#x27;, RandomOverSampler(sampling_strategy=0.1)),\n",
              "                (&#x27;undersample&#x27;,\n",
              "                 RandomUnderSampler(sampling_strategy=&#x27;majority&#x27;)),\n",
              "                (&#x27;logistic&#x27;,\n",
              "                 LogisticRegression(random_state=42, solver=&#x27;liblinear&#x27;))])</pre></div></div></div><div class=\"sk-serial\"><div class=\"sk-item sk-dashed-wrapped\"><div class=\"sk-label-container\"><div class=\"sk-label sk-toggleable\"><input class=\"sk-toggleable__control sk-hidden--visually\" id=\"948721f9-a843-45af-8706-b3293c87598f\" type=\"checkbox\" ><label for=\"948721f9-a843-45af-8706-b3293c87598f\" class=\"sk-toggleable__label sk-toggleable__label-arrow\">transform: ColumnTransformer</label><div class=\"sk-toggleable__content\"><pre>ColumnTransformer(transformers=[(&#x27;num&#x27;,\n",
              "                                 Pipeline(steps=[(&#x27;standard&#x27;, StandardScaler()),\n",
              "                                                 (&#x27;imputer&#x27;,\n",
              "                                                  SimpleImputer(strategy=&#x27;median&#x27;))]),\n",
              "                                 Index([&#x27;step&#x27;, &#x27;amount&#x27;, &#x27;transferPercentage&#x27;, &#x27;errorDest&#x27;, &#x27;errorOrig&#x27;], dtype=&#x27;object&#x27;)),\n",
              "                                (&#x27;cat&#x27;,\n",
              "                                 Pipeline(steps=[(&#x27;imputer&#x27;,\n",
              "                                                  SimpleImputer(strategy=&#x27;most_frequent&#x27;)),\n",
              "                                                 (&#x27;encoder&#x27;, OneHotEncoder())]),\n",
              "                                 Index([&#x27;type&#x27;], dtype=&#x27;object&#x27;))])</pre></div></div></div><div class=\"sk-parallel\"><div class=\"sk-parallel-item\"><div class=\"sk-item\"><div class=\"sk-label-container\"><div class=\"sk-label sk-toggleable\"><input class=\"sk-toggleable__control sk-hidden--visually\" id=\"e651f219-efc9-487a-b6cb-45176edf7d75\" type=\"checkbox\" ><label for=\"e651f219-efc9-487a-b6cb-45176edf7d75\" class=\"sk-toggleable__label sk-toggleable__label-arrow\">num</label><div class=\"sk-toggleable__content\"><pre>Index([&#x27;step&#x27;, &#x27;amount&#x27;, &#x27;transferPercentage&#x27;, &#x27;errorDest&#x27;, &#x27;errorOrig&#x27;], dtype=&#x27;object&#x27;)</pre></div></div></div><div class=\"sk-serial\"><div class=\"sk-item\"><div class=\"sk-serial\"><div class=\"sk-item\"><div class=\"sk-estimator sk-toggleable\"><input class=\"sk-toggleable__control sk-hidden--visually\" id=\"4c6fcf6b-32c8-4ec4-ab3d-50e5ed3173bd\" type=\"checkbox\" ><label for=\"4c6fcf6b-32c8-4ec4-ab3d-50e5ed3173bd\" class=\"sk-toggleable__label sk-toggleable__label-arrow\">StandardScaler</label><div class=\"sk-toggleable__content\"><pre>StandardScaler()</pre></div></div></div><div class=\"sk-item\"><div class=\"sk-estimator sk-toggleable\"><input class=\"sk-toggleable__control sk-hidden--visually\" id=\"f69bde50-964b-4146-9c4f-eed9e9a20aac\" type=\"checkbox\" ><label for=\"f69bde50-964b-4146-9c4f-eed9e9a20aac\" class=\"sk-toggleable__label sk-toggleable__label-arrow\">SimpleImputer</label><div class=\"sk-toggleable__content\"><pre>SimpleImputer(strategy=&#x27;median&#x27;)</pre></div></div></div></div></div></div></div></div><div class=\"sk-parallel-item\"><div class=\"sk-item\"><div class=\"sk-label-container\"><div class=\"sk-label sk-toggleable\"><input class=\"sk-toggleable__control sk-hidden--visually\" id=\"6fd246b9-eba1-4679-8317-7a2823cff6fd\" type=\"checkbox\" ><label for=\"6fd246b9-eba1-4679-8317-7a2823cff6fd\" class=\"sk-toggleable__label sk-toggleable__label-arrow\">cat</label><div class=\"sk-toggleable__content\"><pre>Index([&#x27;type&#x27;], dtype=&#x27;object&#x27;)</pre></div></div></div><div class=\"sk-serial\"><div class=\"sk-item\"><div class=\"sk-serial\"><div class=\"sk-item\"><div class=\"sk-estimator sk-toggleable\"><input class=\"sk-toggleable__control sk-hidden--visually\" id=\"29d0c397-309d-44fb-ab5b-72fd9acf333d\" type=\"checkbox\" ><label for=\"29d0c397-309d-44fb-ab5b-72fd9acf333d\" class=\"sk-toggleable__label sk-toggleable__label-arrow\">SimpleImputer</label><div class=\"sk-toggleable__content\"><pre>SimpleImputer(strategy=&#x27;most_frequent&#x27;)</pre></div></div></div><div class=\"sk-item\"><div class=\"sk-estimator sk-toggleable\"><input class=\"sk-toggleable__control sk-hidden--visually\" id=\"f10b3bf1-ac6e-485b-a061-055e376da5f5\" type=\"checkbox\" ><label for=\"f10b3bf1-ac6e-485b-a061-055e376da5f5\" class=\"sk-toggleable__label sk-toggleable__label-arrow\">OneHotEncoder</label><div class=\"sk-toggleable__content\"><pre>OneHotEncoder()</pre></div></div></div></div></div></div></div></div></div></div><div class=\"sk-item\"><div class=\"sk-estimator sk-toggleable\"><input class=\"sk-toggleable__control sk-hidden--visually\" id=\"269247ab-c3ca-414f-b0c4-a209598e0d3d\" type=\"checkbox\" ><label for=\"269247ab-c3ca-414f-b0c4-a209598e0d3d\" class=\"sk-toggleable__label sk-toggleable__label-arrow\">RandomOverSampler</label><div class=\"sk-toggleable__content\"><pre>RandomOverSampler(sampling_strategy=0.1)</pre></div></div></div><div class=\"sk-item\"><div class=\"sk-estimator sk-toggleable\"><input class=\"sk-toggleable__control sk-hidden--visually\" id=\"97aec16d-8825-4c37-96f8-84beeefa1f12\" type=\"checkbox\" ><label for=\"97aec16d-8825-4c37-96f8-84beeefa1f12\" class=\"sk-toggleable__label sk-toggleable__label-arrow\">RandomUnderSampler</label><div class=\"sk-toggleable__content\"><pre>RandomUnderSampler(sampling_strategy=&#x27;majority&#x27;)</pre></div></div></div><div class=\"sk-item\"><div class=\"sk-estimator sk-toggleable\"><input class=\"sk-toggleable__control sk-hidden--visually\" id=\"f502b2f3-72bf-4763-a90e-266350c12fc0\" type=\"checkbox\" ><label for=\"f502b2f3-72bf-4763-a90e-266350c12fc0\" class=\"sk-toggleable__label sk-toggleable__label-arrow\">LogisticRegression</label><div class=\"sk-toggleable__content\"><pre>LogisticRegression(random_state=42, solver=&#x27;liblinear&#x27;)</pre></div></div></div></div></div></div></div>"
            ]
          },
          "metadata": {},
          "execution_count": 44
        }
      ],
      "source": [
        "#add the logistic regression estimator into pipeline.\n",
        "lg_cla = pip([('transform', preprocess),\n",
        "               ('oversample', RandomOverSampler(sampling_strategy=0.1)),\n",
        "               ('undersample', RandomUnderSampler(sampling_strategy='majority')),\n",
        "               ('logistic', LogisticRegression(penalty='l2',solver=\"liblinear\", random_state=42))\n",
        "])\n",
        "lg_cla"
      ]
    },
    {
      "cell_type": "code",
      "execution_count": null,
      "metadata": {
        "id": "ht4zUqJEJqdk"
      },
      "outputs": [],
      "source": [
        "lg_cla.fit(X_train, y_train)\n",
        "y_pred_lg = lg_cla.predict(X_test)"
      ]
    },
    {
      "cell_type": "markdown",
      "metadata": {
        "id": "KmOEKIW-Dak0"
      },
      "source": [
        "Examining the scores in the next block, the precision score is only 2.62%. That means we have too many cases that are not default but are treated as default in this model.\n",
        "\n"
      ]
    },
    {
      "cell_type": "code",
      "execution_count": null,
      "metadata": {
        "colab": {
          "base_uri": "https://localhost:8080/"
        },
        "id": "IcokPC0ocOy3",
        "outputId": "48546805-0df2-4b0d-f12a-8e28e5e9caac"
      },
      "outputs": [
        {
          "output_type": "stream",
          "name": "stdout",
          "text": [
            "Test accuracy score was 95.07%.\n",
            "Test balanced accuracy score was 94.88%.\n",
            "Test auc score was 94.88%.\n",
            "Test precision score was 2.42%.\n",
            "Test recall score was 94.69%.\n"
          ]
        }
      ],
      "source": [
        "#print score for logistic regression\n",
        "print(f'Test accuracy score was {accuracy_score(y_test, y_pred_lg):2.2%}.')\n",
        "print(f'Test balanced accuracy score was {balanced_accuracy_score(y_test, y_pred_lg):2.2%}.')\n",
        "print(f'Test auc score was {roc_auc_score(y_test, y_pred_lg):2.2%}.')\n",
        "print(f'Test precision score was {precision_score(y_test, y_pred_lg):2.2%}.')#precision score was just 2.62 means lots of non fraud marked as 1.\n",
        "print(f'Test recall score was {recall_score(y_test, y_pred_lg):2.2%}.')"
      ]
    },
    {
      "cell_type": "code",
      "source": [
        "ConfusionMatrixDisplay.from_predictions(y_test, y_pred_lg);\n",
        "print(classification_report(y_test, y_pred_lg))"
      ],
      "metadata": {
        "colab": {
          "base_uri": "https://localhost:8080/",
          "height": 451
        },
        "id": "wn8a97QYL0eL",
        "outputId": "fb55fb22-c612-450d-ce95-b25905476af6"
      },
      "execution_count": null,
      "outputs": [
        {
          "output_type": "stream",
          "name": "stdout",
          "text": [
            "              precision    recall  f1-score   support\n",
            "\n",
            "           0       1.00      0.95      0.97   1270882\n",
            "           1       0.02      0.95      0.05      1639\n",
            "\n",
            "    accuracy                           0.95   1272521\n",
            "   macro avg       0.51      0.95      0.51   1272521\n",
            "weighted avg       1.00      0.95      0.97   1272521\n",
            "\n"
          ]
        },
        {
          "output_type": "display_data",
          "data": {
            "text/plain": [
              "<Figure size 432x288 with 2 Axes>"
            ],
            "image/png": "[encoded data removed]"
          },
          "metadata": {
            "needs_background": "light"
          }
        }
      ]
    },
    {
      "cell_type": "markdown",
      "metadata": {
        "id": "GTP8uGgEDVRD"
      },
      "source": [
        "###Decision Tree\n",
        "\n",
        "A decision tree is a supervised learning technique that has a pre-defined target variable and is most often used in classification problems. This tree can be applied to either categorical or continuous input & output variables. The training process resembles a flow chart, with each internal (non-leaf) node a test of an attribute, each branch is the outcome of that test, and each leaf (terminal) node contains a class label. The uppermost node in the tree is called the root node.\n"
      ]
    },
    {
      "cell_type": "code",
      "execution_count": null,
      "metadata": {
        "colab": {
          "base_uri": "https://localhost:8080/",
          "height": 297
        },
        "id": "JE1kv9KqcQ63",
        "outputId": "5160d8a1-141f-480a-a92b-48de11882f17"
      },
      "outputs": [
        {
          "output_type": "execute_result",
          "data": {
            "text/plain": [
              "Pipeline(steps=[('transform',\n",
              "                 ColumnTransformer(transformers=[('num',\n",
              "                                                  Pipeline(steps=[('standard',\n",
              "                                                                   StandardScaler()),\n",
              "                                                                  ('imputer',\n",
              "                                                                   SimpleImputer(strategy='median'))]),\n",
              "                                                  Index(['step', 'amount', 'transferPercentage', 'errorDest', 'errorOrig'], dtype='object')),\n",
              "                                                 ('cat',\n",
              "                                                  Pipeline(steps=[('imputer',\n",
              "                                                                   SimpleImputer(strategy='most_frequent')),\n",
              "                                                                  ('encoder',\n",
              "                                                                   OneHotEncoder())]),\n",
              "                                                  Index(['type'], dtype='object'))])),\n",
              "                ('oversample', RandomOverSampler(sampling_strategy=0.1)),\n",
              "                ('undersample',\n",
              "                 RandomUnderSampler(sampling_strategy='majority')),\n",
              "                ('tree', DecisionTreeClassifier(max_depth=3, random_state=42))])"
            ],
            "text/html": [
              "<style>#sk-26bd2642-d683-467e-b3f4-96de03bbe75d {color: black;background-color: white;}#sk-26bd2642-d683-467e-b3f4-96de03bbe75d pre{padding: 0;}#sk-26bd2642-d683-467e-b3f4-96de03bbe75d div.sk-toggleable {background-color: white;}#sk-26bd2642-d683-467e-b3f4-96de03bbe75d label.sk-toggleable__label {cursor: pointer;display: block;width: 100%;margin-bottom: 0;padding: 0.3em;box-sizing: border-box;text-align: center;}#sk-26bd2642-d683-467e-b3f4-96de03bbe75d label.sk-toggleable__label-arrow:before {content: \"▸\";float: left;margin-right: 0.25em;color: #696969;}#sk-26bd2642-d683-467e-b3f4-96de03bbe75d label.sk-toggleable__label-arrow:hover:before {color: black;}#sk-26bd2642-d683-467e-b3f4-96de03bbe75d div.sk-estimator:hover label.sk-toggleable__label-arrow:before {color: black;}#sk-26bd2642-d683-467e-b3f4-96de03bbe75d div.sk-toggleable__content {max-height: 0;max-width: 0;overflow: hidden;text-align: left;background-color: #f0f8ff;}#sk-26bd2642-d683-467e-b3f4-96de03bbe75d div.sk-toggleable__content pre {margin: 0.2em;color: black;border-radius: 0.25em;background-color: #f0f8ff;}#sk-26bd2642-d683-467e-b3f4-96de03bbe75d input.sk-toggleable__control:checked~div.sk-toggleable__content {max-height: 200px;max-width: 100%;overflow: auto;}#sk-26bd2642-d683-467e-b3f4-96de03bbe75d input.sk-toggleable__control:checked~label.sk-toggleable__label-arrow:before {content: \"▾\";}#sk-26bd2642-d683-467e-b3f4-96de03bbe75d div.sk-estimator input.sk-toggleable__control:checked~label.sk-toggleable__label {background-color: #d4ebff;}#sk-26bd2642-d683-467e-b3f4-96de03bbe75d div.sk-label input.sk-toggleable__control:checked~label.sk-toggleable__label {background-color: #d4ebff;}#sk-26bd2642-d683-467e-b3f4-96de03bbe75d input.sk-hidden--visually {border: 0;clip: rect(1px 1px 1px 1px);clip: rect(1px, 1px, 1px, 1px);height: 1px;margin: -1px;overflow: hidden;padding: 0;position: absolute;width: 1px;}#sk-26bd2642-d683-467e-b3f4-96de03bbe75d div.sk-estimator {font-family: monospace;background-color: #f0f8ff;border: 1px dotted black;border-radius: 0.25em;box-sizing: border-box;margin-bottom: 0.5em;}#sk-26bd2642-d683-467e-b3f4-96de03bbe75d div.sk-estimator:hover {background-color: #d4ebff;}#sk-26bd2642-d683-467e-b3f4-96de03bbe75d div.sk-parallel-item::after {content: \"\";width: 100%;border-bottom: 1px solid gray;flex-grow: 1;}#sk-26bd2642-d683-467e-b3f4-96de03bbe75d div.sk-label:hover label.sk-toggleable__label {background-color: #d4ebff;}#sk-26bd2642-d683-467e-b3f4-96de03bbe75d div.sk-serial::before {content: \"\";position: absolute;border-left: 1px solid gray;box-sizing: border-box;top: 2em;bottom: 0;left: 50%;}#sk-26bd2642-d683-467e-b3f4-96de03bbe75d div.sk-serial {display: flex;flex-direction: column;align-items: center;background-color: white;padding-right: 0.2em;padding-left: 0.2em;}#sk-26bd2642-d683-467e-b3f4-96de03bbe75d div.sk-item {z-index: 1;}#sk-26bd2642-d683-467e-b3f4-96de03bbe75d div.sk-parallel {display: flex;align-items: stretch;justify-content: center;background-color: white;}#sk-26bd2642-d683-467e-b3f4-96de03bbe75d div.sk-parallel::before {content: \"\";position: absolute;border-left: 1px solid gray;box-sizing: border-box;top: 2em;bottom: 0;left: 50%;}#sk-26bd2642-d683-467e-b3f4-96de03bbe75d div.sk-parallel-item {display: flex;flex-direction: column;position: relative;background-color: white;}#sk-26bd2642-d683-467e-b3f4-96de03bbe75d div.sk-parallel-item:first-child::after {align-self: flex-end;width: 50%;}#sk-26bd2642-d683-467e-b3f4-96de03bbe75d div.sk-parallel-item:last-child::after {align-self: flex-start;width: 50%;}#sk-26bd2642-d683-467e-b3f4-96de03bbe75d div.sk-parallel-item:only-child::after {width: 0;}#sk-26bd2642-d683-467e-b3f4-96de03bbe75d div.sk-dashed-wrapped {border: 1px dashed gray;margin: 0 0.4em 0.5em 0.4em;box-sizing: border-box;padding-bottom: 0.4em;background-color: white;position: relative;}#sk-26bd2642-d683-467e-b3f4-96de03bbe75d div.sk-label label {font-family: monospace;font-weight: bold;background-color: white;display: inline-block;line-height: 1.2em;}#sk-26bd2642-d683-467e-b3f4-96de03bbe75d div.sk-label-container {position: relative;z-index: 2;text-align: center;}#sk-26bd2642-d683-467e-b3f4-96de03bbe75d div.sk-container {/* jupyter's `normalize.less` sets `[hidden] { display: none; }` but bootstrap.min.css set `[hidden] { display: none !important; }` so we also need the `!important` here to be able to override the default hidden behavior on the sphinx rendered scikit-learn.org. See: https://github.com/scikit-learn/scikit-learn/issues/21755 */display: inline-block !important;position: relative;}#sk-26bd2642-d683-467e-b3f4-96de03bbe75d div.sk-text-repr-fallback {display: none;}</style><div id=\"sk-26bd2642-d683-467e-b3f4-96de03bbe75d\" class=\"sk-top-container\"><div class=\"sk-text-repr-fallback\"><pre>Pipeline(steps=[(&#x27;transform&#x27;,\n",
              "                 ColumnTransformer(transformers=[(&#x27;num&#x27;,\n",
              "                                                  Pipeline(steps=[(&#x27;standard&#x27;,\n",
              "                                                                   StandardScaler()),\n",
              "                                                                  (&#x27;imputer&#x27;,\n",
              "                                                                   SimpleImputer(strategy=&#x27;median&#x27;))]),\n",
              "                                                  Index([&#x27;step&#x27;, &#x27;amount&#x27;, &#x27;transferPercentage&#x27;, &#x27;errorDest&#x27;, &#x27;errorOrig&#x27;], dtype=&#x27;object&#x27;)),\n",
              "                                                 (&#x27;cat&#x27;,\n",
              "                                                  Pipeline(steps=[(&#x27;imputer&#x27;,\n",
              "                                                                   SimpleImputer(strategy=&#x27;most_frequent&#x27;)),\n",
              "                                                                  (&#x27;encoder&#x27;,\n",
              "                                                                   OneHotEncoder())]),\n",
              "                                                  Index([&#x27;type&#x27;], dtype=&#x27;object&#x27;))])),\n",
              "                (&#x27;oversample&#x27;, RandomOverSampler(sampling_strategy=0.1)),\n",
              "                (&#x27;undersample&#x27;,\n",
              "                 RandomUnderSampler(sampling_strategy=&#x27;majority&#x27;)),\n",
              "                (&#x27;tree&#x27;, DecisionTreeClassifier(max_depth=3, random_state=42))])</pre><b>Please rerun this cell to show the HTML repr or trust the notebook.</b></div><div class=\"sk-container\" hidden><div class=\"sk-item sk-dashed-wrapped\"><div class=\"sk-label-container\"><div class=\"sk-label sk-toggleable\"><input class=\"sk-toggleable__control sk-hidden--visually\" id=\"bba1437e-1067-4d79-9773-3dac50b92e59\" type=\"checkbox\" ><label for=\"bba1437e-1067-4d79-9773-3dac50b92e59\" class=\"sk-toggleable__label sk-toggleable__label-arrow\">Pipeline</label><div class=\"sk-toggleable__content\"><pre>Pipeline(steps=[(&#x27;transform&#x27;,\n",
              "                 ColumnTransformer(transformers=[(&#x27;num&#x27;,\n",
              "                                                  Pipeline(steps=[(&#x27;standard&#x27;,\n",
              "                                                                   StandardScaler()),\n",
              "                                                                  (&#x27;imputer&#x27;,\n",
              "                                                                   SimpleImputer(strategy=&#x27;median&#x27;))]),\n",
              "                                                  Index([&#x27;step&#x27;, &#x27;amount&#x27;, &#x27;transferPercentage&#x27;, &#x27;errorDest&#x27;, &#x27;errorOrig&#x27;], dtype=&#x27;object&#x27;)),\n",
              "                                                 (&#x27;cat&#x27;,\n",
              "                                                  Pipeline(steps=[(&#x27;imputer&#x27;,\n",
              "                                                                   SimpleImputer(strategy=&#x27;most_frequent&#x27;)),\n",
              "                                                                  (&#x27;encoder&#x27;,\n",
              "                                                                   OneHotEncoder())]),\n",
              "                                                  Index([&#x27;type&#x27;], dtype=&#x27;object&#x27;))])),\n",
              "                (&#x27;oversample&#x27;, RandomOverSampler(sampling_strategy=0.1)),\n",
              "                (&#x27;undersample&#x27;,\n",
              "                 RandomUnderSampler(sampling_strategy=&#x27;majority&#x27;)),\n",
              "                (&#x27;tree&#x27;, DecisionTreeClassifier(max_depth=3, random_state=42))])</pre></div></div></div><div class=\"sk-serial\"><div class=\"sk-item sk-dashed-wrapped\"><div class=\"sk-label-container\"><div class=\"sk-label sk-toggleable\"><input class=\"sk-toggleable__control sk-hidden--visually\" id=\"b2f02e18-72b0-464a-ae2f-d121f5dbe6b1\" type=\"checkbox\" ><label for=\"b2f02e18-72b0-464a-ae2f-d121f5dbe6b1\" class=\"sk-toggleable__label sk-toggleable__label-arrow\">transform: ColumnTransformer</label><div class=\"sk-toggleable__content\"><pre>ColumnTransformer(transformers=[(&#x27;num&#x27;,\n",
              "                                 Pipeline(steps=[(&#x27;standard&#x27;, StandardScaler()),\n",
              "                                                 (&#x27;imputer&#x27;,\n",
              "                                                  SimpleImputer(strategy=&#x27;median&#x27;))]),\n",
              "                                 Index([&#x27;step&#x27;, &#x27;amount&#x27;, &#x27;transferPercentage&#x27;, &#x27;errorDest&#x27;, &#x27;errorOrig&#x27;], dtype=&#x27;object&#x27;)),\n",
              "                                (&#x27;cat&#x27;,\n",
              "                                 Pipeline(steps=[(&#x27;imputer&#x27;,\n",
              "                                                  SimpleImputer(strategy=&#x27;most_frequent&#x27;)),\n",
              "                                                 (&#x27;encoder&#x27;, OneHotEncoder())]),\n",
              "                                 Index([&#x27;type&#x27;], dtype=&#x27;object&#x27;))])</pre></div></div></div><div class=\"sk-parallel\"><div class=\"sk-parallel-item\"><div class=\"sk-item\"><div class=\"sk-label-container\"><div class=\"sk-label sk-toggleable\"><input class=\"sk-toggleable__control sk-hidden--visually\" id=\"9cdf866f-5fe1-4510-a476-ea973ea619e6\" type=\"checkbox\" ><label for=\"9cdf866f-5fe1-4510-a476-ea973ea619e6\" class=\"sk-toggleable__label sk-toggleable__label-arrow\">num</label><div class=\"sk-toggleable__content\"><pre>Index([&#x27;step&#x27;, &#x27;amount&#x27;, &#x27;transferPercentage&#x27;, &#x27;errorDest&#x27;, &#x27;errorOrig&#x27;], dtype=&#x27;object&#x27;)</pre></div></div></div><div class=\"sk-serial\"><div class=\"sk-item\"><div class=\"sk-serial\"><div class=\"sk-item\"><div class=\"sk-estimator sk-toggleable\"><input class=\"sk-toggleable__control sk-hidden--visually\" id=\"aa92de5a-3628-44f1-a8ef-0e721219eb0f\" type=\"checkbox\" ><label for=\"aa92de5a-3628-44f1-a8ef-0e721219eb0f\" class=\"sk-toggleable__label sk-toggleable__label-arrow\">StandardScaler</label><div class=\"sk-toggleable__content\"><pre>StandardScaler()</pre></div></div></div><div class=\"sk-item\"><div class=\"sk-estimator sk-toggleable\"><input class=\"sk-toggleable__control sk-hidden--visually\" id=\"929be207-a9f6-4cb0-933c-8b1e596e9c09\" type=\"checkbox\" ><label for=\"929be207-a9f6-4cb0-933c-8b1e596e9c09\" class=\"sk-toggleable__label sk-toggleable__label-arrow\">SimpleImputer</label><div class=\"sk-toggleable__content\"><pre>SimpleImputer(strategy=&#x27;median&#x27;)</pre></div></div></div></div></div></div></div></div><div class=\"sk-parallel-item\"><div class=\"sk-item\"><div class=\"sk-label-container\"><div class=\"sk-label sk-toggleable\"><input class=\"sk-toggleable__control sk-hidden--visually\" id=\"ed3177d3-d4e8-4b14-b6d3-be6c304cf2ee\" type=\"checkbox\" ><label for=\"ed3177d3-d4e8-4b14-b6d3-be6c304cf2ee\" class=\"sk-toggleable__label sk-toggleable__label-arrow\">cat</label><div class=\"sk-toggleable__content\"><pre>Index([&#x27;type&#x27;], dtype=&#x27;object&#x27;)</pre></div></div></div><div class=\"sk-serial\"><div class=\"sk-item\"><div class=\"sk-serial\"><div class=\"sk-item\"><div class=\"sk-estimator sk-toggleable\"><input class=\"sk-toggleable__control sk-hidden--visually\" id=\"bac9a797-b09f-4864-80e2-84749493f792\" type=\"checkbox\" ><label for=\"bac9a797-b09f-4864-80e2-84749493f792\" class=\"sk-toggleable__label sk-toggleable__label-arrow\">SimpleImputer</label><div class=\"sk-toggleable__content\"><pre>SimpleImputer(strategy=&#x27;most_frequent&#x27;)</pre></div></div></div><div class=\"sk-item\"><div class=\"sk-estimator sk-toggleable\"><input class=\"sk-toggleable__control sk-hidden--visually\" id=\"f15663bc-6894-40b2-85cf-d325bc97aea8\" type=\"checkbox\" ><label for=\"f15663bc-6894-40b2-85cf-d325bc97aea8\" class=\"sk-toggleable__label sk-toggleable__label-arrow\">OneHotEncoder</label><div class=\"sk-toggleable__content\"><pre>OneHotEncoder()</pre></div></div></div></div></div></div></div></div></div></div><div class=\"sk-item\"><div class=\"sk-estimator sk-toggleable\"><input class=\"sk-toggleable__control sk-hidden--visually\" id=\"052a9dc9-1f60-4c69-ba94-e404c54e98a3\" type=\"checkbox\" ><label for=\"052a9dc9-1f60-4c69-ba94-e404c54e98a3\" class=\"sk-toggleable__label sk-toggleable__label-arrow\">RandomOverSampler</label><div class=\"sk-toggleable__content\"><pre>RandomOverSampler(sampling_strategy=0.1)</pre></div></div></div><div class=\"sk-item\"><div class=\"sk-estimator sk-toggleable\"><input class=\"sk-toggleable__control sk-hidden--visually\" id=\"90bec5c2-ccfb-4639-9df5-3ffa04fcfd19\" type=\"checkbox\" ><label for=\"90bec5c2-ccfb-4639-9df5-3ffa04fcfd19\" class=\"sk-toggleable__label sk-toggleable__label-arrow\">RandomUnderSampler</label><div class=\"sk-toggleable__content\"><pre>RandomUnderSampler(sampling_strategy=&#x27;majority&#x27;)</pre></div></div></div><div class=\"sk-item\"><div class=\"sk-estimator sk-toggleable\"><input class=\"sk-toggleable__control sk-hidden--visually\" id=\"8e045ab9-93e2-4e4f-826c-83ad4d98c527\" type=\"checkbox\" ><label for=\"8e045ab9-93e2-4e4f-826c-83ad4d98c527\" class=\"sk-toggleable__label sk-toggleable__label-arrow\">DecisionTreeClassifier</label><div class=\"sk-toggleable__content\"><pre>DecisionTreeClassifier(max_depth=3, random_state=42)</pre></div></div></div></div></div></div></div>"
            ]
          },
          "metadata": {},
          "execution_count": 48
        }
      ],
      "source": [
        "tree_cla = pip([('transform', preprocess),\n",
        "               ('oversample', RandomOverSampler(sampling_strategy=0.1)),\n",
        "               ('undersample', RandomUnderSampler(sampling_strategy='majority')),\n",
        "               ('tree', DecisionTreeClassifier(max_depth = 3, random_state=42))\n",
        "])\n",
        "tree_cla"
      ]
    },
    {
      "cell_type": "code",
      "execution_count": null,
      "metadata": {
        "id": "KIWkNUQWEebA"
      },
      "outputs": [],
      "source": [
        "tree_cla.fit(X_train, y_train)\n",
        "y_pred_tree = tree_cla.predict(X_test)"
      ]
    },
    {
      "cell_type": "markdown",
      "metadata": {
        "id": "yfjNzrkwEpdb"
      },
      "source": [
        "From the results printed, we can see that the result in decision tree is much better than logistic regression, especially the precision score. It is now 82.15%."
      ]
    },
    {
      "cell_type": "code",
      "execution_count": null,
      "metadata": {
        "colab": {
          "base_uri": "https://localhost:8080/"
        },
        "id": "7jZOUIMXElEM",
        "outputId": "08d9e08c-d6e7-44bb-d31e-973c48414d07"
      },
      "outputs": [
        {
          "output_type": "stream",
          "name": "stdout",
          "text": [
            "Test accuracy score was 99.95%.\n",
            "Test balanced accuracy score was 99.82%.\n",
            "Test auc score was 99.82%.\n",
            "Test precision score was 73.87%.\n",
            "Test recall score was 99.69%.\n"
          ]
        }
      ],
      "source": [
        "#print score and confusion matrix for logistic regression\n",
        "print(f'Test accuracy score was {accuracy_score(y_test, y_pred_tree):2.2%}.')\n",
        "print(f'Test balanced accuracy score was {balanced_accuracy_score(y_test, y_pred_tree):2.2%}.')\n",
        "print(f'Test auc score was {roc_auc_score(y_test, y_pred_tree):2.2%}.')\n",
        "print(f'Test precision score was {precision_score(y_test, y_pred_tree):2.2%}.')#precision score was just 2.62 means lots of non fraud marked as 1.\n",
        "print(f'Test recall score was {recall_score(y_test, y_pred_tree):2.2%}.')"
      ]
    },
    {
      "cell_type": "code",
      "source": [
        "ConfusionMatrixDisplay.from_predictions(y_test, y_pred_tree);\n",
        "print(classification_report(y_test, y_pred_tree))"
      ],
      "metadata": {
        "colab": {
          "base_uri": "https://localhost:8080/",
          "height": 451
        },
        "id": "2IupkcbTMMqS",
        "outputId": "e30c229b-5bad-4cc8-f210-f419955c48f3"
      },
      "execution_count": null,
      "outputs": [
        {
          "output_type": "stream",
          "name": "stdout",
          "text": [
            "              precision    recall  f1-score   support\n",
            "\n",
            "           0       1.00      1.00      1.00   1270882\n",
            "           1       0.74      1.00      0.85      1639\n",
            "\n",
            "    accuracy                           1.00   1272521\n",
            "   macro avg       0.87      1.00      0.92   1272521\n",
            "weighted avg       1.00      1.00      1.00   1272521\n",
            "\n"
          ]
        },
        {
          "output_type": "display_data",
          "data": {
            "text/plain": [
              "<Figure size 432x288 with 2 Axes>"
            ],
            "image/png": "[encoded data removed]"
          },
          "metadata": {
            "needs_background": "light"
          }
        }
      ]
    },
    {
      "cell_type": "markdown",
      "metadata": {
        "id": "nLlETzlCFAJx"
      },
      "source": [
        "### Random Forest\n",
        "Random Forest is a robust machine learning algorithm that can be used for a variety of tasks including regression and classification. It is an ensemble method, meaning that a random forest model is made up of a large number of small decision trees, called estimators, which each produce their own predictions. The random forest model combines the predictions of the estimators to produce a more accurate prediction.\n"
      ]
    },
    {
      "cell_type": "code",
      "execution_count": null,
      "metadata": {
        "colab": {
          "base_uri": "https://localhost:8080/",
          "height": 297
        },
        "id": "-SpsBTDGIsI4",
        "outputId": "ac7f4e81-6c84-4c14-8136-0f80631ba9c5"
      },
      "outputs": [
        {
          "output_type": "execute_result",
          "data": {
            "text/plain": [
              "Pipeline(steps=[('transform',\n",
              "                 ColumnTransformer(transformers=[('num',\n",
              "                                                  Pipeline(steps=[('standard',\n",
              "                                                                   StandardScaler()),\n",
              "                                                                  ('imputer',\n",
              "                                                                   SimpleImputer(strategy='median'))]),\n",
              "                                                  Index(['step', 'amount', 'transferPercentage', 'errorDest', 'errorOrig'], dtype='object')),\n",
              "                                                 ('cat',\n",
              "                                                  Pipeline(steps=[('imputer',\n",
              "                                                                   SimpleImputer(strategy='most_frequent')),\n",
              "                                                                  ('encoder',\n",
              "                                                                   OneHotEncoder())]),\n",
              "                                                  Index(['type'], dtype='object'))])),\n",
              "                ('oversample', RandomOverSampler(sampling_strategy=0.1)),\n",
              "                ('undersample',\n",
              "                 RandomUnderSampler(sampling_strategy='majority')),\n",
              "                ('random_forest', RandomForestClassifier(random_state=42))])"
            ],
            "text/html": [
              "<style>#sk-fb12bea9-bf29-4351-82df-fa6eb6d58fc0 {color: black;background-color: white;}#sk-fb12bea9-bf29-4351-82df-fa6eb6d58fc0 pre{padding: 0;}#sk-fb12bea9-bf29-4351-82df-fa6eb6d58fc0 div.sk-toggleable {background-color: white;}#sk-fb12bea9-bf29-4351-82df-fa6eb6d58fc0 label.sk-toggleable__label {cursor: pointer;display: block;width: 100%;margin-bottom: 0;padding: 0.3em;box-sizing: border-box;text-align: center;}#sk-fb12bea9-bf29-4351-82df-fa6eb6d58fc0 label.sk-toggleable__label-arrow:before {content: \"▸\";float: left;margin-right: 0.25em;color: #696969;}#sk-fb12bea9-bf29-4351-82df-fa6eb6d58fc0 label.sk-toggleable__label-arrow:hover:before {color: black;}#sk-fb12bea9-bf29-4351-82df-fa6eb6d58fc0 div.sk-estimator:hover label.sk-toggleable__label-arrow:before {color: black;}#sk-fb12bea9-bf29-4351-82df-fa6eb6d58fc0 div.sk-toggleable__content {max-height: 0;max-width: 0;overflow: hidden;text-align: left;background-color: #f0f8ff;}#sk-fb12bea9-bf29-4351-82df-fa6eb6d58fc0 div.sk-toggleable__content pre {margin: 0.2em;color: black;border-radius: 0.25em;background-color: #f0f8ff;}#sk-fb12bea9-bf29-4351-82df-fa6eb6d58fc0 input.sk-toggleable__control:checked~div.sk-toggleable__content {max-height: 200px;max-width: 100%;overflow: auto;}#sk-fb12bea9-bf29-4351-82df-fa6eb6d58fc0 input.sk-toggleable__control:checked~label.sk-toggleable__label-arrow:before {content: \"▾\";}#sk-fb12bea9-bf29-4351-82df-fa6eb6d58fc0 div.sk-estimator input.sk-toggleable__control:checked~label.sk-toggleable__label {background-color: #d4ebff;}#sk-fb12bea9-bf29-4351-82df-fa6eb6d58fc0 div.sk-label input.sk-toggleable__control:checked~label.sk-toggleable__label {background-color: #d4ebff;}#sk-fb12bea9-bf29-4351-82df-fa6eb6d58fc0 input.sk-hidden--visually {border: 0;clip: rect(1px 1px 1px 1px);clip: rect(1px, 1px, 1px, 1px);height: 1px;margin: -1px;overflow: hidden;padding: 0;position: absolute;width: 1px;}#sk-fb12bea9-bf29-4351-82df-fa6eb6d58fc0 div.sk-estimator {font-family: monospace;background-color: #f0f8ff;border: 1px dotted black;border-radius: 0.25em;box-sizing: border-box;margin-bottom: 0.5em;}#sk-fb12bea9-bf29-4351-82df-fa6eb6d58fc0 div.sk-estimator:hover {background-color: #d4ebff;}#sk-fb12bea9-bf29-4351-82df-fa6eb6d58fc0 div.sk-parallel-item::after {content: \"\";width: 100%;border-bottom: 1px solid gray;flex-grow: 1;}#sk-fb12bea9-bf29-4351-82df-fa6eb6d58fc0 div.sk-label:hover label.sk-toggleable__label {background-color: #d4ebff;}#sk-fb12bea9-bf29-4351-82df-fa6eb6d58fc0 div.sk-serial::before {content: \"\";position: absolute;border-left: 1px solid gray;box-sizing: border-box;top: 2em;bottom: 0;left: 50%;}#sk-fb12bea9-bf29-4351-82df-fa6eb6d58fc0 div.sk-serial {display: flex;flex-direction: column;align-items: center;background-color: white;padding-right: 0.2em;padding-left: 0.2em;}#sk-fb12bea9-bf29-4351-82df-fa6eb6d58fc0 div.sk-item {z-index: 1;}#sk-fb12bea9-bf29-4351-82df-fa6eb6d58fc0 div.sk-parallel {display: flex;align-items: stretch;justify-content: center;background-color: white;}#sk-fb12bea9-bf29-4351-82df-fa6eb6d58fc0 div.sk-parallel::before {content: \"\";position: absolute;border-left: 1px solid gray;box-sizing: border-box;top: 2em;bottom: 0;left: 50%;}#sk-fb12bea9-bf29-4351-82df-fa6eb6d58fc0 div.sk-parallel-item {display: flex;flex-direction: column;position: relative;background-color: white;}#sk-fb12bea9-bf29-4351-82df-fa6eb6d58fc0 div.sk-parallel-item:first-child::after {align-self: flex-end;width: 50%;}#sk-fb12bea9-bf29-4351-82df-fa6eb6d58fc0 div.sk-parallel-item:last-child::after {align-self: flex-start;width: 50%;}#sk-fb12bea9-bf29-4351-82df-fa6eb6d58fc0 div.sk-parallel-item:only-child::after {width: 0;}#sk-fb12bea9-bf29-4351-82df-fa6eb6d58fc0 div.sk-dashed-wrapped {border: 1px dashed gray;margin: 0 0.4em 0.5em 0.4em;box-sizing: border-box;padding-bottom: 0.4em;background-color: white;position: relative;}#sk-fb12bea9-bf29-4351-82df-fa6eb6d58fc0 div.sk-label label {font-family: monospace;font-weight: bold;background-color: white;display: inline-block;line-height: 1.2em;}#sk-fb12bea9-bf29-4351-82df-fa6eb6d58fc0 div.sk-label-container {position: relative;z-index: 2;text-align: center;}#sk-fb12bea9-bf29-4351-82df-fa6eb6d58fc0 div.sk-container {/* jupyter's `normalize.less` sets `[hidden] { display: none; }` but bootstrap.min.css set `[hidden] { display: none !important; }` so we also need the `!important` here to be able to override the default hidden behavior on the sphinx rendered scikit-learn.org. See: https://github.com/scikit-learn/scikit-learn/issues/21755 */display: inline-block !important;position: relative;}#sk-fb12bea9-bf29-4351-82df-fa6eb6d58fc0 div.sk-text-repr-fallback {display: none;}</style><div id=\"sk-fb12bea9-bf29-4351-82df-fa6eb6d58fc0\" class=\"sk-top-container\"><div class=\"sk-text-repr-fallback\"><pre>Pipeline(steps=[(&#x27;transform&#x27;,\n",
              "                 ColumnTransformer(transformers=[(&#x27;num&#x27;,\n",
              "                                                  Pipeline(steps=[(&#x27;standard&#x27;,\n",
              "                                                                   StandardScaler()),\n",
              "                                                                  (&#x27;imputer&#x27;,\n",
              "                                                                   SimpleImputer(strategy=&#x27;median&#x27;))]),\n",
              "                                                  Index([&#x27;step&#x27;, &#x27;amount&#x27;, &#x27;transferPercentage&#x27;, &#x27;errorDest&#x27;, &#x27;errorOrig&#x27;], dtype=&#x27;object&#x27;)),\n",
              "                                                 (&#x27;cat&#x27;,\n",
              "                                                  Pipeline(steps=[(&#x27;imputer&#x27;,\n",
              "                                                                   SimpleImputer(strategy=&#x27;most_frequent&#x27;)),\n",
              "                                                                  (&#x27;encoder&#x27;,\n",
              "                                                                   OneHotEncoder())]),\n",
              "                                                  Index([&#x27;type&#x27;], dtype=&#x27;object&#x27;))])),\n",
              "                (&#x27;oversample&#x27;, RandomOverSampler(sampling_strategy=0.1)),\n",
              "                (&#x27;undersample&#x27;,\n",
              "                 RandomUnderSampler(sampling_strategy=&#x27;majority&#x27;)),\n",
              "                (&#x27;random_forest&#x27;, RandomForestClassifier(random_state=42))])</pre><b>Please rerun this cell to show the HTML repr or trust the notebook.</b></div><div class=\"sk-container\" hidden><div class=\"sk-item sk-dashed-wrapped\"><div class=\"sk-label-container\"><div class=\"sk-label sk-toggleable\"><input class=\"sk-toggleable__control sk-hidden--visually\" id=\"353f3d31-759a-4a7a-bbef-9fab826722f0\" type=\"checkbox\" ><label for=\"353f3d31-759a-4a7a-bbef-9fab826722f0\" class=\"sk-toggleable__label sk-toggleable__label-arrow\">Pipeline</label><div class=\"sk-toggleable__content\"><pre>Pipeline(steps=[(&#x27;transform&#x27;,\n",
              "                 ColumnTransformer(transformers=[(&#x27;num&#x27;,\n",
              "                                                  Pipeline(steps=[(&#x27;standard&#x27;,\n",
              "                                                                   StandardScaler()),\n",
              "                                                                  (&#x27;imputer&#x27;,\n",
              "                                                                   SimpleImputer(strategy=&#x27;median&#x27;))]),\n",
              "                                                  Index([&#x27;step&#x27;, &#x27;amount&#x27;, &#x27;transferPercentage&#x27;, &#x27;errorDest&#x27;, &#x27;errorOrig&#x27;], dtype=&#x27;object&#x27;)),\n",
              "                                                 (&#x27;cat&#x27;,\n",
              "                                                  Pipeline(steps=[(&#x27;imputer&#x27;,\n",
              "                                                                   SimpleImputer(strategy=&#x27;most_frequent&#x27;)),\n",
              "                                                                  (&#x27;encoder&#x27;,\n",
              "                                                                   OneHotEncoder())]),\n",
              "                                                  Index([&#x27;type&#x27;], dtype=&#x27;object&#x27;))])),\n",
              "                (&#x27;oversample&#x27;, RandomOverSampler(sampling_strategy=0.1)),\n",
              "                (&#x27;undersample&#x27;,\n",
              "                 RandomUnderSampler(sampling_strategy=&#x27;majority&#x27;)),\n",
              "                (&#x27;random_forest&#x27;, RandomForestClassifier(random_state=42))])</pre></div></div></div><div class=\"sk-serial\"><div class=\"sk-item sk-dashed-wrapped\"><div class=\"sk-label-container\"><div class=\"sk-label sk-toggleable\"><input class=\"sk-toggleable__control sk-hidden--visually\" id=\"8b541490-8ec8-4a1f-9875-66e4f87c3d25\" type=\"checkbox\" ><label for=\"8b541490-8ec8-4a1f-9875-66e4f87c3d25\" class=\"sk-toggleable__label sk-toggleable__label-arrow\">transform: ColumnTransformer</label><div class=\"sk-toggleable__content\"><pre>ColumnTransformer(transformers=[(&#x27;num&#x27;,\n",
              "                                 Pipeline(steps=[(&#x27;standard&#x27;, StandardScaler()),\n",
              "                                                 (&#x27;imputer&#x27;,\n",
              "                                                  SimpleImputer(strategy=&#x27;median&#x27;))]),\n",
              "                                 Index([&#x27;step&#x27;, &#x27;amount&#x27;, &#x27;transferPercentage&#x27;, &#x27;errorDest&#x27;, &#x27;errorOrig&#x27;], dtype=&#x27;object&#x27;)),\n",
              "                                (&#x27;cat&#x27;,\n",
              "                                 Pipeline(steps=[(&#x27;imputer&#x27;,\n",
              "                                                  SimpleImputer(strategy=&#x27;most_frequent&#x27;)),\n",
              "                                                 (&#x27;encoder&#x27;, OneHotEncoder())]),\n",
              "                                 Index([&#x27;type&#x27;], dtype=&#x27;object&#x27;))])</pre></div></div></div><div class=\"sk-parallel\"><div class=\"sk-parallel-item\"><div class=\"sk-item\"><div class=\"sk-label-container\"><div class=\"sk-label sk-toggleable\"><input class=\"sk-toggleable__control sk-hidden--visually\" id=\"b627933d-c1d3-492d-b534-6489ee3989d4\" type=\"checkbox\" ><label for=\"b627933d-c1d3-492d-b534-6489ee3989d4\" class=\"sk-toggleable__label sk-toggleable__label-arrow\">num</label><div class=\"sk-toggleable__content\"><pre>Index([&#x27;step&#x27;, &#x27;amount&#x27;, &#x27;transferPercentage&#x27;, &#x27;errorDest&#x27;, &#x27;errorOrig&#x27;], dtype=&#x27;object&#x27;)</pre></div></div></div><div class=\"sk-serial\"><div class=\"sk-item\"><div class=\"sk-serial\"><div class=\"sk-item\"><div class=\"sk-estimator sk-toggleable\"><input class=\"sk-toggleable__control sk-hidden--visually\" id=\"4d069c1e-f005-45db-b461-2da9706942e4\" type=\"checkbox\" ><label for=\"4d069c1e-f005-45db-b461-2da9706942e4\" class=\"sk-toggleable__label sk-toggleable__label-arrow\">StandardScaler</label><div class=\"sk-toggleable__content\"><pre>StandardScaler()</pre></div></div></div><div class=\"sk-item\"><div class=\"sk-estimator sk-toggleable\"><input class=\"sk-toggleable__control sk-hidden--visually\" id=\"5e4dc3c3-273f-4d30-94b7-613eff318fd4\" type=\"checkbox\" ><label for=\"5e4dc3c3-273f-4d30-94b7-613eff318fd4\" class=\"sk-toggleable__label sk-toggleable__label-arrow\">SimpleImputer</label><div class=\"sk-toggleable__content\"><pre>SimpleImputer(strategy=&#x27;median&#x27;)</pre></div></div></div></div></div></div></div></div><div class=\"sk-parallel-item\"><div class=\"sk-item\"><div class=\"sk-label-container\"><div class=\"sk-label sk-toggleable\"><input class=\"sk-toggleable__control sk-hidden--visually\" id=\"3ddafb9e-1536-4e24-9a0e-6261a46db450\" type=\"checkbox\" ><label for=\"3ddafb9e-1536-4e24-9a0e-6261a46db450\" class=\"sk-toggleable__label sk-toggleable__label-arrow\">cat</label><div class=\"sk-toggleable__content\"><pre>Index([&#x27;type&#x27;], dtype=&#x27;object&#x27;)</pre></div></div></div><div class=\"sk-serial\"><div class=\"sk-item\"><div class=\"sk-serial\"><div class=\"sk-item\"><div class=\"sk-estimator sk-toggleable\"><input class=\"sk-toggleable__control sk-hidden--visually\" id=\"17ee25f5-834b-4401-bf6c-c8228a160d3c\" type=\"checkbox\" ><label for=\"17ee25f5-834b-4401-bf6c-c8228a160d3c\" class=\"sk-toggleable__label sk-toggleable__label-arrow\">SimpleImputer</label><div class=\"sk-toggleable__content\"><pre>SimpleImputer(strategy=&#x27;most_frequent&#x27;)</pre></div></div></div><div class=\"sk-item\"><div class=\"sk-estimator sk-toggleable\"><input class=\"sk-toggleable__control sk-hidden--visually\" id=\"48f6623b-4f81-48fe-9559-9c4de9e4b316\" type=\"checkbox\" ><label for=\"48f6623b-4f81-48fe-9559-9c4de9e4b316\" class=\"sk-toggleable__label sk-toggleable__label-arrow\">OneHotEncoder</label><div class=\"sk-toggleable__content\"><pre>OneHotEncoder()</pre></div></div></div></div></div></div></div></div></div></div><div class=\"sk-item\"><div class=\"sk-estimator sk-toggleable\"><input class=\"sk-toggleable__control sk-hidden--visually\" id=\"6cad556d-3560-49f7-b4df-8ae9de08cb0e\" type=\"checkbox\" ><label for=\"6cad556d-3560-49f7-b4df-8ae9de08cb0e\" class=\"sk-toggleable__label sk-toggleable__label-arrow\">RandomOverSampler</label><div class=\"sk-toggleable__content\"><pre>RandomOverSampler(sampling_strategy=0.1)</pre></div></div></div><div class=\"sk-item\"><div class=\"sk-estimator sk-toggleable\"><input class=\"sk-toggleable__control sk-hidden--visually\" id=\"49e8ed01-56f6-4d14-861e-da5865f308ae\" type=\"checkbox\" ><label for=\"49e8ed01-56f6-4d14-861e-da5865f308ae\" class=\"sk-toggleable__label sk-toggleable__label-arrow\">RandomUnderSampler</label><div class=\"sk-toggleable__content\"><pre>RandomUnderSampler(sampling_strategy=&#x27;majority&#x27;)</pre></div></div></div><div class=\"sk-item\"><div class=\"sk-estimator sk-toggleable\"><input class=\"sk-toggleable__control sk-hidden--visually\" id=\"5243c5dd-6e3b-43c5-8142-b9fda91471df\" type=\"checkbox\" ><label for=\"5243c5dd-6e3b-43c5-8142-b9fda91471df\" class=\"sk-toggleable__label sk-toggleable__label-arrow\">RandomForestClassifier</label><div class=\"sk-toggleable__content\"><pre>RandomForestClassifier(random_state=42)</pre></div></div></div></div></div></div></div>"
            ]
          },
          "metadata": {},
          "execution_count": 52
        }
      ],
      "source": [
        "#random forest\n",
        "rf_cla = pip([('transform', preprocess),\n",
        "               ('oversample', RandomOverSampler(sampling_strategy=0.1)),\n",
        "               ('undersample', RandomUnderSampler(sampling_strategy='majority')),\n",
        "               ('random_forest', RandomForestClassifier(n_estimators=100, random_state=42)),\n",
        "])\n",
        "rf_cla"
      ]
    },
    {
      "cell_type": "code",
      "execution_count": null,
      "metadata": {
        "id": "aorGqW2lFR3E"
      },
      "outputs": [],
      "source": [
        "rf_cla.fit(X_train, y_train)\n",
        "y_pred_rf = rf_cla.predict(X_test)"
      ]
    },
    {
      "cell_type": "markdown",
      "metadata": {
        "id": "PmxIqMTGFfWE"
      },
      "source": [
        "The results in the Random Forest model are the best by all metrics.  The accuracy is 100%, while the other scores are also the highest among the three."
      ]
    },
    {
      "cell_type": "code",
      "execution_count": null,
      "metadata": {
        "colab": {
          "base_uri": "https://localhost:8080/"
        },
        "id": "CzO_ar_iFUcA",
        "outputId": "cb917cc7-4a41-46f5-afa0-39122765ffdb"
      },
      "outputs": [
        {
          "output_type": "stream",
          "name": "stdout",
          "text": [
            "Test accuracy score was 99.98%.\n",
            "Test balanced accuracy score was 99.78%.\n",
            "Test auc score was 99.78%.\n",
            "Test precision score was 88.50%.\n",
            "Test recall score was 99.57%.\n"
          ]
        }
      ],
      "source": [
        "#print score and confusion matrix for logistic regression\n",
        "print(f'Test accuracy score was {accuracy_score(y_test, y_pred_rf):2.2%}.')\n",
        "print(f'Test balanced accuracy score was {balanced_accuracy_score(y_test, y_pred_rf):2.2%}.')\n",
        "print(f'Test auc score was {roc_auc_score(y_test, y_pred_rf):2.2%}.')\n",
        "print(f'Test precision score was {precision_score(y_test, y_pred_rf):2.2%}.')#precision score was just 2.62 means lots of non fraud marked as 1.\n",
        "print(f'Test recall score was {recall_score(y_test, y_pred_rf):2.2%}.')"
      ]
    },
    {
      "cell_type": "code",
      "source": [
        "ConfusionMatrixDisplay.from_predictions(y_test, y_pred_rf);\n",
        "print(classification_report(y_test, y_pred_rf))"
      ],
      "metadata": {
        "colab": {
          "base_uri": "https://localhost:8080/",
          "height": 451
        },
        "id": "OMbxPIyvMW8Y",
        "outputId": "58e61c12-edda-4d53-a35d-24ed62eae017"
      },
      "execution_count": null,
      "outputs": [
        {
          "output_type": "stream",
          "name": "stdout",
          "text": [
            "              precision    recall  f1-score   support\n",
            "\n",
            "           0       1.00      1.00      1.00   1270882\n",
            "           1       0.89      1.00      0.94      1639\n",
            "\n",
            "    accuracy                           1.00   1272521\n",
            "   macro avg       0.94      1.00      0.97   1272521\n",
            "weighted avg       1.00      1.00      1.00   1272521\n",
            "\n"
          ]
        },
        {
          "output_type": "display_data",
          "data": {
            "text/plain": [
              "<Figure size 432x288 with 2 Axes>"
            ],
            "image/png": "[encoded data removed]"
          },
          "metadata": {
            "needs_background": "light"
          }
        }
      ]
    },
    {
      "cell_type": "markdown",
      "metadata": {
        "id": "W7rpViuAF2Ut"
      },
      "source": [
        "\n",
        "##Hyper-parameters tuning\n",
        "We use three methods for tuning the parameters: grid search, random search and halving search; Evaluate the results with balanced accuracy.\n",
        "\n",
        "1. We choose certain possible combinations of parameters for each model based on our own experience and try each using grid search. \n",
        "\n",
        "2. We use random search to expand the possible range for find a better model. \n",
        "\n",
        "3. Then, we compared the results in step one and step two, to find a better range for each parameters. \n",
        "\n",
        "4. Finally, we change the parameters range and use halving search and compare the result to get the best model. Using halving search can reduce the running time significantly.\n",
        "\n",
        "After evaluating the results, we found the best hyper-parameter combination in halving search method for prediction. Using **17** as **random forest max depth** and **8** as **random forest minimum samples leaf**.\n",
        "\n",
        "The mean test balanced accuracy score is 99.81%, and the standard test score is 0.43%."
      ]
    },
    {
      "cell_type": "markdown",
      "metadata": {
        "id": "FlCn6qn4H4I0"
      },
      "source": [
        "###Hyper-parameters tuning for Decision Tree"
      ]
    },
    {
      "cell_type": "markdown",
      "metadata": {
        "id": "Ooz90sMGIJQI"
      },
      "source": [
        "**Grid search**"
      ]
    },
    {
      "cell_type": "code",
      "execution_count": null,
      "metadata": {
        "colab": {
          "base_uri": "https://localhost:8080/",
          "height": 392
        },
        "id": "IqUmHobEINLl",
        "outputId": "35682d8a-8afe-4c24-9a81-f868a56c3c1f"
      },
      "outputs": [
        {
          "output_type": "execute_result",
          "data": {
            "text/plain": [
              "   mean_fit_time  std_fit_time  mean_score_time  std_score_time  \\\n",
              "7      10.323088      0.084073         1.143329        0.009727   \n",
              "4      10.119638      0.033717         1.134902        0.014186   \n",
              "8      10.739052      0.065563         1.153312        0.010335   \n",
              "5      10.553458      0.078384         1.140186        0.006728   \n",
              "1       9.690607      0.059566         1.130563        0.005127   \n",
              "\n",
              "  param_tree__max_depth param_tree__max_leaf_nodes  \\\n",
              "7                    10                          5   \n",
              "4                     5                          5   \n",
              "8                    10                         10   \n",
              "5                     5                         10   \n",
              "1                     2                          5   \n",
              "\n",
              "                                              params  split0_test_score  \\\n",
              "7  {'tree__max_depth': 10, 'tree__max_leaf_nodes'...           0.995949   \n",
              "4  {'tree__max_depth': 5, 'tree__max_leaf_nodes': 5}           0.995948   \n",
              "8  {'tree__max_depth': 10, 'tree__max_leaf_nodes'...           0.995789   \n",
              "5  {'tree__max_depth': 5, 'tree__max_leaf_nodes':...           0.995790   \n",
              "1  {'tree__max_depth': 2, 'tree__max_leaf_nodes': 5}           0.988410   \n",
              "\n",
              "   split1_test_score  split2_test_score  mean_test_score  std_test_score  \\\n",
              "7           0.997774           0.998225         0.997316        0.000984   \n",
              "4           0.997773           0.998225         0.997315        0.000984   \n",
              "8           0.997819           0.998280         0.997296        0.001082   \n",
              "5           0.997814           0.998277         0.997294        0.001080   \n",
              "1           0.988179           0.989076         0.988555        0.000380   \n",
              "\n",
              "   rank_test_score  \n",
              "7                1  \n",
              "4                2  \n",
              "8                3  \n",
              "5                4  \n",
              "1                5  "
            ],
            "text/html": [
              "\n",
              "  <div id=\"df-faab0b75-17d6-4bf3-b97c-80a5477f3f77\">\n",
              "    <div class=\"colab-df-container\">\n",
              "      <div>\n",
              "<style scoped>\n",
              "    .dataframe tbody tr th:only-of-type {\n",
              "        vertical-align: middle;\n",
              "    }\n",
              "\n",
              "    .dataframe tbody tr th {\n",
              "        vertical-align: top;\n",
              "    }\n",
              "\n",
              "    .dataframe thead th {\n",
              "        text-align: right;\n",
              "    }\n",
              "</style>\n",
              "<table border=\"1\" class=\"dataframe\">\n",
              "  <thead>\n",
              "    <tr style=\"text-align: right;\">\n",
              "      <th></th>\n",
              "      <th>mean_fit_time</th>\n",
              "      <th>std_fit_time</th>\n",
              "      <th>mean_score_time</th>\n",
              "      <th>std_score_time</th>\n",
              "      <th>param_tree__max_depth</th>\n",
              "      <th>param_tree__max_leaf_nodes</th>\n",
              "      <th>params</th>\n",
              "      <th>split0_test_score</th>\n",
              "      <th>split1_test_score</th>\n",
              "      <th>split2_test_score</th>\n",
              "      <th>mean_test_score</th>\n",
              "      <th>std_test_score</th>\n",
              "      <th>rank_test_score</th>\n",
              "    </tr>\n",
              "  </thead>\n",
              "  <tbody>\n",
              "    <tr>\n",
              "      <th>7</th>\n",
              "      <td>10.323088</td>\n",
              "      <td>0.084073</td>\n",
              "      <td>1.143329</td>\n",
              "      <td>0.009727</td>\n",
              "      <td>10</td>\n",
              "      <td>5</td>\n",
              "      <td>{'tree__max_depth': 10, 'tree__max_leaf_nodes'...</td>\n",
              "      <td>0.995949</td>\n",
              "      <td>0.997774</td>\n",
              "      <td>0.998225</td>\n",
              "      <td>0.997316</td>\n",
              "      <td>0.000984</td>\n",
              "      <td>1</td>\n",
              "    </tr>\n",
              "    <tr>\n",
              "      <th>4</th>\n",
              "      <td>10.119638</td>\n",
              "      <td>0.033717</td>\n",
              "      <td>1.134902</td>\n",
              "      <td>0.014186</td>\n",
              "      <td>5</td>\n",
              "      <td>5</td>\n",
              "      <td>{'tree__max_depth': 5, 'tree__max_leaf_nodes': 5}</td>\n",
              "      <td>0.995948</td>\n",
              "      <td>0.997773</td>\n",
              "      <td>0.998225</td>\n",
              "      <td>0.997315</td>\n",
              "      <td>0.000984</td>\n",
              "      <td>2</td>\n",
              "    </tr>\n",
              "    <tr>\n",
              "      <th>8</th>\n",
              "      <td>10.739052</td>\n",
              "      <td>0.065563</td>\n",
              "      <td>1.153312</td>\n",
              "      <td>0.010335</td>\n",
              "      <td>10</td>\n",
              "      <td>10</td>\n",
              "      <td>{'tree__max_depth': 10, 'tree__max_leaf_nodes'...</td>\n",
              "      <td>0.995789</td>\n",
              "      <td>0.997819</td>\n",
              "      <td>0.998280</td>\n",
              "      <td>0.997296</td>\n",
              "      <td>0.001082</td>\n",
              "      <td>3</td>\n",
              "    </tr>\n",
              "    <tr>\n",
              "      <th>5</th>\n",
              "      <td>10.553458</td>\n",
              "      <td>0.078384</td>\n",
              "      <td>1.140186</td>\n",
              "      <td>0.006728</td>\n",
              "      <td>5</td>\n",
              "      <td>10</td>\n",
              "      <td>{'tree__max_depth': 5, 'tree__max_leaf_nodes':...</td>\n",
              "      <td>0.995790</td>\n",
              "      <td>0.997814</td>\n",
              "      <td>0.998277</td>\n",
              "      <td>0.997294</td>\n",
              "      <td>0.001080</td>\n",
              "      <td>4</td>\n",
              "    </tr>\n",
              "    <tr>\n",
              "      <th>1</th>\n",
              "      <td>9.690607</td>\n",
              "      <td>0.059566</td>\n",
              "      <td>1.130563</td>\n",
              "      <td>0.005127</td>\n",
              "      <td>2</td>\n",
              "      <td>5</td>\n",
              "      <td>{'tree__max_depth': 2, 'tree__max_leaf_nodes': 5}</td>\n",
              "      <td>0.988410</td>\n",
              "      <td>0.988179</td>\n",
              "      <td>0.989076</td>\n",
              "      <td>0.988555</td>\n",
              "      <td>0.000380</td>\n",
              "      <td>5</td>\n",
              "    </tr>\n",
              "  </tbody>\n",
              "</table>\n",
              "</div>\n",
              "      <button class=\"colab-df-convert\" onclick=\"convertToInteractive('df-faab0b75-17d6-4bf3-b97c-80a5477f3f77')\"\n",
              "              title=\"Convert this dataframe to an interactive table.\"\n",
              "              style=\"display:none;\">\n",
              "        \n",
              "  <svg xmlns=\"http://www.w3.org/2000/svg\" height=\"24px\"viewBox=\"0 0 24 24\"\n",
              "       width=\"24px\">\n",
              "    <path d=\"M0 0h24v24H0V0z\" fill=\"none\"/>\n",
              "    <path d=\"M18.56 5.44l.94 2.06.94-2.06 2.06-.94-2.06-.94-.94-2.06-.94 2.06-2.06.94zm-11 1L8.5 8.5l.94-2.06 2.06-.94-2.06-.94L8.5 2.5l-.94 2.06-2.06.94zm10 10l.94 2.06.94-2.06 2.06-.94-2.06-.94-.94-2.06-.94 2.06-2.06.94z\"/><path d=\"M17.41 7.96l-1.37-1.37c-.4-.4-.92-.59-1.43-.59-.52 0-1.04.2-1.43.59L10.3 9.45l-7.72 7.72c-.78.78-.78 2.05 0 2.83L4 21.41c.39.39.9.59 1.41.59.51 0 1.02-.2 1.41-.59l7.78-7.78 2.81-2.81c.8-.78.8-2.07 0-2.86zM5.41 20L4 18.59l7.72-7.72 1.47 1.35L5.41 20z\"/>\n",
              "  </svg>\n",
              "      </button>\n",
              "      \n",
              "  <style>\n",
              "    .colab-df-container {\n",
              "      display:flex;\n",
              "      flex-wrap:wrap;\n",
              "      gap: 12px;\n",
              "    }\n",
              "\n",
              "    .colab-df-convert {\n",
              "      background-color: #E8F0FE;\n",
              "      border: none;\n",
              "      border-radius: 50%;\n",
              "      cursor: pointer;\n",
              "      display: none;\n",
              "      fill: #1967D2;\n",
              "      height: 32px;\n",
              "      padding: 0 0 0 0;\n",
              "      width: 32px;\n",
              "    }\n",
              "\n",
              "    .colab-df-convert:hover {\n",
              "      background-color: #E2EBFA;\n",
              "      box-shadow: 0px 1px 2px rgba(60, 64, 67, 0.3), 0px 1px 3px 1px rgba(60, 64, 67, 0.15);\n",
              "      fill: #174EA6;\n",
              "    }\n",
              "\n",
              "    [theme=dark] .colab-df-convert {\n",
              "      background-color: #3B4455;\n",
              "      fill: #D2E3FC;\n",
              "    }\n",
              "\n",
              "    [theme=dark] .colab-df-convert:hover {\n",
              "      background-color: #434B5C;\n",
              "      box-shadow: 0px 1px 3px 1px rgba(0, 0, 0, 0.15);\n",
              "      filter: drop-shadow(0px 1px 2px rgba(0, 0, 0, 0.3));\n",
              "      fill: #FFFFFF;\n",
              "    }\n",
              "  </style>\n",
              "\n",
              "      <script>\n",
              "        const buttonEl =\n",
              "          document.querySelector('#df-faab0b75-17d6-4bf3-b97c-80a5477f3f77 button.colab-df-convert');\n",
              "        buttonEl.style.display =\n",
              "          google.colab.kernel.accessAllowed ? 'block' : 'none';\n",
              "\n",
              "        async function convertToInteractive(key) {\n",
              "          const element = document.querySelector('#df-faab0b75-17d6-4bf3-b97c-80a5477f3f77');\n",
              "          const dataTable =\n",
              "            await google.colab.kernel.invokeFunction('convertToInteractive',\n",
              "                                                     [key], {});\n",
              "          if (!dataTable) return;\n",
              "\n",
              "          const docLinkHtml = 'Like what you see? Visit the ' +\n",
              "            '<a target=\"_blank\" href=https://colab.research.google.com/notebooks/data_table.ipynb>data table notebook</a>'\n",
              "            + ' to learn more about interactive tables.';\n",
              "          element.innerHTML = '';\n",
              "          dataTable['output_type'] = 'display_data';\n",
              "          await google.colab.output.renderOutput(dataTable, element);\n",
              "          const docLink = document.createElement('div');\n",
              "          docLink.innerHTML = docLinkHtml;\n",
              "          element.appendChild(docLink);\n",
              "        }\n",
              "      </script>\n",
              "    </div>\n",
              "  </div>\n",
              "  "
            ]
          },
          "metadata": {},
          "execution_count": 56
        }
      ],
      "source": [
        "param_grid_tree = [ \n",
        "    {'tree__max_depth': [2, 5, 10], \n",
        "    'tree__max_leaf_nodes': [2, 5, 10]}, \n",
        "    ]\n",
        "grid_search_tree = GridSearchCV(tree_cla, param_grid_tree, cv=3, scoring='balanced_accuracy')\n",
        "grid_search_tree.fit(X_train, y_train)\n",
        "\n",
        "grid_search_tree.best_estimator_\n",
        "cv_res_tree_grid = pd.DataFrame(grid_search_tree.cv_results_)\n",
        "cv_res_tree_grid.sort_values(by=\"mean_test_score\", ascending=False, inplace=True)\n",
        "cv_res_tree_grid.head()"
      ]
    },
    {
      "cell_type": "markdown",
      "metadata": {
        "id": "QbKT7EYfI4l8"
      },
      "source": [
        "**Random search**"
      ]
    },
    {
      "cell_type": "code",
      "execution_count": null,
      "metadata": {
        "colab": {
          "base_uri": "https://localhost:8080/",
          "height": 357
        },
        "id": "67_LRI40I7h_",
        "outputId": "048627f0-9eed-4ad1-94ad-c66e8e0dece2"
      },
      "outputs": [
        {
          "output_type": "execute_result",
          "data": {
            "text/plain": [
              "    mean_fit_time  std_fit_time  mean_score_time  std_score_time  \\\n",
              "9       11.048180      0.119018         1.140814        0.015716   \n",
              "15      10.747841      0.037479         1.122996        0.008775   \n",
              "14      11.039708      0.190192         1.122710        0.005769   \n",
              "1       10.543176      0.106369         1.135447        0.004650   \n",
              "6       11.875745      0.909463         1.130731        0.015385   \n",
              "\n",
              "   param_tree__max_depth param_tree__max_leaf_nodes  \\\n",
              "9                     25                         49   \n",
              "15                    58                          9   \n",
              "14                    25                         14   \n",
              "1                     43                          8   \n",
              "6                     30                         38   \n",
              "\n",
              "   param_tree__min_samples_leaf  \\\n",
              "9                            10   \n",
              "15                            2   \n",
              "14                           18   \n",
              "1                             7   \n",
              "6                             2   \n",
              "\n",
              "                                               params  split0_test_score  \\\n",
              "9   {'tree__max_depth': 25, 'tree__max_leaf_nodes'...           0.996222   \n",
              "15  {'tree__max_depth': 58, 'tree__max_leaf_nodes'...           0.996019   \n",
              "14  {'tree__max_depth': 25, 'tree__max_leaf_nodes'...           0.996015   \n",
              "1   {'tree__max_depth': 43, 'tree__max_leaf_nodes'...           0.996019   \n",
              "6   {'tree__max_depth': 30, 'tree__max_leaf_nodes'...           0.996177   \n",
              "\n",
              "    split1_test_score  split2_test_score  mean_test_score  std_test_score  \\\n",
              "9            0.997779           0.998191         0.997398        0.000848   \n",
              "15           0.997815           0.998280         0.997371        0.000975   \n",
              "14           0.997818           0.998277         0.997370        0.000976   \n",
              "1            0.997805           0.998277         0.997367        0.000972   \n",
              "6            0.997714           0.998203         0.997365        0.000863   \n",
              "\n",
              "    rank_test_score  \n",
              "9                 1  \n",
              "15                2  \n",
              "14                3  \n",
              "1                 4  \n",
              "6                 5  "
            ],
            "text/html": [
              "\n",
              "  <div id=\"df-c11613e0-7fe7-41a3-899b-8609b387d6c8\">\n",
              "    <div class=\"colab-df-container\">\n",
              "      <div>\n",
              "<style scoped>\n",
              "    .dataframe tbody tr th:only-of-type {\n",
              "        vertical-align: middle;\n",
              "    }\n",
              "\n",
              "    .dataframe tbody tr th {\n",
              "        vertical-align: top;\n",
              "    }\n",
              "\n",
              "    .dataframe thead th {\n",
              "        text-align: right;\n",
              "    }\n",
              "</style>\n",
              "<table border=\"1\" class=\"dataframe\">\n",
              "  <thead>\n",
              "    <tr style=\"text-align: right;\">\n",
              "      <th></th>\n",
              "      <th>mean_fit_time</th>\n",
              "      <th>std_fit_time</th>\n",
              "      <th>mean_score_time</th>\n",
              "      <th>std_score_time</th>\n",
              "      <th>param_tree__max_depth</th>\n",
              "      <th>param_tree__max_leaf_nodes</th>\n",
              "      <th>param_tree__min_samples_leaf</th>\n",
              "      <th>params</th>\n",
              "      <th>split0_test_score</th>\n",
              "      <th>split1_test_score</th>\n",
              "      <th>split2_test_score</th>\n",
              "      <th>mean_test_score</th>\n",
              "      <th>std_test_score</th>\n",
              "      <th>rank_test_score</th>\n",
              "    </tr>\n",
              "  </thead>\n",
              "  <tbody>\n",
              "    <tr>\n",
              "      <th>9</th>\n",
              "      <td>11.048180</td>\n",
              "      <td>0.119018</td>\n",
              "      <td>1.140814</td>\n",
              "      <td>0.015716</td>\n",
              "      <td>25</td>\n",
              "      <td>49</td>\n",
              "      <td>10</td>\n",
              "      <td>{'tree__max_depth': 25, 'tree__max_leaf_nodes'...</td>\n",
              "      <td>0.996222</td>\n",
              "      <td>0.997779</td>\n",
              "      <td>0.998191</td>\n",
              "      <td>0.997398</td>\n",
              "      <td>0.000848</td>\n",
              "      <td>1</td>\n",
              "    </tr>\n",
              "    <tr>\n",
              "      <th>15</th>\n",
              "      <td>10.747841</td>\n",
              "      <td>0.037479</td>\n",
              "      <td>1.122996</td>\n",
              "      <td>0.008775</td>\n",
              "      <td>58</td>\n",
              "      <td>9</td>\n",
              "      <td>2</td>\n",
              "      <td>{'tree__max_depth': 58, 'tree__max_leaf_nodes'...</td>\n",
              "      <td>0.996019</td>\n",
              "      <td>0.997815</td>\n",
              "      <td>0.998280</td>\n",
              "      <td>0.997371</td>\n",
              "      <td>0.000975</td>\n",
              "      <td>2</td>\n",
              "    </tr>\n",
              "    <tr>\n",
              "      <th>14</th>\n",
              "      <td>11.039708</td>\n",
              "      <td>0.190192</td>\n",
              "      <td>1.122710</td>\n",
              "      <td>0.005769</td>\n",
              "      <td>25</td>\n",
              "      <td>14</td>\n",
              "      <td>18</td>\n",
              "      <td>{'tree__max_depth': 25, 'tree__max_leaf_nodes'...</td>\n",
              "      <td>0.996015</td>\n",
              "      <td>0.997818</td>\n",
              "      <td>0.998277</td>\n",
              "      <td>0.997370</td>\n",
              "      <td>0.000976</td>\n",
              "      <td>3</td>\n",
              "    </tr>\n",
              "    <tr>\n",
              "      <th>1</th>\n",
              "      <td>10.543176</td>\n",
              "      <td>0.106369</td>\n",
              "      <td>1.135447</td>\n",
              "      <td>0.004650</td>\n",
              "      <td>43</td>\n",
              "      <td>8</td>\n",
              "      <td>7</td>\n",
              "      <td>{'tree__max_depth': 43, 'tree__max_leaf_nodes'...</td>\n",
              "      <td>0.996019</td>\n",
              "      <td>0.997805</td>\n",
              "      <td>0.998277</td>\n",
              "      <td>0.997367</td>\n",
              "      <td>0.000972</td>\n",
              "      <td>4</td>\n",
              "    </tr>\n",
              "    <tr>\n",
              "      <th>6</th>\n",
              "      <td>11.875745</td>\n",
              "      <td>0.909463</td>\n",
              "      <td>1.130731</td>\n",
              "      <td>0.015385</td>\n",
              "      <td>30</td>\n",
              "      <td>38</td>\n",
              "      <td>2</td>\n",
              "      <td>{'tree__max_depth': 30, 'tree__max_leaf_nodes'...</td>\n",
              "      <td>0.996177</td>\n",
              "      <td>0.997714</td>\n",
              "      <td>0.998203</td>\n",
              "      <td>0.997365</td>\n",
              "      <td>0.000863</td>\n",
              "      <td>5</td>\n",
              "    </tr>\n",
              "  </tbody>\n",
              "</table>\n",
              "</div>\n",
              "      <button class=\"colab-df-convert\" onclick=\"convertToInteractive('df-c11613e0-7fe7-41a3-899b-8609b387d6c8')\"\n",
              "              title=\"Convert this dataframe to an interactive table.\"\n",
              "              style=\"display:none;\">\n",
              "        \n",
              "  <svg xmlns=\"http://www.w3.org/2000/svg\" height=\"24px\"viewBox=\"0 0 24 24\"\n",
              "       width=\"24px\">\n",
              "    <path d=\"M0 0h24v24H0V0z\" fill=\"none\"/>\n",
              "    <path d=\"M18.56 5.44l.94 2.06.94-2.06 2.06-.94-2.06-.94-.94-2.06-.94 2.06-2.06.94zm-11 1L8.5 8.5l.94-2.06 2.06-.94-2.06-.94L8.5 2.5l-.94 2.06-2.06.94zm10 10l.94 2.06.94-2.06 2.06-.94-2.06-.94-.94-2.06-.94 2.06-2.06.94z\"/><path d=\"M17.41 7.96l-1.37-1.37c-.4-.4-.92-.59-1.43-.59-.52 0-1.04.2-1.43.59L10.3 9.45l-7.72 7.72c-.78.78-.78 2.05 0 2.83L4 21.41c.39.39.9.59 1.41.59.51 0 1.02-.2 1.41-.59l7.78-7.78 2.81-2.81c.8-.78.8-2.07 0-2.86zM5.41 20L4 18.59l7.72-7.72 1.47 1.35L5.41 20z\"/>\n",
              "  </svg>\n",
              "      </button>\n",
              "      \n",
              "  <style>\n",
              "    .colab-df-container {\n",
              "      display:flex;\n",
              "      flex-wrap:wrap;\n",
              "      gap: 12px;\n",
              "    }\n",
              "\n",
              "    .colab-df-convert {\n",
              "      background-color: #E8F0FE;\n",
              "      border: none;\n",
              "      border-radius: 50%;\n",
              "      cursor: pointer;\n",
              "      display: none;\n",
              "      fill: #1967D2;\n",
              "      height: 32px;\n",
              "      padding: 0 0 0 0;\n",
              "      width: 32px;\n",
              "    }\n",
              "\n",
              "    .colab-df-convert:hover {\n",
              "      background-color: #E2EBFA;\n",
              "      box-shadow: 0px 1px 2px rgba(60, 64, 67, 0.3), 0px 1px 3px 1px rgba(60, 64, 67, 0.15);\n",
              "      fill: #174EA6;\n",
              "    }\n",
              "\n",
              "    [theme=dark] .colab-df-convert {\n",
              "      background-color: #3B4455;\n",
              "      fill: #D2E3FC;\n",
              "    }\n",
              "\n",
              "    [theme=dark] .colab-df-convert:hover {\n",
              "      background-color: #434B5C;\n",
              "      box-shadow: 0px 1px 3px 1px rgba(0, 0, 0, 0.15);\n",
              "      filter: drop-shadow(0px 1px 2px rgba(0, 0, 0, 0.3));\n",
              "      fill: #FFFFFF;\n",
              "    }\n",
              "  </style>\n",
              "\n",
              "      <script>\n",
              "        const buttonEl =\n",
              "          document.querySelector('#df-c11613e0-7fe7-41a3-899b-8609b387d6c8 button.colab-df-convert');\n",
              "        buttonEl.style.display =\n",
              "          google.colab.kernel.accessAllowed ? 'block' : 'none';\n",
              "\n",
              "        async function convertToInteractive(key) {\n",
              "          const element = document.querySelector('#df-c11613e0-7fe7-41a3-899b-8609b387d6c8');\n",
              "          const dataTable =\n",
              "            await google.colab.kernel.invokeFunction('convertToInteractive',\n",
              "                                                     [key], {});\n",
              "          if (!dataTable) return;\n",
              "\n",
              "          const docLinkHtml = 'Like what you see? Visit the ' +\n",
              "            '<a target=\"_blank\" href=https://colab.research.google.com/notebooks/data_table.ipynb>data table notebook</a>'\n",
              "            + ' to learn more about interactive tables.';\n",
              "          element.innerHTML = '';\n",
              "          dataTable['output_type'] = 'display_data';\n",
              "          await google.colab.output.renderOutput(dataTable, element);\n",
              "          const docLink = document.createElement('div');\n",
              "          docLink.innerHTML = docLinkHtml;\n",
              "          element.appendChild(docLink);\n",
              "        }\n",
              "      </script>\n",
              "    </div>\n",
              "  </div>\n",
              "  "
            ]
          },
          "metadata": {},
          "execution_count": 57
        }
      ],
      "source": [
        "param_distribs_tree = [ \n",
        "    {'tree__max_depth': randint(1, 60), \n",
        "    'tree__max_leaf_nodes': randint(1, 50),\n",
        "    'tree__min_samples_leaf': randint(1, 20)}, \n",
        "    ]\n",
        "random_search_tree = RandomizedSearchCV(tree_cla, param_distribs_tree, n_iter=20, cv=3, \n",
        "                                 scoring='balanced_accuracy', random_state=42)\n",
        "random_search_tree.fit(X_train, y_train)\n",
        "random_search_tree.best_estimator_\n",
        "cv_res_tree_rd = pd.DataFrame(random_search_tree.cv_results_)\n",
        "cv_res_tree_rd.sort_values(by=\"mean_test_score\", ascending=False, inplace=True)\n",
        "cv_res_tree_rd.head()"
      ]
    },
    {
      "cell_type": "markdown",
      "metadata": {
        "id": "tAd3cmKPJU59"
      },
      "source": [
        "###Hyper-parameters tuning for Random forest"
      ]
    },
    {
      "cell_type": "markdown",
      "metadata": {
        "id": "yzoiTbrmJaYs"
      },
      "source": [
        "**Grid search**"
      ]
    },
    {
      "cell_type": "code",
      "execution_count": null,
      "metadata": {
        "colab": {
          "base_uri": "https://localhost:8080/",
          "height": 357
        },
        "id": "aVquJ7LfJkLL",
        "outputId": "a1054df8-8076-4bbf-f4db-8927772b4dc7"
      },
      "outputs": [
        {
          "output_type": "execute_result",
          "data": {
            "text/plain": [
              "   mean_fit_time  std_fit_time  mean_score_time  std_score_time  \\\n",
              "5      70.301602      0.380392        12.682150        0.065439   \n",
              "4      69.957608      1.059482        13.261342        0.450562   \n",
              "6      68.220885      1.529718        12.664450        0.050958   \n",
              "7      66.189566      1.678521        12.653661        0.043219   \n",
              "8      79.854994      2.421593        14.098059        0.091421   \n",
              "\n",
              "  param_random_forest__max_depth param_random_forest__min_samples_leaf  \\\n",
              "5                              5                                     5   \n",
              "4                              5                                     2   \n",
              "6                              5                                     7   \n",
              "7                              5                                     8   \n",
              "8                              8                                     2   \n",
              "\n",
              "                                              params  split0_test_score  \\\n",
              "5  {'random_forest__max_depth': 5, 'random_forest...           0.996716   \n",
              "4  {'random_forest__max_depth': 5, 'random_forest...           0.996715   \n",
              "6  {'random_forest__max_depth': 5, 'random_forest...           0.996716   \n",
              "7  {'random_forest__max_depth': 5, 'random_forest...           0.996712   \n",
              "8  {'random_forest__max_depth': 8, 'random_forest...           0.996716   \n",
              "\n",
              "   split1_test_score  split2_test_score  mean_test_score  std_test_score  \\\n",
              "5           0.997863           0.998541         0.997707        0.000753   \n",
              "4           0.997863           0.998542         0.997706        0.000754   \n",
              "6           0.997861           0.998542         0.997706        0.000753   \n",
              "7           0.997862           0.998541         0.997705        0.000755   \n",
              "8           0.997866           0.998314         0.997632        0.000673   \n",
              "\n",
              "   rank_test_score  \n",
              "5                1  \n",
              "4                2  \n",
              "6                3  \n",
              "7                4  \n",
              "8                5  "
            ],
            "text/html": [
              "\n",
              "  <div id=\"df-a0f3126f-1c84-4b69-a819-c131e2ebcf97\">\n",
              "    <div class=\"colab-df-container\">\n",
              "      <div>\n",
              "<style scoped>\n",
              "    .dataframe tbody tr th:only-of-type {\n",
              "        vertical-align: middle;\n",
              "    }\n",
              "\n",
              "    .dataframe tbody tr th {\n",
              "        vertical-align: top;\n",
              "    }\n",
              "\n",
              "    .dataframe thead th {\n",
              "        text-align: right;\n",
              "    }\n",
              "</style>\n",
              "<table border=\"1\" class=\"dataframe\">\n",
              "  <thead>\n",
              "    <tr style=\"text-align: right;\">\n",
              "      <th></th>\n",
              "      <th>mean_fit_time</th>\n",
              "      <th>std_fit_time</th>\n",
              "      <th>mean_score_time</th>\n",
              "      <th>std_score_time</th>\n",
              "      <th>param_random_forest__max_depth</th>\n",
              "      <th>param_random_forest__min_samples_leaf</th>\n",
              "      <th>params</th>\n",
              "      <th>split0_test_score</th>\n",
              "      <th>split1_test_score</th>\n",
              "      <th>split2_test_score</th>\n",
              "      <th>mean_test_score</th>\n",
              "      <th>std_test_score</th>\n",
              "      <th>rank_test_score</th>\n",
              "    </tr>\n",
              "  </thead>\n",
              "  <tbody>\n",
              "    <tr>\n",
              "      <th>5</th>\n",
              "      <td>70.301602</td>\n",
              "      <td>0.380392</td>\n",
              "      <td>12.682150</td>\n",
              "      <td>0.065439</td>\n",
              "      <td>5</td>\n",
              "      <td>5</td>\n",
              "      <td>{'random_forest__max_depth': 5, 'random_forest...</td>\n",
              "      <td>0.996716</td>\n",
              "      <td>0.997863</td>\n",
              "      <td>0.998541</td>\n",
              "      <td>0.997707</td>\n",
              "      <td>0.000753</td>\n",
              "      <td>1</td>\n",
              "    </tr>\n",
              "    <tr>\n",
              "      <th>4</th>\n",
              "      <td>69.957608</td>\n",
              "      <td>1.059482</td>\n",
              "      <td>13.261342</td>\n",
              "      <td>0.450562</td>\n",
              "      <td>5</td>\n",
              "      <td>2</td>\n",
              "      <td>{'random_forest__max_depth': 5, 'random_forest...</td>\n",
              "      <td>0.996715</td>\n",
              "      <td>0.997863</td>\n",
              "      <td>0.998542</td>\n",
              "      <td>0.997706</td>\n",
              "      <td>0.000754</td>\n",
              "      <td>2</td>\n",
              "    </tr>\n",
              "    <tr>\n",
              "      <th>6</th>\n",
              "      <td>68.220885</td>\n",
              "      <td>1.529718</td>\n",
              "      <td>12.664450</td>\n",
              "      <td>0.050958</td>\n",
              "      <td>5</td>\n",
              "      <td>7</td>\n",
              "      <td>{'random_forest__max_depth': 5, 'random_forest...</td>\n",
              "      <td>0.996716</td>\n",
              "      <td>0.997861</td>\n",
              "      <td>0.998542</td>\n",
              "      <td>0.997706</td>\n",
              "      <td>0.000753</td>\n",
              "      <td>3</td>\n",
              "    </tr>\n",
              "    <tr>\n",
              "      <th>7</th>\n",
              "      <td>66.189566</td>\n",
              "      <td>1.678521</td>\n",
              "      <td>12.653661</td>\n",
              "      <td>0.043219</td>\n",
              "      <td>5</td>\n",
              "      <td>8</td>\n",
              "      <td>{'random_forest__max_depth': 5, 'random_forest...</td>\n",
              "      <td>0.996712</td>\n",
              "      <td>0.997862</td>\n",
              "      <td>0.998541</td>\n",
              "      <td>0.997705</td>\n",
              "      <td>0.000755</td>\n",
              "      <td>4</td>\n",
              "    </tr>\n",
              "    <tr>\n",
              "      <th>8</th>\n",
              "      <td>79.854994</td>\n",
              "      <td>2.421593</td>\n",
              "      <td>14.098059</td>\n",
              "      <td>0.091421</td>\n",
              "      <td>8</td>\n",
              "      <td>2</td>\n",
              "      <td>{'random_forest__max_depth': 8, 'random_forest...</td>\n",
              "      <td>0.996716</td>\n",
              "      <td>0.997866</td>\n",
              "      <td>0.998314</td>\n",
              "      <td>0.997632</td>\n",
              "      <td>0.000673</td>\n",
              "      <td>5</td>\n",
              "    </tr>\n",
              "  </tbody>\n",
              "</table>\n",
              "</div>\n",
              "      <button class=\"colab-df-convert\" onclick=\"convertToInteractive('df-a0f3126f-1c84-4b69-a819-c131e2ebcf97')\"\n",
              "              title=\"Convert this dataframe to an interactive table.\"\n",
              "              style=\"display:none;\">\n",
              "        \n",
              "  <svg xmlns=\"http://www.w3.org/2000/svg\" height=\"24px\"viewBox=\"0 0 24 24\"\n",
              "       width=\"24px\">\n",
              "    <path d=\"M0 0h24v24H0V0z\" fill=\"none\"/>\n",
              "    <path d=\"M18.56 5.44l.94 2.06.94-2.06 2.06-.94-2.06-.94-.94-2.06-.94 2.06-2.06.94zm-11 1L8.5 8.5l.94-2.06 2.06-.94-2.06-.94L8.5 2.5l-.94 2.06-2.06.94zm10 10l.94 2.06.94-2.06 2.06-.94-2.06-.94-.94-2.06-.94 2.06-2.06.94z\"/><path d=\"M17.41 7.96l-1.37-1.37c-.4-.4-.92-.59-1.43-.59-.52 0-1.04.2-1.43.59L10.3 9.45l-7.72 7.72c-.78.78-.78 2.05 0 2.83L4 21.41c.39.39.9.59 1.41.59.51 0 1.02-.2 1.41-.59l7.78-7.78 2.81-2.81c.8-.78.8-2.07 0-2.86zM5.41 20L4 18.59l7.72-7.72 1.47 1.35L5.41 20z\"/>\n",
              "  </svg>\n",
              "      </button>\n",
              "      \n",
              "  <style>\n",
              "    .colab-df-container {\n",
              "      display:flex;\n",
              "      flex-wrap:wrap;\n",
              "      gap: 12px;\n",
              "    }\n",
              "\n",
              "    .colab-df-convert {\n",
              "      background-color: #E8F0FE;\n",
              "      border: none;\n",
              "      border-radius: 50%;\n",
              "      cursor: pointer;\n",
              "      display: none;\n",
              "      fill: #1967D2;\n",
              "      height: 32px;\n",
              "      padding: 0 0 0 0;\n",
              "      width: 32px;\n",
              "    }\n",
              "\n",
              "    .colab-df-convert:hover {\n",
              "      background-color: #E2EBFA;\n",
              "      box-shadow: 0px 1px 2px rgba(60, 64, 67, 0.3), 0px 1px 3px 1px rgba(60, 64, 67, 0.15);\n",
              "      fill: #174EA6;\n",
              "    }\n",
              "\n",
              "    [theme=dark] .colab-df-convert {\n",
              "      background-color: #3B4455;\n",
              "      fill: #D2E3FC;\n",
              "    }\n",
              "\n",
              "    [theme=dark] .colab-df-convert:hover {\n",
              "      background-color: #434B5C;\n",
              "      box-shadow: 0px 1px 3px 1px rgba(0, 0, 0, 0.15);\n",
              "      filter: drop-shadow(0px 1px 2px rgba(0, 0, 0, 0.3));\n",
              "      fill: #FFFFFF;\n",
              "    }\n",
              "  </style>\n",
              "\n",
              "      <script>\n",
              "        const buttonEl =\n",
              "          document.querySelector('#df-a0f3126f-1c84-4b69-a819-c131e2ebcf97 button.colab-df-convert');\n",
              "        buttonEl.style.display =\n",
              "          google.colab.kernel.accessAllowed ? 'block' : 'none';\n",
              "\n",
              "        async function convertToInteractive(key) {\n",
              "          const element = document.querySelector('#df-a0f3126f-1c84-4b69-a819-c131e2ebcf97');\n",
              "          const dataTable =\n",
              "            await google.colab.kernel.invokeFunction('convertToInteractive',\n",
              "                                                     [key], {});\n",
              "          if (!dataTable) return;\n",
              "\n",
              "          const docLinkHtml = 'Like what you see? Visit the ' +\n",
              "            '<a target=\"_blank\" href=https://colab.research.google.com/notebooks/data_table.ipynb>data table notebook</a>'\n",
              "            + ' to learn more about interactive tables.';\n",
              "          element.innerHTML = '';\n",
              "          dataTable['output_type'] = 'display_data';\n",
              "          await google.colab.output.renderOutput(dataTable, element);\n",
              "          const docLink = document.createElement('div');\n",
              "          docLink.innerHTML = docLinkHtml;\n",
              "          element.appendChild(docLink);\n",
              "        }\n",
              "      </script>\n",
              "    </div>\n",
              "  </div>\n",
              "  "
            ]
          },
          "metadata": {},
          "execution_count": 58
        }
      ],
      "source": [
        "param_grid_rf = [ \n",
        "    {'random_forest__max_depth': [2, 5, 8], \n",
        "    'random_forest__min_samples_leaf': [2, 5, 7, 8]} \n",
        "    ]\n",
        "grid_search_rf = GridSearchCV(rf_cla, param_grid_rf, cv=3,scoring='balanced_accuracy')\n",
        "grid_search_rf.fit(X_train, y_train)\n",
        "\n",
        "grid_search_rf.best_estimator_\n",
        "cv_res_rf_grid = pd.DataFrame(grid_search_rf.cv_results_)\n",
        "cv_res_rf_grid.sort_values(by=\"mean_test_score\", ascending=False, inplace=True)\n",
        "cv_res_rf_grid.head()"
      ]
    },
    {
      "cell_type": "markdown",
      "metadata": {
        "id": "67--VHUjJxjO"
      },
      "source": [
        "**Random search**"
      ]
    },
    {
      "cell_type": "code",
      "execution_count": null,
      "metadata": {
        "colab": {
          "base_uri": "https://localhost:8080/",
          "height": 357
        },
        "id": "loKcmyJNJw14",
        "outputId": "585ce0b9-5eba-47d9-ca07-b49fe383ebb2"
      },
      "outputs": [
        {
          "output_type": "execute_result",
          "data": {
            "text/plain": [
              "   mean_fit_time  std_fit_time  mean_score_time  std_score_time  \\\n",
              "4      47.925539      1.960851        11.271413        0.041213   \n",
              "1      73.392721      2.709859        14.438085        0.385298   \n",
              "6      62.725798      0.554921        13.934747        0.112858   \n",
              "2      65.143334      0.676598        13.254217        0.129029   \n",
              "3      62.942193      0.408719        13.853013        0.202517   \n",
              "\n",
              "  param_random_forest__max_depth param_random_forest__min_samples_leaf  \\\n",
              "4                              4                                     8   \n",
              "1                             11                                     8   \n",
              "6                             12                                     6   \n",
              "2                              7                                    19   \n",
              "3                             11                                    11   \n",
              "\n",
              "                                              params  split0_test_score  \\\n",
              "4  {'random_forest__max_depth': 4, 'random_forest...           0.996711   \n",
              "1  {'random_forest__max_depth': 11, 'random_fores...           0.996716   \n",
              "6  {'random_forest__max_depth': 12, 'random_fores...           0.996716   \n",
              "2  {'random_forest__max_depth': 7, 'random_forest...           0.996715   \n",
              "3  {'random_forest__max_depth': 11, 'random_fores...           0.996716   \n",
              "\n",
              "   split1_test_score  split2_test_score  mean_test_score  std_test_score  \\\n",
              "4           0.998091           0.998538         0.997780        0.000778   \n",
              "1           0.997863           0.998313         0.997631        0.000672   \n",
              "6           0.997862           0.998313         0.997630        0.000672   \n",
              "2           0.997860           0.998314         0.997630        0.000673   \n",
              "3           0.997862           0.998311         0.997630        0.000672   \n",
              "\n",
              "   rank_test_score  \n",
              "4                1  \n",
              "1                2  \n",
              "6                3  \n",
              "2                4  \n",
              "3                5  "
            ],
            "text/html": [
              "\n",
              "  <div id=\"df-b24d7cd1-a19b-49f8-b704-42b2072db4e6\">\n",
              "    <div class=\"colab-df-container\">\n",
              "      <div>\n",
              "<style scoped>\n",
              "    .dataframe tbody tr th:only-of-type {\n",
              "        vertical-align: middle;\n",
              "    }\n",
              "\n",
              "    .dataframe tbody tr th {\n",
              "        vertical-align: top;\n",
              "    }\n",
              "\n",
              "    .dataframe thead th {\n",
              "        text-align: right;\n",
              "    }\n",
              "</style>\n",
              "<table border=\"1\" class=\"dataframe\">\n",
              "  <thead>\n",
              "    <tr style=\"text-align: right;\">\n",
              "      <th></th>\n",
              "      <th>mean_fit_time</th>\n",
              "      <th>std_fit_time</th>\n",
              "      <th>mean_score_time</th>\n",
              "      <th>std_score_time</th>\n",
              "      <th>param_random_forest__max_depth</th>\n",
              "      <th>param_random_forest__min_samples_leaf</th>\n",
              "      <th>params</th>\n",
              "      <th>split0_test_score</th>\n",
              "      <th>split1_test_score</th>\n",
              "      <th>split2_test_score</th>\n",
              "      <th>mean_test_score</th>\n",
              "      <th>std_test_score</th>\n",
              "      <th>rank_test_score</th>\n",
              "    </tr>\n",
              "  </thead>\n",
              "  <tbody>\n",
              "    <tr>\n",
              "      <th>4</th>\n",
              "      <td>47.925539</td>\n",
              "      <td>1.960851</td>\n",
              "      <td>11.271413</td>\n",
              "      <td>0.041213</td>\n",
              "      <td>4</td>\n",
              "      <td>8</td>\n",
              "      <td>{'random_forest__max_depth': 4, 'random_forest...</td>\n",
              "      <td>0.996711</td>\n",
              "      <td>0.998091</td>\n",
              "      <td>0.998538</td>\n",
              "      <td>0.997780</td>\n",
              "      <td>0.000778</td>\n",
              "      <td>1</td>\n",
              "    </tr>\n",
              "    <tr>\n",
              "      <th>1</th>\n",
              "      <td>73.392721</td>\n",
              "      <td>2.709859</td>\n",
              "      <td>14.438085</td>\n",
              "      <td>0.385298</td>\n",
              "      <td>11</td>\n",
              "      <td>8</td>\n",
              "      <td>{'random_forest__max_depth': 11, 'random_fores...</td>\n",
              "      <td>0.996716</td>\n",
              "      <td>0.997863</td>\n",
              "      <td>0.998313</td>\n",
              "      <td>0.997631</td>\n",
              "      <td>0.000672</td>\n",
              "      <td>2</td>\n",
              "    </tr>\n",
              "    <tr>\n",
              "      <th>6</th>\n",
              "      <td>62.725798</td>\n",
              "      <td>0.554921</td>\n",
              "      <td>13.934747</td>\n",
              "      <td>0.112858</td>\n",
              "      <td>12</td>\n",
              "      <td>6</td>\n",
              "      <td>{'random_forest__max_depth': 12, 'random_fores...</td>\n",
              "      <td>0.996716</td>\n",
              "      <td>0.997862</td>\n",
              "      <td>0.998313</td>\n",
              "      <td>0.997630</td>\n",
              "      <td>0.000672</td>\n",
              "      <td>3</td>\n",
              "    </tr>\n",
              "    <tr>\n",
              "      <th>2</th>\n",
              "      <td>65.143334</td>\n",
              "      <td>0.676598</td>\n",
              "      <td>13.254217</td>\n",
              "      <td>0.129029</td>\n",
              "      <td>7</td>\n",
              "      <td>19</td>\n",
              "      <td>{'random_forest__max_depth': 7, 'random_forest...</td>\n",
              "      <td>0.996715</td>\n",
              "      <td>0.997860</td>\n",
              "      <td>0.998314</td>\n",
              "      <td>0.997630</td>\n",
              "      <td>0.000673</td>\n",
              "      <td>4</td>\n",
              "    </tr>\n",
              "    <tr>\n",
              "      <th>3</th>\n",
              "      <td>62.942193</td>\n",
              "      <td>0.408719</td>\n",
              "      <td>13.853013</td>\n",
              "      <td>0.202517</td>\n",
              "      <td>11</td>\n",
              "      <td>11</td>\n",
              "      <td>{'random_forest__max_depth': 11, 'random_fores...</td>\n",
              "      <td>0.996716</td>\n",
              "      <td>0.997862</td>\n",
              "      <td>0.998311</td>\n",
              "      <td>0.997630</td>\n",
              "      <td>0.000672</td>\n",
              "      <td>5</td>\n",
              "    </tr>\n",
              "  </tbody>\n",
              "</table>\n",
              "</div>\n",
              "      <button class=\"colab-df-convert\" onclick=\"convertToInteractive('df-b24d7cd1-a19b-49f8-b704-42b2072db4e6')\"\n",
              "              title=\"Convert this dataframe to an interactive table.\"\n",
              "              style=\"display:none;\">\n",
              "        \n",
              "  <svg xmlns=\"http://www.w3.org/2000/svg\" height=\"24px\"viewBox=\"0 0 24 24\"\n",
              "       width=\"24px\">\n",
              "    <path d=\"M0 0h24v24H0V0z\" fill=\"none\"/>\n",
              "    <path d=\"M18.56 5.44l.94 2.06.94-2.06 2.06-.94-2.06-.94-.94-2.06-.94 2.06-2.06.94zm-11 1L8.5 8.5l.94-2.06 2.06-.94-2.06-.94L8.5 2.5l-.94 2.06-2.06.94zm10 10l.94 2.06.94-2.06 2.06-.94-2.06-.94-.94-2.06-.94 2.06-2.06.94z\"/><path d=\"M17.41 7.96l-1.37-1.37c-.4-.4-.92-.59-1.43-.59-.52 0-1.04.2-1.43.59L10.3 9.45l-7.72 7.72c-.78.78-.78 2.05 0 2.83L4 21.41c.39.39.9.59 1.41.59.51 0 1.02-.2 1.41-.59l7.78-7.78 2.81-2.81c.8-.78.8-2.07 0-2.86zM5.41 20L4 18.59l7.72-7.72 1.47 1.35L5.41 20z\"/>\n",
              "  </svg>\n",
              "      </button>\n",
              "      \n",
              "  <style>\n",
              "    .colab-df-container {\n",
              "      display:flex;\n",
              "      flex-wrap:wrap;\n",
              "      gap: 12px;\n",
              "    }\n",
              "\n",
              "    .colab-df-convert {\n",
              "      background-color: #E8F0FE;\n",
              "      border: none;\n",
              "      border-radius: 50%;\n",
              "      cursor: pointer;\n",
              "      display: none;\n",
              "      fill: #1967D2;\n",
              "      height: 32px;\n",
              "      padding: 0 0 0 0;\n",
              "      width: 32px;\n",
              "    }\n",
              "\n",
              "    .colab-df-convert:hover {\n",
              "      background-color: #E2EBFA;\n",
              "      box-shadow: 0px 1px 2px rgba(60, 64, 67, 0.3), 0px 1px 3px 1px rgba(60, 64, 67, 0.15);\n",
              "      fill: #174EA6;\n",
              "    }\n",
              "\n",
              "    [theme=dark] .colab-df-convert {\n",
              "      background-color: #3B4455;\n",
              "      fill: #D2E3FC;\n",
              "    }\n",
              "\n",
              "    [theme=dark] .colab-df-convert:hover {\n",
              "      background-color: #434B5C;\n",
              "      box-shadow: 0px 1px 3px 1px rgba(0, 0, 0, 0.15);\n",
              "      filter: drop-shadow(0px 1px 2px rgba(0, 0, 0, 0.3));\n",
              "      fill: #FFFFFF;\n",
              "    }\n",
              "  </style>\n",
              "\n",
              "      <script>\n",
              "        const buttonEl =\n",
              "          document.querySelector('#df-b24d7cd1-a19b-49f8-b704-42b2072db4e6 button.colab-df-convert');\n",
              "        buttonEl.style.display =\n",
              "          google.colab.kernel.accessAllowed ? 'block' : 'none';\n",
              "\n",
              "        async function convertToInteractive(key) {\n",
              "          const element = document.querySelector('#df-b24d7cd1-a19b-49f8-b704-42b2072db4e6');\n",
              "          const dataTable =\n",
              "            await google.colab.kernel.invokeFunction('convertToInteractive',\n",
              "                                                     [key], {});\n",
              "          if (!dataTable) return;\n",
              "\n",
              "          const docLinkHtml = 'Like what you see? Visit the ' +\n",
              "            '<a target=\"_blank\" href=https://colab.research.google.com/notebooks/data_table.ipynb>data table notebook</a>'\n",
              "            + ' to learn more about interactive tables.';\n",
              "          element.innerHTML = '';\n",
              "          dataTable['output_type'] = 'display_data';\n",
              "          await google.colab.output.renderOutput(dataTable, element);\n",
              "          const docLink = document.createElement('div');\n",
              "          docLink.innerHTML = docLinkHtml;\n",
              "          element.appendChild(docLink);\n",
              "        }\n",
              "      </script>\n",
              "    </div>\n",
              "  </div>\n",
              "  "
            ]
          },
          "metadata": {},
          "execution_count": 60
        }
      ],
      "source": [
        "param_randint_rf = [\n",
        "  {'random_forest__max_depth': randint(1,20), \n",
        "    'random_forest__min_samples_leaf': randint(1,20)}, \n",
        "  ]\n",
        "\n",
        "random_search_rf = RandomizedSearchCV(rf_cla, param_randint_rf, n_iter=10, cv=3, \n",
        "                                 scoring='balanced_accuracy', random_state=42)\n",
        "random_search_rf.fit(X_train, y_train)\n",
        "\n",
        "random_search_rf.best_estimator_\n",
        "cv_res_rf_rd = pd.DataFrame(random_search_rf.cv_results_)\n",
        "cv_res_rf_rd.sort_values(by=\"mean_test_score\", ascending=False, inplace=True)\n",
        "cv_res_rf_rd.head()"
      ]
    },
    {
      "cell_type": "markdown",
      "metadata": {
        "id": "nkvoaHjWKAec"
      },
      "source": [
        "**Halving search**"
      ]
    },
    {
      "cell_type": "code",
      "execution_count": null,
      "metadata": {
        "colab": {
          "base_uri": "https://localhost:8080/",
          "height": 357
        },
        "id": "BXw6N_tkIKgf",
        "outputId": "6869a2f0-a389-434c-e007-57919d568d7c"
      },
      "outputs": [
        {
          "output_type": "execute_result",
          "data": {
            "text/plain": [
              "    iter  n_resources  mean_fit_time  std_fit_time  mean_score_time  \\\n",
              "12     2      5090076      68.852626      1.535436        14.151779   \n",
              "10     1      1696692      16.126930      0.180683         4.251162   \n",
              "9      1      1696692      17.388827      1.037079         4.403312   \n",
              "11     1      1696692      16.318118      0.971961         4.238464   \n",
              "0      0       565564       4.091439      0.162900         1.181890   \n",
              "\n",
              "    std_score_time param_random_forest__max_depth  \\\n",
              "12        0.211030                             17   \n",
              "10        0.038727                             17   \n",
              "9         0.059094                             19   \n",
              "11        0.041633                             15   \n",
              "0         0.018943                             15   \n",
              "\n",
              "   param_random_forest__min_samples_leaf  \\\n",
              "12                                     8   \n",
              "10                                     8   \n",
              "9                                     11   \n",
              "11                                     8   \n",
              "0                                      8   \n",
              "\n",
              "                                               params  split0_test_score  \\\n",
              "12  {'random_forest__max_depth': 17, 'random_fores...           0.996715   \n",
              "10  {'random_forest__max_depth': 17, 'random_fores...           0.997164   \n",
              "9   {'random_forest__max_depth': 19, 'random_fores...           0.997165   \n",
              "11  {'random_forest__max_depth': 15, 'random_fores...           0.997164   \n",
              "0   {'random_forest__max_depth': 15, 'random_fores...           0.995994   \n",
              "\n",
              "    split1_test_score  split2_test_score  mean_test_score  std_test_score  \\\n",
              "12           0.997857           0.998308         0.997627        0.000671   \n",
              "10           0.996560           0.998554         0.997426        0.000835   \n",
              "9            0.996559           0.998554         0.997426        0.000835   \n",
              "11           0.996554           0.998558         0.997425        0.000839   \n",
              "0            0.997890           0.997634         0.997173        0.000840   \n",
              "\n",
              "    rank_test_score  split0_train_score  split1_train_score  \\\n",
              "12                1            0.999916            0.999910   \n",
              "10                2            0.999904            0.999910   \n",
              "9                 3            0.999899            0.999909   \n",
              "11                4            0.999903            0.999901   \n",
              "0                 5            0.999916            0.999930   \n",
              "\n",
              "    split2_train_score  mean_train_score  std_train_score  \n",
              "12            0.999915          0.999914         0.000003  \n",
              "10            0.999922          0.999912         0.000007  \n",
              "9             0.999920          0.999909         0.000009  \n",
              "11            0.999921          0.999908         0.000009  \n",
              "0             0.999915          0.999920         0.000007  "
            ],
            "text/html": [
              "\n",
              "  <div id=\"df-53153128-0f5c-488b-ac24-168bc78e8c73\">\n",
              "    <div class=\"colab-df-container\">\n",
              "      <div>\n",
              "<style scoped>\n",
              "    .dataframe tbody tr th:only-of-type {\n",
              "        vertical-align: middle;\n",
              "    }\n",
              "\n",
              "    .dataframe tbody tr th {\n",
              "        vertical-align: top;\n",
              "    }\n",
              "\n",
              "    .dataframe thead th {\n",
              "        text-align: right;\n",
              "    }\n",
              "</style>\n",
              "<table border=\"1\" class=\"dataframe\">\n",
              "  <thead>\n",
              "    <tr style=\"text-align: right;\">\n",
              "      <th></th>\n",
              "      <th>iter</th>\n",
              "      <th>n_resources</th>\n",
              "      <th>mean_fit_time</th>\n",
              "      <th>std_fit_time</th>\n",
              "      <th>mean_score_time</th>\n",
              "      <th>std_score_time</th>\n",
              "      <th>param_random_forest__max_depth</th>\n",
              "      <th>param_random_forest__min_samples_leaf</th>\n",
              "      <th>params</th>\n",
              "      <th>split0_test_score</th>\n",
              "      <th>split1_test_score</th>\n",
              "      <th>split2_test_score</th>\n",
              "      <th>mean_test_score</th>\n",
              "      <th>std_test_score</th>\n",
              "      <th>rank_test_score</th>\n",
              "      <th>split0_train_score</th>\n",
              "      <th>split1_train_score</th>\n",
              "      <th>split2_train_score</th>\n",
              "      <th>mean_train_score</th>\n",
              "      <th>std_train_score</th>\n",
              "    </tr>\n",
              "  </thead>\n",
              "  <tbody>\n",
              "    <tr>\n",
              "      <th>12</th>\n",
              "      <td>2</td>\n",
              "      <td>5090076</td>\n",
              "      <td>68.852626</td>\n",
              "      <td>1.535436</td>\n",
              "      <td>14.151779</td>\n",
              "      <td>0.211030</td>\n",
              "      <td>17</td>\n",
              "      <td>8</td>\n",
              "      <td>{'random_forest__max_depth': 17, 'random_fores...</td>\n",
              "      <td>0.996715</td>\n",
              "      <td>0.997857</td>\n",
              "      <td>0.998308</td>\n",
              "      <td>0.997627</td>\n",
              "      <td>0.000671</td>\n",
              "      <td>1</td>\n",
              "      <td>0.999916</td>\n",
              "      <td>0.999910</td>\n",
              "      <td>0.999915</td>\n",
              "      <td>0.999914</td>\n",
              "      <td>0.000003</td>\n",
              "    </tr>\n",
              "    <tr>\n",
              "      <th>10</th>\n",
              "      <td>1</td>\n",
              "      <td>1696692</td>\n",
              "      <td>16.126930</td>\n",
              "      <td>0.180683</td>\n",
              "      <td>4.251162</td>\n",
              "      <td>0.038727</td>\n",
              "      <td>17</td>\n",
              "      <td>8</td>\n",
              "      <td>{'random_forest__max_depth': 17, 'random_fores...</td>\n",
              "      <td>0.997164</td>\n",
              "      <td>0.996560</td>\n",
              "      <td>0.998554</td>\n",
              "      <td>0.997426</td>\n",
              "      <td>0.000835</td>\n",
              "      <td>2</td>\n",
              "      <td>0.999904</td>\n",
              "      <td>0.999910</td>\n",
              "      <td>0.999922</td>\n",
              "      <td>0.999912</td>\n",
              "      <td>0.000007</td>\n",
              "    </tr>\n",
              "    <tr>\n",
              "      <th>9</th>\n",
              "      <td>1</td>\n",
              "      <td>1696692</td>\n",
              "      <td>17.388827</td>\n",
              "      <td>1.037079</td>\n",
              "      <td>4.403312</td>\n",
              "      <td>0.059094</td>\n",
              "      <td>19</td>\n",
              "      <td>11</td>\n",
              "      <td>{'random_forest__max_depth': 19, 'random_fores...</td>\n",
              "      <td>0.997165</td>\n",
              "      <td>0.996559</td>\n",
              "      <td>0.998554</td>\n",
              "      <td>0.997426</td>\n",
              "      <td>0.000835</td>\n",
              "      <td>3</td>\n",
              "      <td>0.999899</td>\n",
              "      <td>0.999909</td>\n",
              "      <td>0.999920</td>\n",
              "      <td>0.999909</td>\n",
              "      <td>0.000009</td>\n",
              "    </tr>\n",
              "    <tr>\n",
              "      <th>11</th>\n",
              "      <td>1</td>\n",
              "      <td>1696692</td>\n",
              "      <td>16.318118</td>\n",
              "      <td>0.971961</td>\n",
              "      <td>4.238464</td>\n",
              "      <td>0.041633</td>\n",
              "      <td>15</td>\n",
              "      <td>8</td>\n",
              "      <td>{'random_forest__max_depth': 15, 'random_fores...</td>\n",
              "      <td>0.997164</td>\n",
              "      <td>0.996554</td>\n",
              "      <td>0.998558</td>\n",
              "      <td>0.997425</td>\n",
              "      <td>0.000839</td>\n",
              "      <td>4</td>\n",
              "      <td>0.999903</td>\n",
              "      <td>0.999901</td>\n",
              "      <td>0.999921</td>\n",
              "      <td>0.999908</td>\n",
              "      <td>0.000009</td>\n",
              "    </tr>\n",
              "    <tr>\n",
              "      <th>0</th>\n",
              "      <td>0</td>\n",
              "      <td>565564</td>\n",
              "      <td>4.091439</td>\n",
              "      <td>0.162900</td>\n",
              "      <td>1.181890</td>\n",
              "      <td>0.018943</td>\n",
              "      <td>15</td>\n",
              "      <td>8</td>\n",
              "      <td>{'random_forest__max_depth': 15, 'random_fores...</td>\n",
              "      <td>0.995994</td>\n",
              "      <td>0.997890</td>\n",
              "      <td>0.997634</td>\n",
              "      <td>0.997173</td>\n",
              "      <td>0.000840</td>\n",
              "      <td>5</td>\n",
              "      <td>0.999916</td>\n",
              "      <td>0.999930</td>\n",
              "      <td>0.999915</td>\n",
              "      <td>0.999920</td>\n",
              "      <td>0.000007</td>\n",
              "    </tr>\n",
              "  </tbody>\n",
              "</table>\n",
              "</div>\n",
              "      <button class=\"colab-df-convert\" onclick=\"convertToInteractive('df-53153128-0f5c-488b-ac24-168bc78e8c73')\"\n",
              "              title=\"Convert this dataframe to an interactive table.\"\n",
              "              style=\"display:none;\">\n",
              "        \n",
              "  <svg xmlns=\"http://www.w3.org/2000/svg\" height=\"24px\"viewBox=\"0 0 24 24\"\n",
              "       width=\"24px\">\n",
              "    <path d=\"M0 0h24v24H0V0z\" fill=\"none\"/>\n",
              "    <path d=\"M18.56 5.44l.94 2.06.94-2.06 2.06-.94-2.06-.94-.94-2.06-.94 2.06-2.06.94zm-11 1L8.5 8.5l.94-2.06 2.06-.94-2.06-.94L8.5 2.5l-.94 2.06-2.06.94zm10 10l.94 2.06.94-2.06 2.06-.94-2.06-.94-.94-2.06-.94 2.06-2.06.94z\"/><path d=\"M17.41 7.96l-1.37-1.37c-.4-.4-.92-.59-1.43-.59-.52 0-1.04.2-1.43.59L10.3 9.45l-7.72 7.72c-.78.78-.78 2.05 0 2.83L4 21.41c.39.39.9.59 1.41.59.51 0 1.02-.2 1.41-.59l7.78-7.78 2.81-2.81c.8-.78.8-2.07 0-2.86zM5.41 20L4 18.59l7.72-7.72 1.47 1.35L5.41 20z\"/>\n",
              "  </svg>\n",
              "      </button>\n",
              "      \n",
              "  <style>\n",
              "    .colab-df-container {\n",
              "      display:flex;\n",
              "      flex-wrap:wrap;\n",
              "      gap: 12px;\n",
              "    }\n",
              "\n",
              "    .colab-df-convert {\n",
              "      background-color: #E8F0FE;\n",
              "      border: none;\n",
              "      border-radius: 50%;\n",
              "      cursor: pointer;\n",
              "      display: none;\n",
              "      fill: #1967D2;\n",
              "      height: 32px;\n",
              "      padding: 0 0 0 0;\n",
              "      width: 32px;\n",
              "    }\n",
              "\n",
              "    .colab-df-convert:hover {\n",
              "      background-color: #E2EBFA;\n",
              "      box-shadow: 0px 1px 2px rgba(60, 64, 67, 0.3), 0px 1px 3px 1px rgba(60, 64, 67, 0.15);\n",
              "      fill: #174EA6;\n",
              "    }\n",
              "\n",
              "    [theme=dark] .colab-df-convert {\n",
              "      background-color: #3B4455;\n",
              "      fill: #D2E3FC;\n",
              "    }\n",
              "\n",
              "    [theme=dark] .colab-df-convert:hover {\n",
              "      background-color: #434B5C;\n",
              "      box-shadow: 0px 1px 3px 1px rgba(0, 0, 0, 0.15);\n",
              "      filter: drop-shadow(0px 1px 2px rgba(0, 0, 0, 0.3));\n",
              "      fill: #FFFFFF;\n",
              "    }\n",
              "  </style>\n",
              "\n",
              "      <script>\n",
              "        const buttonEl =\n",
              "          document.querySelector('#df-53153128-0f5c-488b-ac24-168bc78e8c73 button.colab-df-convert');\n",
              "        buttonEl.style.display =\n",
              "          google.colab.kernel.accessAllowed ? 'block' : 'none';\n",
              "\n",
              "        async function convertToInteractive(key) {\n",
              "          const element = document.querySelector('#df-53153128-0f5c-488b-ac24-168bc78e8c73');\n",
              "          const dataTable =\n",
              "            await google.colab.kernel.invokeFunction('convertToInteractive',\n",
              "                                                     [key], {});\n",
              "          if (!dataTable) return;\n",
              "\n",
              "          const docLinkHtml = 'Like what you see? Visit the ' +\n",
              "            '<a target=\"_blank\" href=https://colab.research.google.com/notebooks/data_table.ipynb>data table notebook</a>'\n",
              "            + ' to learn more about interactive tables.';\n",
              "          element.innerHTML = '';\n",
              "          dataTable['output_type'] = 'display_data';\n",
              "          await google.colab.output.renderOutput(dataTable, element);\n",
              "          const docLink = document.createElement('div');\n",
              "          docLink.innerHTML = docLinkHtml;\n",
              "          element.appendChild(docLink);\n",
              "        }\n",
              "      </script>\n",
              "    </div>\n",
              "  </div>\n",
              "  "
            ]
          },
          "metadata": {},
          "execution_count": 61
        }
      ],
      "source": [
        "#change the scope by the results in grid search and random search. \n",
        "param_halving_grid = [ \n",
        "    {'random_forest__max_depth': [15, 17,19], \n",
        "    'random_forest__min_samples_leaf': [8,10,11]} \n",
        "    ]\n",
        "\n",
        "halving_grid_search_rf = HalvingGridSearchCV(rf_cla, param_halving_grid, cv=3, \n",
        "                                    min_resources='exhaust', # use all data in the last round, back calculate to determine how much to start with\n",
        "                                    scoring='balanced_accuracy')\n",
        "halving_grid_search_rf.fit(X_train, y_train)\n",
        "\n",
        "halving_grid_search_rf.best_estimator_\n",
        "cv_res_rf_halv = pd.DataFrame(halving_grid_search_rf.cv_results_)\n",
        "cv_res_rf_halv.sort_values(by=['iter', 'mean_test_score'], ascending=False, inplace=True)\n",
        "cv_res_rf_halv.head()"
      ]
    },
    {
      "cell_type": "code",
      "source": [
        "model = random_search_rf.best_estimator_\n",
        "final_pred_rf = model.predict(X_test)\n",
        "train_pred_rf = model.predict(X_train)"
      ],
      "metadata": {
        "id": "6rM0-bxLyJV8"
      },
      "execution_count": null,
      "outputs": []
    },
    {
      "cell_type": "code",
      "source": [
        "print(\"Print R2 score of Test:\",r2_score(y_test, final_pred_rf))\n",
        "print(\"Print R2 Score of Training\",r2_score(y_train, train_pred_rf))"
      ],
      "metadata": {
        "colab": {
          "base_uri": "https://localhost:8080/"
        },
        "id": "60q4SFMg5Fgr",
        "outputId": "0ce435c6-8483-4134-960d-ddb5e1fc1099"
      },
      "execution_count": null,
      "outputs": [
        {
          "output_type": "stream",
          "name": "stdout",
          "text": [
            "Print R2 score of Test: 0.85826772417139\n",
            "Print R2 Score of Training 0.8638074528286463\n"
          ]
        }
      ]
    },
    {
      "cell_type": "code",
      "source": [
        "model = random_search_tree.best_estimator_\n",
        "final_pred_dt = model.predict(X_test)\n",
        "train_pred_dt = model.predict(X_train)"
      ],
      "metadata": {
        "id": "5eD5RcJC-bYY"
      },
      "execution_count": null,
      "outputs": []
    },
    {
      "cell_type": "code",
      "source": [
        "print(\"Print R2 score of Test:\",r2_score(y_test, final_pred_dt))\n",
        "print(\"Print R2 Score of Training\",r2_score(y_train, train_pred_dt))"
      ],
      "metadata": {
        "colab": {
          "base_uri": "https://localhost:8080/"
        },
        "id": "6iGppc2B-kS_",
        "outputId": "ad597896-6b2c-46d1-c2ef-253484b4862c"
      },
      "execution_count": null,
      "outputs": [
        {
          "output_type": "stream",
          "name": "stdout",
          "text": [
            "Print R2 score of Test: 0.5693049376759911\n",
            "Print R2 Score of Training 0.5770702290755052\n"
          ]
        }
      ]
    },
    {
      "cell_type": "code",
      "source": [
        "#print score and confusion matrix for logistic regression\n",
        "print(f'Test accuracy score was {accuracy_score(y_test, final_pred_rf):2.2%}.')\n",
        "print(f'Test balanced accuracy score was {balanced_accuracy_score(y_test, final_pred_rf):2.2%}.')\n",
        "print(f'Test auc score was {roc_auc_score(y_test, final_pred_rf):2.2%}.')\n",
        "print(f'Test precision score was {precision_score(y_test, final_pred_rf):2.2%}.')#precision score was just 2.62 means lots of non fraud marked as 1.\n",
        "print(f'Test recall score was {recall_score(y_test, final_pred_rf):2.2%}.')"
      ],
      "metadata": {
        "colab": {
          "base_uri": "https://localhost:8080/"
        },
        "id": "bVwu5-p-0dvT",
        "outputId": "f3dd209b-0674-4721-fbbe-3a8c5c73ddab"
      },
      "execution_count": null,
      "outputs": [
        {
          "output_type": "stream",
          "name": "stdout",
          "text": [
            "Test accuracy score was 99.98%.\n",
            "Test balanced accuracy score was 99.84%.\n",
            "Test auc score was 99.84%.\n",
            "Test precision score was 87.80%.\n",
            "Test recall score was 99.69%.\n"
          ]
        }
      ]
    },
    {
      "cell_type": "code",
      "source": [
        "ConfusionMatrixDisplay.from_predictions(y_test, final_pred_rf);\n",
        "print(classification_report(y_test, final_pred_rf))"
      ],
      "metadata": {
        "colab": {
          "base_uri": "https://localhost:8080/",
          "height": 451
        },
        "id": "Gk2YH0p00eo0",
        "outputId": "25715569-2cb5-4f16-be58-21b0a092b981"
      },
      "execution_count": null,
      "outputs": [
        {
          "output_type": "stream",
          "name": "stdout",
          "text": [
            "              precision    recall  f1-score   support\n",
            "\n",
            "           0       1.00      1.00      1.00   1270882\n",
            "           1       0.88      1.00      0.93      1639\n",
            "\n",
            "    accuracy                           1.00   1272521\n",
            "   macro avg       0.94      1.00      0.97   1272521\n",
            "weighted avg       1.00      1.00      1.00   1272521\n",
            "\n"
          ]
        },
        {
          "output_type": "display_data",
          "data": {
            "text/plain": [
              "<Figure size 432x288 with 2 Axes>"
            ],
            "image/png": "[encoded data removed]"
          },
          "metadata": {
            "needs_background": "light"
          }
        }
      ]
    }
  ],
  "metadata": {
    "accelerator": "TPU",
    "colab": {
      "provenance": []
    },
    "gpuClass": "standard",
    "kernelspec": {
      "display_name": "Python 3",
      "name": "python3"
    },
    "language_info": {
      "name": "python"
    }
  },
  "nbformat": 4,
  "nbformat_minor": 0
}